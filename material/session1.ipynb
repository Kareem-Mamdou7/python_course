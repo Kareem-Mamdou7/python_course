{
 "cells": [
  {
   "cell_type": "markdown",
   "id": "cb616948-a136-40df-973e-1b30118b4899",
   "metadata": {},
   "source": [
    "# Python fundamentals"
   ]
  },
  {
   "cell_type": "markdown",
   "id": "c3080614",
   "metadata": {},
   "source": [
    "********************"
   ]
  },
  {
   "cell_type": "markdown",
   "id": "f0d61353",
   "metadata": {
    "jp-MarkdownHeadingCollapsed": true
   },
   "source": [
    "### Print lines\n"
   ]
  },
  {
   "cell_type": "code",
   "execution_count": 4,
   "id": "ad7a5bda-07bd-4f0b-8a4a-9f1795942464",
   "metadata": {},
   "outputs": [
    {
     "name": "stdout",
     "output_type": "stream",
     "text": [
      "Hellotrhthjtrhjthihhhnt World\n"
     ]
    }
   ],
   "source": [
    "print(\"Hellotrhthjtrhjthihhhnt World\")"
   ]
  },
  {
   "cell_type": "code",
   "execution_count": 2,
   "id": "9a0901b8",
   "metadata": {},
   "outputs": [
    {
     "name": "stdout",
     "output_type": "stream",
     "text": [
      "Hello, World!\n",
      "let's go\n"
     ]
    }
   ],
   "source": [
    "# Print hello worls\n",
    "print(\"Hello, World!\")\n",
    "print(\"let's go\")\n"
   ]
  },
  {
   "cell_type": "code",
   "execution_count": null,
   "id": "63930c0c-92e0-452b-94c0-70db1b8aa500",
   "metadata": {},
   "outputs": [],
   "source": [
    "print(22,end='')"
   ]
  },
  {
   "cell_type": "code",
   "execution_count": 12,
   "id": "1cf09fe1",
   "metadata": {},
   "outputs": [
    {
     "name": "stdout",
     "output_type": "stream",
     "text": [
      "10 2 15\n",
      "\n",
      "10\n",
      "2\n",
      "15\n",
      "\n",
      "10 ------=====ef-e--e-e-lv,cld,vo215\n"
     ]
    }
   ],
   "source": [
    "print(10, 2, 15)\n",
    "\n",
    "print()\n",
    "\n",
    "print(10)\n",
    "print(2)\n",
    "print(15)\n",
    "\n",
    "print()\n",
    "\n",
    "print(\"Yasmin\", end=' ------=====ef-e--e-e-lv,cld,vo         ')\n",
    "print(2, end='')\n",
    "print(15)"
   ]
  },
  {
   "cell_type": "markdown",
   "id": "98e77fbd-4071-4fde-bf93-37a20cd51572",
   "metadata": {
    "jp-MarkdownHeadingCollapsed": true
   },
   "source": [
    "### F-Strings\n",
    "You can insert a variable into a string using f-strings.\n",
    "The syntax is simple, just insert the variable\n",
    "in-between a set of curly braces {}."
   ]
  },
  {
   "cell_type": "code",
   "execution_count": 19,
   "id": "e4bf2202-3296-4e53-8b8f-560610868508",
   "metadata": {},
   "outputs": [],
   "source": [
    "number = 15"
   ]
  },
  {
   "cell_type": "code",
   "execution_count": 20,
   "id": "5189a45e",
   "metadata": {},
   "outputs": [
    {
     "name": "stdout",
     "output_type": "stream",
     "text": [
      "Ahmed is 15 years old\n"
     ]
    }
   ],
   "source": [
    "print(f'Ahmed is {number} years old')"
   ]
  },
  {
   "cell_type": "code",
   "execution_count": 21,
   "id": "ce465d55",
   "metadata": {},
   "outputs": [
    {
     "name": "stdout",
     "output_type": "stream",
     "text": [
      "Esraa is 25 years old, while Ahmed is 20 years old\n"
     ]
    }
   ],
   "source": [
    "print(\"Esraa is {} years old, while Ahmed is {} years old\".format(25, 20))"
   ]
  },
  {
   "cell_type": "code",
   "execution_count": 24,
   "id": "3e8b0aca",
   "metadata": {},
   "outputs": [
    {
     "name": "stdout",
     "output_type": "stream",
     "text": [
      "Esraa is 20 years old, while Ahmed is 25 years old, fawzy is 30, magda is 50\n"
     ]
    }
   ],
   "source": [
    "print(\"Esraa is {1} years old, while Ahmed is {0} years old, fawzy is {2}, magda is {other}\".format(25, 20,30, other = 50))"
   ]
  },
  {
   "cell_type": "markdown",
   "id": "f01fbfd7-3da9-438d-b2ba-f428143bdb2e",
   "metadata": {
    "jp-MarkdownHeadingCollapsed": true
   },
   "source": [
    "\n",
    "# <font color=orange> Strings </font>"
   ]
  },
  {
   "cell_type": "code",
   "execution_count": 27,
   "id": "889550b4-7a38-415c-859a-e21e49881117",
   "metadata": {},
   "outputs": [
    {
     "name": "stdout",
     "output_type": "stream",
     "text": [
      "e\n",
      ",\n",
      "W\n",
      "d\n"
     ]
    }
   ],
   "source": [
    "# Strings are arrays\n",
    "\n",
    "a = \"Hello,World!\"\n",
    "print(a[1])\n",
    "print(a[5])\n",
    "print(a[6])\n",
    "print(a[-2])\n"
   ]
  },
  {
   "cell_type": "code",
   "execution_count": 29,
   "id": "cf203c26-7a12-447b-a3d8-ee206ca0c1fe",
   "metadata": {},
   "outputs": [
    {
     "data": {
      "text/plain": [
       "6"
      ]
     },
     "execution_count": 29,
     "metadata": {},
     "output_type": "execute_result"
    }
   ],
   "source": [
    "# get number of letters\n",
    "\n",
    "a = \"banana\"\n",
    "\n",
    "# print(len(a))\n",
    "len(a)"
   ]
  },
  {
   "cell_type": "code",
   "execution_count": null,
   "id": "602f1884-b61b-4c7b-af21-5a4f42a359ba",
   "metadata": {},
   "outputs": [],
   "source": [
    "# get number of letters\n",
    "\n",
    "a = \"banana\"\n",
    "\n",
    "print(len(a))"
   ]
  },
  {
   "cell_type": "code",
   "execution_count": 42,
   "id": "aad5edf7-c37d-48a0-8762-253b94f7a20b",
   "metadata": {},
   "outputs": [
    {
     "name": "stdout",
     "output_type": "stream",
     "text": [
      "True\n"
     ]
    }
   ],
   "source": [
    "# Check word existance\n",
    "\n",
    "txt = 'I will play football tomorrow'\n",
    "print('football' in txt)\n",
    "print('tennis' not in txt)"
   ]
  },
  {
   "cell_type": "markdown",
   "id": "4e8d3324-3a31-4f09-a54c-b4ff303ab726",
   "metadata": {},
   "source": [
    "### string manipulation"
   ]
  },
  {
   "cell_type": "code",
   "execution_count": 48,
   "id": "66e1e7be",
   "metadata": {},
   "outputs": [
    {
     "name": "stdout",
     "output_type": "stream",
     "text": [
      "########## let's learn python###########\n",
      "\n",
      " let's learn python*********************\n",
      "\n",
      "--------------------- let's learn python\n"
     ]
    }
   ],
   "source": [
    "string = \" let's learn python\"\n",
    "\n",
    "print(string.center(40, '#'))\n",
    "print()\n",
    "print(string.ljust(40, '*'))\n",
    "print()\n",
    "print(string.rjust(40, '-'))"
   ]
  },
  {
   "cell_type": "code",
   "execution_count": 49,
   "id": "879874b2-1c33-4739-9ad7-15fb03348b64",
   "metadata": {},
   "outputs": [
    {
     "name": "stdout",
     "output_type": "stream",
     "text": [
      "HELLO, WORLD!\n",
      "hello, world!\n"
     ]
    }
   ],
   "source": [
    "a = \"Hello, World!\"\n",
    "print(a.upper())\n",
    "\n",
    "a = \"Hello, World!\"\n",
    "print(a.lower())"
   ]
  },
  {
   "cell_type": "code",
   "execution_count": 50,
   "id": "5392771b-0f3a-4561-a018-387c973ac702",
   "metadata": {},
   "outputs": [
    {
     "name": "stdout",
     "output_type": "stream",
     "text": [
      "Hello, World!\n"
     ]
    }
   ],
   "source": [
    "# remove white space in the beginin and ending of the string\n",
    "\n",
    "a = \" Hello, World! \"\n",
    "print(a.strip())"
   ]
  },
  {
   "cell_type": "code",
   "execution_count": 51,
   "id": "181d8fdd-1eb7-468d-bfe8-5c4f9c08743c",
   "metadata": {},
   "outputs": [
    {
     "name": "stdout",
     "output_type": "stream",
     "text": [
      "Jello, World!\n"
     ]
    }
   ],
   "source": [
    "# Replace letters\n",
    "\n",
    "a = \"Hello, World!\"\n",
    "print(a.replace(\"H\", \"J\"))"
   ]
  },
  {
   "cell_type": "code",
   "execution_count": 52,
   "id": "38d13028-ee1f-4e69-a177-7b35f77d2001",
   "metadata": {},
   "outputs": [
    {
     "name": "stdout",
     "output_type": "stream",
     "text": [
      "['Hello', ' World!']\n"
     ]
    }
   ],
   "source": [
    "# split\n",
    "a = \"Hello, World!\"\n",
    "print(a.split(\",\"))"
   ]
  },
  {
   "cell_type": "code",
   "execution_count": 53,
   "id": "5aa7cf50-cd4d-49df-b5b5-5beba93623d8",
   "metadata": {},
   "outputs": [
    {
     "name": "stdout",
     "output_type": "stream",
     "text": [
      "True\n",
      "Hello, World! From My Python Code\n",
      "hello world\n"
     ]
    }
   ],
   "source": [
    "a ='HI'\n",
    "print(a.isupper())\n",
    "\n",
    "a = \"hello, world! from my python code\"\n",
    "print(a.title())\n",
    "\n",
    "a = 'hello'\n",
    "b = 'world'\n",
    "\n",
    "print(a + ' ' + b)"
   ]
  },
  {
   "cell_type": "code",
   "execution_count": null,
   "id": "7cdf5a8a-8951-4bb7-9ed9-827510de66fe",
   "metadata": {},
   "outputs": [],
   "source": []
  },
  {
   "cell_type": "code",
   "execution_count": null,
   "id": "cbb09350-5766-43e9-a615-b267d7252a19",
   "metadata": {},
   "outputs": [],
   "source": []
  },
  {
   "cell_type": "markdown",
   "id": "a929b2c6",
   "metadata": {},
   "source": [
    "### Print system parameters"
   ]
  },
  {
   "cell_type": "code",
   "execution_count": 55,
   "id": "ab40d623",
   "metadata": {},
   "outputs": [
    {
     "name": "stdout",
     "output_type": "stream",
     "text": [
      "3.11.2 (tags/v3.11.2:878ead1, Feb  7 2023, 16:38:35) [MSC v.1934 64 bit (AMD64)]\n"
     ]
    }
   ],
   "source": [
    "# print python version\n",
    "\n",
    "import sys\n",
    "\n",
    "print(sys.version)"
   ]
  },
  {
   "cell_type": "code",
   "execution_count": 56,
   "id": "8d1ba39b",
   "metadata": {},
   "outputs": [
    {
     "name": "stdout",
     "output_type": "stream",
     "text": [
      "['C:\\\\Users\\\\Green\\\\AppData\\\\Local\\\\Programs\\\\Python\\\\Python311\\\\python311.zip', 'C:\\\\Users\\\\Green\\\\AppData\\\\Local\\\\Programs\\\\Python\\\\Python311\\\\DLLs', 'C:\\\\Users\\\\Green\\\\AppData\\\\Local\\\\Programs\\\\Python\\\\Python311\\\\Lib', 'C:\\\\Users\\\\Green\\\\AppData\\\\Local\\\\Programs\\\\Python\\\\Python311', '', 'C:\\\\Users\\\\Green\\\\AppData\\\\Local\\\\Programs\\\\Python\\\\Python311\\\\Lib\\\\site-packages', 'C:\\\\Users\\\\Green\\\\AppData\\\\Local\\\\Programs\\\\Python\\\\Python311\\\\Lib\\\\site-packages\\\\win32', 'C:\\\\Users\\\\Green\\\\AppData\\\\Local\\\\Programs\\\\Python\\\\Python311\\\\Lib\\\\site-packages\\\\win32\\\\lib', 'C:\\\\Users\\\\Green\\\\AppData\\\\Local\\\\Programs\\\\Python\\\\Python311\\\\Lib\\\\site-packages\\\\Pythonwin']\n"
     ]
    }
   ],
   "source": [
    "# print environment paths\n",
    "\n",
    "print(sys.path)"
   ]
  },
  {
   "cell_type": "code",
   "execution_count": 57,
   "id": "afc9f15b",
   "metadata": {
    "scrolled": true
   },
   "outputs": [
    {
     "name": "stdout",
     "output_type": "stream",
     "text": [
      "{'sys': <module 'sys' (built-in)>, 'builtins': <module 'builtins' (built-in)>, '_frozen_importlib': <module '_frozen_importlib' (frozen)>, '_imp': <module '_imp' (built-in)>, '_thread': <module '_thread' (built-in)>, '_warnings': <module '_warnings' (built-in)>, '_weakref': <module '_weakref' (built-in)>, 'winreg': <module 'winreg' (built-in)>, '_io': <module '_io' (built-in)>, 'marshal': <module 'marshal' (built-in)>, 'nt': <module 'nt' (built-in)>, '_frozen_importlib_external': <module '_frozen_importlib_external' (frozen)>, 'time': <module 'time' (built-in)>, 'zipimport': <module 'zipimport' (frozen)>, '_codecs': <module '_codecs' (built-in)>, 'codecs': <module 'codecs' (frozen)>, 'encodings.aliases': <module 'encodings.aliases' from 'C:\\\\Users\\\\Green\\\\AppData\\\\Local\\\\Programs\\\\Python\\\\Python311\\\\Lib\\\\encodings\\\\aliases.py'>, 'encodings': <module 'encodings' from 'C:\\\\Users\\\\Green\\\\AppData\\\\Local\\\\Programs\\\\Python\\\\Python311\\\\Lib\\\\encodings\\\\__init__.py'>, 'encodings.utf_8': <module 'encodings.utf_8' from 'C:\\\\Users\\\\Green\\\\AppData\\\\Local\\\\Programs\\\\Python\\\\Python311\\\\Lib\\\\encodings\\\\utf_8.py'>, 'encodings.cp1252': <module 'encodings.cp1252' from 'C:\\\\Users\\\\Green\\\\AppData\\\\Local\\\\Programs\\\\Python\\\\Python311\\\\Lib\\\\encodings\\\\cp1252.py'>, '_signal': <module '_signal' (built-in)>, '_abc': <module '_abc' (built-in)>, 'abc': <module 'abc' (frozen)>, 'io': <module 'io' (frozen)>, '__main__': <module '__main__'>, '_stat': <module '_stat' (built-in)>, 'stat': <module 'stat' (frozen)>, '_collections_abc': <module '_collections_abc' (frozen)>, 'genericpath': <module 'genericpath' (frozen)>, '_winapi': <module '_winapi' (built-in)>, 'ntpath': <module 'ntpath' (frozen)>, 'os.path': <module 'ntpath' (frozen)>, 'os': <module 'os' (frozen)>, '_sitebuiltins': <module '_sitebuiltins' (frozen)>, '_distutils_hack': <module '_distutils_hack' from 'C:\\\\Users\\\\Green\\\\AppData\\\\Local\\\\Programs\\\\Python\\\\Python311\\\\Lib\\\\site-packages\\\\_distutils_hack\\\\__init__.py'>, 'pywin32_system32': <module 'pywin32_system32' (<_frozen_importlib_external.NamespaceLoader object at 0x000001CB421F7390>)>, 'pywin32_bootstrap': <module 'pywin32_bootstrap' from 'C:\\\\Users\\\\Green\\\\AppData\\\\Local\\\\Programs\\\\Python\\\\Python311\\\\Lib\\\\site-packages\\\\win32\\\\lib\\\\pywin32_bootstrap.py'>, 'site': <module 'site' (frozen)>, 'importlib._bootstrap': <module '_frozen_importlib' (frozen)>, 'importlib._bootstrap_external': <module '_frozen_importlib_external' (frozen)>, 'warnings': <module 'warnings' from 'C:\\\\Users\\\\Green\\\\AppData\\\\Local\\\\Programs\\\\Python\\\\Python311\\\\Lib\\\\warnings.py'>, 'importlib': <module 'importlib' from 'C:\\\\Users\\\\Green\\\\AppData\\\\Local\\\\Programs\\\\Python\\\\Python311\\\\Lib\\\\importlib\\\\__init__.py'>, 'importlib.machinery': <module 'importlib.machinery' (frozen)>, 'importlib._abc': <module 'importlib._abc' from 'C:\\\\Users\\\\Green\\\\AppData\\\\Local\\\\Programs\\\\Python\\\\Python311\\\\Lib\\\\importlib\\\\_abc.py'>, 'itertools': <module 'itertools' (built-in)>, 'keyword': <module 'keyword' from 'C:\\\\Users\\\\Green\\\\AppData\\\\Local\\\\Programs\\\\Python\\\\Python311\\\\Lib\\\\keyword.py'>, '_operator': <module '_operator' (built-in)>, 'operator': <module 'operator' from 'C:\\\\Users\\\\Green\\\\AppData\\\\Local\\\\Programs\\\\Python\\\\Python311\\\\Lib\\\\operator.py'>, 'reprlib': <module 'reprlib' from 'C:\\\\Users\\\\Green\\\\AppData\\\\Local\\\\Programs\\\\Python\\\\Python311\\\\Lib\\\\reprlib.py'>, '_collections': <module '_collections' (built-in)>, 'collections': <module 'collections' from 'C:\\\\Users\\\\Green\\\\AppData\\\\Local\\\\Programs\\\\Python\\\\Python311\\\\Lib\\\\collections\\\\__init__.py'>, 'types': <module 'types' from 'C:\\\\Users\\\\Green\\\\AppData\\\\Local\\\\Programs\\\\Python\\\\Python311\\\\Lib\\\\types.py'>, '_functools': <module '_functools' (built-in)>, 'functools': <module 'functools' from 'C:\\\\Users\\\\Green\\\\AppData\\\\Local\\\\Programs\\\\Python\\\\Python311\\\\Lib\\\\functools.py'>, 'contextlib': <module 'contextlib' from 'C:\\\\Users\\\\Green\\\\AppData\\\\Local\\\\Programs\\\\Python\\\\Python311\\\\Lib\\\\contextlib.py'>, 'importlib.util': <module 'importlib.util' (frozen)>, 'runpy': <module 'runpy' (frozen)>, 'posixpath': <module 'posixpath' (frozen)>, 'enum': <module 'enum' from 'C:\\\\Users\\\\Green\\\\AppData\\\\Local\\\\Programs\\\\Python\\\\Python311\\\\Lib\\\\enum.py'>, '_sre': <module '_sre' (built-in)>, 're._constants': <module 're._constants' from 'C:\\\\Users\\\\Green\\\\AppData\\\\Local\\\\Programs\\\\Python\\\\Python311\\\\Lib\\\\re\\\\_constants.py'>, 're._parser': <module 're._parser' from 'C:\\\\Users\\\\Green\\\\AppData\\\\Local\\\\Programs\\\\Python\\\\Python311\\\\Lib\\\\re\\\\_parser.py'>, 're._casefix': <module 're._casefix' from 'C:\\\\Users\\\\Green\\\\AppData\\\\Local\\\\Programs\\\\Python\\\\Python311\\\\Lib\\\\re\\\\_casefix.py'>, 're._compiler': <module 're._compiler' from 'C:\\\\Users\\\\Green\\\\AppData\\\\Local\\\\Programs\\\\Python\\\\Python311\\\\Lib\\\\re\\\\_compiler.py'>, 'copyreg': <module 'copyreg' from 'C:\\\\Users\\\\Green\\\\AppData\\\\Local\\\\Programs\\\\Python\\\\Python311\\\\Lib\\\\copyreg.py'>, 're': <module 're' from 'C:\\\\Users\\\\Green\\\\AppData\\\\Local\\\\Programs\\\\Python\\\\Python311\\\\Lib\\\\re\\\\__init__.py'>, 'fnmatch': <module 'fnmatch' from 'C:\\\\Users\\\\Green\\\\AppData\\\\Local\\\\Programs\\\\Python\\\\Python311\\\\Lib\\\\fnmatch.py'>, 'errno': <module 'errno' (built-in)>, 'urllib': <module 'urllib' from 'C:\\\\Users\\\\Green\\\\AppData\\\\Local\\\\Programs\\\\Python\\\\Python311\\\\Lib\\\\urllib\\\\__init__.py'>, 'urllib.parse': <module 'urllib.parse' from 'C:\\\\Users\\\\Green\\\\AppData\\\\Local\\\\Programs\\\\Python\\\\Python311\\\\Lib\\\\urllib\\\\parse.py'>, 'pathlib': <module 'pathlib' from 'C:\\\\Users\\\\Green\\\\AppData\\\\Local\\\\Programs\\\\Python\\\\Python311\\\\Lib\\\\pathlib.py'>, 'collections.abc': <module 'collections.abc' from 'C:\\\\Users\\\\Green\\\\AppData\\\\Local\\\\Programs\\\\Python\\\\Python311\\\\Lib\\\\collections\\\\abc.py'>, '_typing': <module '_typing' (built-in)>, 'typing.io': <class 'typing.io'>, 'typing.re': <class 'typing.re'>, 'typing': <module 'typing' from 'C:\\\\Users\\\\Green\\\\AppData\\\\Local\\\\Programs\\\\Python\\\\Python311\\\\Lib\\\\typing.py'>, 'ipykernel._version': <module 'ipykernel._version' from 'C:\\\\Users\\\\Green\\\\AppData\\\\Local\\\\Programs\\\\Python\\\\Python311\\\\Lib\\\\site-packages\\\\ipykernel\\\\_version.py'>, '__future__': <module '__future__' from 'C:\\\\Users\\\\Green\\\\AppData\\\\Local\\\\Programs\\\\Python\\\\Python311\\\\Lib\\\\__future__.py'>, '_json': <module '_json' (built-in)>, 'json.scanner': <module 'json.scanner' from 'C:\\\\Users\\\\Green\\\\AppData\\\\Local\\\\Programs\\\\Python\\\\Python311\\\\Lib\\\\json\\\\scanner.py'>, 'json.decoder': <module 'json.decoder' from 'C:\\\\Users\\\\Green\\\\AppData\\\\Local\\\\Programs\\\\Python\\\\Python311\\\\Lib\\\\json\\\\decoder.py'>, 'json.encoder': <module 'json.encoder' from 'C:\\\\Users\\\\Green\\\\AppData\\\\Local\\\\Programs\\\\Python\\\\Python311\\\\Lib\\\\json\\\\encoder.py'>, 'json': <module 'json' from 'C:\\\\Users\\\\Green\\\\AppData\\\\Local\\\\Programs\\\\Python\\\\Python311\\\\Lib\\\\json\\\\__init__.py'>, '_locale': <module '_locale' (built-in)>, 'locale': <module 'locale' from 'C:\\\\Users\\\\Green\\\\AppData\\\\Local\\\\Programs\\\\Python\\\\Python311\\\\Lib\\\\locale.py'>, 'signal': <module 'signal' from 'C:\\\\Users\\\\Green\\\\AppData\\\\Local\\\\Programs\\\\Python\\\\Python311\\\\Lib\\\\signal.py'>, '_weakrefset': <module '_weakrefset' from 'C:\\\\Users\\\\Green\\\\AppData\\\\Local\\\\Programs\\\\Python\\\\Python311\\\\Lib\\\\_weakrefset.py'>, 'threading': <module 'threading' from 'C:\\\\Users\\\\Green\\\\AppData\\\\Local\\\\Programs\\\\Python\\\\Python311\\\\Lib\\\\threading.py'>, 'msvcrt': <module 'msvcrt' (built-in)>, 'subprocess': <module 'subprocess' from 'C:\\\\Users\\\\Green\\\\AppData\\\\Local\\\\Programs\\\\Python\\\\Python311\\\\Lib\\\\subprocess.py'>, 'jupyter_client._version': <module 'jupyter_client._version' from 'C:\\\\Users\\\\Green\\\\AppData\\\\Local\\\\Programs\\\\Python\\\\Python311\\\\Lib\\\\site-packages\\\\jupyter_client\\\\_version.py'>, 'platform': <module 'platform' from 'C:\\\\Users\\\\Green\\\\AppData\\\\Local\\\\Programs\\\\Python\\\\Python311\\\\Lib\\\\platform.py'>, 'zmq.backend.select': <module 'zmq.backend.select' from 'C:\\\\Users\\\\Green\\\\AppData\\\\Local\\\\Programs\\\\Python\\\\Python311\\\\Lib\\\\site-packages\\\\zmq\\\\backend\\\\select.py'>, 'cython_runtime': <module 'cython_runtime'>, '_cython_3_0_10': <module '_cython_3_0_10'>, 'weakref': <module 'weakref' from 'C:\\\\Users\\\\Green\\\\AppData\\\\Local\\\\Programs\\\\Python\\\\Python311\\\\Lib\\\\weakref.py'>, 'zmq.constants': <module 'zmq.constants' from 'C:\\\\Users\\\\Green\\\\AppData\\\\Local\\\\Programs\\\\Python\\\\Python311\\\\Lib\\\\site-packages\\\\zmq\\\\constants.py'>, 'zmq.error': <module 'zmq.error' from 'C:\\\\Users\\\\Green\\\\AppData\\\\Local\\\\Programs\\\\Python\\\\Python311\\\\Lib\\\\site-packages\\\\zmq\\\\error.py'>, 'zmq.backend.cython._zmq': <module 'zmq.backend.cython._zmq' from 'C:\\\\Users\\\\Green\\\\AppData\\\\Local\\\\Programs\\\\Python\\\\Python311\\\\Lib\\\\site-packages\\\\zmq\\\\backend\\\\cython\\\\_zmq.cp311-win_amd64.pyd'>, 'zmq.backend.cython': <module 'zmq.backend.cython' from 'C:\\\\Users\\\\Green\\\\AppData\\\\Local\\\\Programs\\\\Python\\\\Python311\\\\Lib\\\\site-packages\\\\zmq\\\\backend\\\\cython\\\\__init__.py'>, 'zmq.backend': <module 'zmq.backend' from 'C:\\\\Users\\\\Green\\\\AppData\\\\Local\\\\Programs\\\\Python\\\\Python311\\\\Lib\\\\site-packages\\\\zmq\\\\backend\\\\__init__.py'>, 'atexit': <module 'atexit' (built-in)>, 'zmq._typing': <module 'zmq._typing' from 'C:\\\\Users\\\\Green\\\\AppData\\\\Local\\\\Programs\\\\Python\\\\Python311\\\\Lib\\\\site-packages\\\\zmq\\\\_typing.py'>, 'zmq.utils': <module 'zmq.utils' from 'C:\\\\Users\\\\Green\\\\AppData\\\\Local\\\\Programs\\\\Python\\\\Python311\\\\Lib\\\\site-packages\\\\zmq\\\\utils\\\\__init__.py'>, 'zmq.utils.interop': <module 'zmq.utils.interop' from 'C:\\\\Users\\\\Green\\\\AppData\\\\Local\\\\Programs\\\\Python\\\\Python311\\\\Lib\\\\site-packages\\\\zmq\\\\utils\\\\interop.py'>, 'zmq.sugar.attrsettr': <module 'zmq.sugar.attrsettr' from 'C:\\\\Users\\\\Green\\\\AppData\\\\Local\\\\Programs\\\\Python\\\\Python311\\\\Lib\\\\site-packages\\\\zmq\\\\sugar\\\\attrsettr.py'>, '_struct': <module '_struct' (built-in)>, 'struct': <module 'struct' from 'C:\\\\Users\\\\Green\\\\AppData\\\\Local\\\\Programs\\\\Python\\\\Python311\\\\Lib\\\\struct.py'>, '_compat_pickle': <module '_compat_pickle' from 'C:\\\\Users\\\\Green\\\\AppData\\\\Local\\\\Programs\\\\Python\\\\Python311\\\\Lib\\\\_compat_pickle.py'>, '_pickle': <module '_pickle' (built-in)>, 'pickle': <module 'pickle' from 'C:\\\\Users\\\\Green\\\\AppData\\\\Local\\\\Programs\\\\Python\\\\Python311\\\\Lib\\\\pickle.py'>, 'math': <module 'math' (built-in)>, '_bisect': <module '_bisect' (built-in)>, 'bisect': <module 'bisect' from 'C:\\\\Users\\\\Green\\\\AppData\\\\Local\\\\Programs\\\\Python\\\\Python311\\\\Lib\\\\bisect.py'>, '_random': <module '_random' (built-in)>, '_sha512': <module '_sha512' (built-in)>, 'random': <module 'random' from 'C:\\\\Users\\\\Green\\\\AppData\\\\Local\\\\Programs\\\\Python\\\\Python311\\\\Lib\\\\random.py'>, 'zmq.utils.jsonapi': <module 'zmq.utils.jsonapi' from 'C:\\\\Users\\\\Green\\\\AppData\\\\Local\\\\Programs\\\\Python\\\\Python311\\\\Lib\\\\site-packages\\\\zmq\\\\utils\\\\jsonapi.py'>, 'zmq.sugar.poll': <module 'zmq.sugar.poll' from 'C:\\\\Users\\\\Green\\\\AppData\\\\Local\\\\Programs\\\\Python\\\\Python311\\\\Lib\\\\site-packages\\\\zmq\\\\sugar\\\\poll.py'>, 'zmq.sugar.socket': <module 'zmq.sugar.socket' from 'C:\\\\Users\\\\Green\\\\AppData\\\\Local\\\\Programs\\\\Python\\\\Python311\\\\Lib\\\\site-packages\\\\zmq\\\\sugar\\\\socket.py'>, 'zmq.sugar.context': <module 'zmq.sugar.context' from 'C:\\\\Users\\\\Green\\\\AppData\\\\Local\\\\Programs\\\\Python\\\\Python311\\\\Lib\\\\site-packages\\\\zmq\\\\sugar\\\\context.py'>, 'zmq.sugar.frame': <module 'zmq.sugar.frame' from 'C:\\\\Users\\\\Green\\\\AppData\\\\Local\\\\Programs\\\\Python\\\\Python311\\\\Lib\\\\site-packages\\\\zmq\\\\sugar\\\\frame.py'>, 'zmq.sugar.tracker': <module 'zmq.sugar.tracker' from 'C:\\\\Users\\\\Green\\\\AppData\\\\Local\\\\Programs\\\\Python\\\\Python311\\\\Lib\\\\site-packages\\\\zmq\\\\sugar\\\\tracker.py'>, 'zmq.sugar.version': <module 'zmq.sugar.version' from 'C:\\\\Users\\\\Green\\\\AppData\\\\Local\\\\Programs\\\\Python\\\\Python311\\\\Lib\\\\site-packages\\\\zmq\\\\sugar\\\\version.py'>, 'zmq.sugar.stopwatch': <module 'zmq.sugar.stopwatch' from 'C:\\\\Users\\\\Green\\\\AppData\\\\Local\\\\Programs\\\\Python\\\\Python311\\\\Lib\\\\site-packages\\\\zmq\\\\sugar\\\\stopwatch.py'>, 'zmq.sugar': <module 'zmq.sugar' from 'C:\\\\Users\\\\Green\\\\AppData\\\\Local\\\\Programs\\\\Python\\\\Python311\\\\Lib\\\\site-packages\\\\zmq\\\\sugar\\\\__init__.py'>, 'zmq': <module 'zmq' from 'C:\\\\Users\\\\Green\\\\AppData\\\\Local\\\\Programs\\\\Python\\\\Python311\\\\Lib\\\\site-packages\\\\zmq\\\\__init__.py'>, 'concurrent': <module 'concurrent' from 'C:\\\\Users\\\\Green\\\\AppData\\\\Local\\\\Programs\\\\Python\\\\Python311\\\\Lib\\\\concurrent\\\\__init__.py'>, 'token': <module 'token' from 'C:\\\\Users\\\\Green\\\\AppData\\\\Local\\\\Programs\\\\Python\\\\Python311\\\\Lib\\\\token.py'>, 'tokenize': <module 'tokenize' from 'C:\\\\Users\\\\Green\\\\AppData\\\\Local\\\\Programs\\\\Python\\\\Python311\\\\Lib\\\\tokenize.py'>, 'linecache': <module 'linecache' from 'C:\\\\Users\\\\Green\\\\AppData\\\\Local\\\\Programs\\\\Python\\\\Python311\\\\Lib\\\\linecache.py'>, 'textwrap': <module 'textwrap' from 'C:\\\\Users\\\\Green\\\\AppData\\\\Local\\\\Programs\\\\Python\\\\Python311\\\\Lib\\\\textwrap.py'>, 'traceback': <module 'traceback' from 'C:\\\\Users\\\\Green\\\\AppData\\\\Local\\\\Programs\\\\Python\\\\Python311\\\\Lib\\\\traceback.py'>, '_string': <module '_string' (built-in)>, 'string': <module 'string' from 'C:\\\\Users\\\\Green\\\\AppData\\\\Local\\\\Programs\\\\Python\\\\Python311\\\\Lib\\\\string.py'>, 'logging': <module 'logging' from 'C:\\\\Users\\\\Green\\\\AppData\\\\Local\\\\Programs\\\\Python\\\\Python311\\\\Lib\\\\logging\\\\__init__.py'>, 'concurrent.futures._base': <module 'concurrent.futures._base' from 'C:\\\\Users\\\\Green\\\\AppData\\\\Local\\\\Programs\\\\Python\\\\Python311\\\\Lib\\\\concurrent\\\\futures\\\\_base.py'>, 'concurrent.futures': <module 'concurrent.futures' from 'C:\\\\Users\\\\Green\\\\AppData\\\\Local\\\\Programs\\\\Python\\\\Python311\\\\Lib\\\\concurrent\\\\futures\\\\__init__.py'>, '_heapq': <module '_heapq' (built-in)>, 'heapq': <module 'heapq' from 'C:\\\\Users\\\\Green\\\\AppData\\\\Local\\\\Programs\\\\Python\\\\Python311\\\\Lib\\\\heapq.py'>, '_socket': <module '_socket' from 'C:\\\\Users\\\\Green\\\\AppData\\\\Local\\\\Programs\\\\Python\\\\Python311\\\\DLLs\\\\_socket.pyd'>, 'select': <module 'select' from 'C:\\\\Users\\\\Green\\\\AppData\\\\Local\\\\Programs\\\\Python\\\\Python311\\\\DLLs\\\\select.pyd'>, 'selectors': <module 'selectors' from 'C:\\\\Users\\\\Green\\\\AppData\\\\Local\\\\Programs\\\\Python\\\\Python311\\\\Lib\\\\selectors.py'>, 'socket': <module 'socket' from 'C:\\\\Users\\\\Green\\\\AppData\\\\Local\\\\Programs\\\\Python\\\\Python311\\\\Lib\\\\socket.py'>, '_ssl': <module '_ssl' from 'C:\\\\Users\\\\Green\\\\AppData\\\\Local\\\\Programs\\\\Python\\\\Python311\\\\DLLs\\\\_ssl.pyd'>, 'binascii': <module 'binascii' (built-in)>, 'base64': <module 'base64' from 'C:\\\\Users\\\\Green\\\\AppData\\\\Local\\\\Programs\\\\Python\\\\Python311\\\\Lib\\\\base64.py'>, 'ssl': <module 'ssl' from 'C:\\\\Users\\\\Green\\\\AppData\\\\Local\\\\Programs\\\\Python\\\\Python311\\\\Lib\\\\ssl.py'>, 'asyncio.constants': <module 'asyncio.constants' from 'C:\\\\Users\\\\Green\\\\AppData\\\\Local\\\\Programs\\\\Python\\\\Python311\\\\Lib\\\\asyncio\\\\constants.py'>, '_ast': <module '_ast' (built-in)>, 'ast': <module 'ast' from 'C:\\\\Users\\\\Green\\\\AppData\\\\Local\\\\Programs\\\\Python\\\\Python311\\\\Lib\\\\ast.py'>, '_opcode': <module '_opcode' (built-in)>, 'opcode': <module 'opcode' from 'C:\\\\Users\\\\Green\\\\AppData\\\\Local\\\\Programs\\\\Python\\\\Python311\\\\Lib\\\\opcode.py'>, 'dis': <module 'dis' from 'C:\\\\Users\\\\Green\\\\AppData\\\\Local\\\\Programs\\\\Python\\\\Python311\\\\Lib\\\\dis.py'>, 'inspect': <module 'inspect' from 'C:\\\\Users\\\\Green\\\\AppData\\\\Local\\\\Programs\\\\Python\\\\Python311\\\\Lib\\\\inspect.py'>, 'asyncio.coroutines': <module 'asyncio.coroutines' from 'C:\\\\Users\\\\Green\\\\AppData\\\\Local\\\\Programs\\\\Python\\\\Python311\\\\Lib\\\\asyncio\\\\coroutines.py'>, '_contextvars': <module '_contextvars' (built-in)>, 'contextvars': <module 'contextvars' from 'C:\\\\Users\\\\Green\\\\AppData\\\\Local\\\\Programs\\\\Python\\\\Python311\\\\Lib\\\\contextvars.py'>, 'asyncio.format_helpers': <module 'asyncio.format_helpers' from 'C:\\\\Users\\\\Green\\\\AppData\\\\Local\\\\Programs\\\\Python\\\\Python311\\\\Lib\\\\asyncio\\\\format_helpers.py'>, 'asyncio.base_futures': <module 'asyncio.base_futures' from 'C:\\\\Users\\\\Green\\\\AppData\\\\Local\\\\Programs\\\\Python\\\\Python311\\\\Lib\\\\asyncio\\\\base_futures.py'>, 'asyncio.exceptions': <module 'asyncio.exceptions' from 'C:\\\\Users\\\\Green\\\\AppData\\\\Local\\\\Programs\\\\Python\\\\Python311\\\\Lib\\\\asyncio\\\\exceptions.py'>, 'asyncio.base_tasks': <module 'asyncio.base_tasks' from 'C:\\\\Users\\\\Green\\\\AppData\\\\Local\\\\Programs\\\\Python\\\\Python311\\\\Lib\\\\asyncio\\\\base_tasks.py'>, '_asyncio': <module '_asyncio' from 'C:\\\\Users\\\\Green\\\\AppData\\\\Local\\\\Programs\\\\Python\\\\Python311\\\\DLLs\\\\_asyncio.pyd'>, 'asyncio.events': <module 'asyncio.events' from 'C:\\\\Users\\\\Green\\\\AppData\\\\Local\\\\Programs\\\\Python\\\\Python311\\\\Lib\\\\asyncio\\\\events.py'>, 'asyncio.futures': <module 'asyncio.futures' from 'C:\\\\Users\\\\Green\\\\AppData\\\\Local\\\\Programs\\\\Python\\\\Python311\\\\Lib\\\\asyncio\\\\futures.py'>, 'asyncio.protocols': <module 'asyncio.protocols' from 'C:\\\\Users\\\\Green\\\\AppData\\\\Local\\\\Programs\\\\Python\\\\Python311\\\\Lib\\\\asyncio\\\\protocols.py'>, 'asyncio.transports': <module 'asyncio.transports' from 'C:\\\\Users\\\\Green\\\\AppData\\\\Local\\\\Programs\\\\Python\\\\Python311\\\\Lib\\\\asyncio\\\\transports.py'>, 'asyncio.log': <module 'asyncio.log' from 'C:\\\\Users\\\\Green\\\\AppData\\\\Local\\\\Programs\\\\Python\\\\Python311\\\\Lib\\\\asyncio\\\\log.py'>, 'asyncio.sslproto': <module 'asyncio.sslproto' from 'C:\\\\Users\\\\Green\\\\AppData\\\\Local\\\\Programs\\\\Python\\\\Python311\\\\Lib\\\\asyncio\\\\sslproto.py'>, 'asyncio.mixins': <module 'asyncio.mixins' from 'C:\\\\Users\\\\Green\\\\AppData\\\\Local\\\\Programs\\\\Python\\\\Python311\\\\Lib\\\\asyncio\\\\mixins.py'>, 'asyncio.tasks': <module 'asyncio.tasks' from 'C:\\\\Users\\\\Green\\\\AppData\\\\Local\\\\Programs\\\\Python\\\\Python311\\\\Lib\\\\asyncio\\\\tasks.py'>, 'asyncio.locks': <module 'asyncio.locks' from 'C:\\\\Users\\\\Green\\\\AppData\\\\Local\\\\Programs\\\\Python\\\\Python311\\\\Lib\\\\asyncio\\\\locks.py'>, 'asyncio.staggered': <module 'asyncio.staggered' from 'C:\\\\Users\\\\Green\\\\AppData\\\\Local\\\\Programs\\\\Python\\\\Python311\\\\Lib\\\\asyncio\\\\staggered.py'>, 'asyncio.trsock': <module 'asyncio.trsock' from 'C:\\\\Users\\\\Green\\\\AppData\\\\Local\\\\Programs\\\\Python\\\\Python311\\\\Lib\\\\asyncio\\\\trsock.py'>, 'asyncio.base_events': <module 'asyncio.base_events' from 'C:\\\\Users\\\\Green\\\\AppData\\\\Local\\\\Programs\\\\Python\\\\Python311\\\\Lib\\\\asyncio\\\\base_events.py'>, 'asyncio.runners': <module 'asyncio.runners' from 'C:\\\\Users\\\\Green\\\\AppData\\\\Local\\\\Programs\\\\Python\\\\Python311\\\\Lib\\\\asyncio\\\\runners.py'>, 'asyncio.queues': <module 'asyncio.queues' from 'C:\\\\Users\\\\Green\\\\AppData\\\\Local\\\\Programs\\\\Python\\\\Python311\\\\Lib\\\\asyncio\\\\queues.py'>, 'asyncio.streams': <module 'asyncio.streams' from 'C:\\\\Users\\\\Green\\\\AppData\\\\Local\\\\Programs\\\\Python\\\\Python311\\\\Lib\\\\asyncio\\\\streams.py'>, 'asyncio.subprocess': <module 'asyncio.subprocess' from 'C:\\\\Users\\\\Green\\\\AppData\\\\Local\\\\Programs\\\\Python\\\\Python311\\\\Lib\\\\asyncio\\\\subprocess.py'>, 'asyncio.taskgroups': <module 'asyncio.taskgroups' from 'C:\\\\Users\\\\Green\\\\AppData\\\\Local\\\\Programs\\\\Python\\\\Python311\\\\Lib\\\\asyncio\\\\taskgroups.py'>, 'asyncio.timeouts': <module 'asyncio.timeouts' from 'C:\\\\Users\\\\Green\\\\AppData\\\\Local\\\\Programs\\\\Python\\\\Python311\\\\Lib\\\\asyncio\\\\timeouts.py'>, 'asyncio.threads': <module 'asyncio.threads' from 'C:\\\\Users\\\\Green\\\\AppData\\\\Local\\\\Programs\\\\Python\\\\Python311\\\\Lib\\\\asyncio\\\\threads.py'>, '_overlapped': <module '_overlapped' from 'C:\\\\Users\\\\Green\\\\AppData\\\\Local\\\\Programs\\\\Python\\\\Python311\\\\DLLs\\\\_overlapped.pyd'>, 'asyncio.base_subprocess': <module 'asyncio.base_subprocess' from 'C:\\\\Users\\\\Green\\\\AppData\\\\Local\\\\Programs\\\\Python\\\\Python311\\\\Lib\\\\asyncio\\\\base_subprocess.py'>, 'asyncio.proactor_events': <module 'asyncio.proactor_events' from 'C:\\\\Users\\\\Green\\\\AppData\\\\Local\\\\Programs\\\\Python\\\\Python311\\\\Lib\\\\asyncio\\\\proactor_events.py'>, 'asyncio.selector_events': <module 'asyncio.selector_events' from 'C:\\\\Users\\\\Green\\\\AppData\\\\Local\\\\Programs\\\\Python\\\\Python311\\\\Lib\\\\asyncio\\\\selector_events.py'>, 'zlib': <module 'zlib' (built-in)>, '_compression': <module '_compression' from 'C:\\\\Users\\\\Green\\\\AppData\\\\Local\\\\Programs\\\\Python\\\\Python311\\\\Lib\\\\_compression.py'>, '_bz2': <module '_bz2' from 'C:\\\\Users\\\\Green\\\\AppData\\\\Local\\\\Programs\\\\Python\\\\Python311\\\\DLLs\\\\_bz2.pyd'>, 'bz2': <module 'bz2' from 'C:\\\\Users\\\\Green\\\\AppData\\\\Local\\\\Programs\\\\Python\\\\Python311\\\\Lib\\\\bz2.py'>, '_lzma': <module '_lzma' from 'C:\\\\Users\\\\Green\\\\AppData\\\\Local\\\\Programs\\\\Python\\\\Python311\\\\DLLs\\\\_lzma.pyd'>, 'lzma': <module 'lzma' from 'C:\\\\Users\\\\Green\\\\AppData\\\\Local\\\\Programs\\\\Python\\\\Python311\\\\Lib\\\\lzma.py'>, 'shutil': <module 'shutil' from 'C:\\\\Users\\\\Green\\\\AppData\\\\Local\\\\Programs\\\\Python\\\\Python311\\\\Lib\\\\shutil.py'>, 'tempfile': <module 'tempfile' from 'C:\\\\Users\\\\Green\\\\AppData\\\\Local\\\\Programs\\\\Python\\\\Python311\\\\Lib\\\\tempfile.py'>, 'asyncio.windows_utils': <module 'asyncio.windows_utils' from 'C:\\\\Users\\\\Green\\\\AppData\\\\Local\\\\Programs\\\\Python\\\\Python311\\\\Lib\\\\asyncio\\\\windows_utils.py'>, 'asyncio.windows_events': <module 'asyncio.windows_events' from 'C:\\\\Users\\\\Green\\\\AppData\\\\Local\\\\Programs\\\\Python\\\\Python311\\\\Lib\\\\asyncio\\\\windows_events.py'>, 'asyncio': <module 'asyncio' from 'C:\\\\Users\\\\Green\\\\AppData\\\\Local\\\\Programs\\\\Python\\\\Python311\\\\Lib\\\\asyncio\\\\__init__.py'>, 'zmq._future': <module 'zmq._future' from 'C:\\\\Users\\\\Green\\\\AppData\\\\Local\\\\Programs\\\\Python\\\\Python311\\\\Lib\\\\site-packages\\\\zmq\\\\_future.py'>, 'zmq.asyncio': <module 'zmq.asyncio' from 'C:\\\\Users\\\\Green\\\\AppData\\\\Local\\\\Programs\\\\Python\\\\Python311\\\\Lib\\\\site-packages\\\\zmq\\\\asyncio.py'>, 'traitlets.utils': <module 'traitlets.utils' from 'C:\\\\Users\\\\Green\\\\AppData\\\\Local\\\\Programs\\\\Python\\\\Python311\\\\Lib\\\\site-packages\\\\traitlets\\\\utils\\\\__init__.py'>, 'traitlets.utils.bunch': <module 'traitlets.utils.bunch' from 'C:\\\\Users\\\\Green\\\\AppData\\\\Local\\\\Programs\\\\Python\\\\Python311\\\\Lib\\\\site-packages\\\\traitlets\\\\utils\\\\bunch.py'>, 'traitlets.utils.descriptions': <module 'traitlets.utils.descriptions' from 'C:\\\\Users\\\\Green\\\\AppData\\\\Local\\\\Programs\\\\Python\\\\Python311\\\\Lib\\\\site-packages\\\\traitlets\\\\utils\\\\descriptions.py'>, 'traitlets.utils.getargspec': <module 'traitlets.utils.getargspec' from 'C:\\\\Users\\\\Green\\\\AppData\\\\Local\\\\Programs\\\\Python\\\\Python311\\\\Lib\\\\site-packages\\\\traitlets\\\\utils\\\\getargspec.py'>, 'traitlets.utils.importstring': <module 'traitlets.utils.importstring' from 'C:\\\\Users\\\\Green\\\\AppData\\\\Local\\\\Programs\\\\Python\\\\Python311\\\\Lib\\\\site-packages\\\\traitlets\\\\utils\\\\importstring.py'>, 'traitlets.utils.sentinel': <module 'traitlets.utils.sentinel' from 'C:\\\\Users\\\\Green\\\\AppData\\\\Local\\\\Programs\\\\Python\\\\Python311\\\\Lib\\\\site-packages\\\\traitlets\\\\utils\\\\sentinel.py'>, 'traitlets.utils.warnings': <module 'traitlets.utils.warnings' from 'C:\\\\Users\\\\Green\\\\AppData\\\\Local\\\\Programs\\\\Python\\\\Python311\\\\Lib\\\\site-packages\\\\traitlets\\\\utils\\\\warnings.py'>, 'traitlets.traitlets': <module 'traitlets.traitlets' from 'C:\\\\Users\\\\Green\\\\AppData\\\\Local\\\\Programs\\\\Python\\\\Python311\\\\Lib\\\\site-packages\\\\traitlets\\\\traitlets.py'>, 'traitlets._version': <module 'traitlets._version' from 'C:\\\\Users\\\\Green\\\\AppData\\\\Local\\\\Programs\\\\Python\\\\Python311\\\\Lib\\\\site-packages\\\\traitlets\\\\_version.py'>, 'copy': <module 'copy' from 'C:\\\\Users\\\\Green\\\\AppData\\\\Local\\\\Programs\\\\Python\\\\Python311\\\\Lib\\\\copy.py'>, 'traitlets.utils.decorators': <module 'traitlets.utils.decorators' from 'C:\\\\Users\\\\Green\\\\AppData\\\\Local\\\\Programs\\\\Python\\\\Python311\\\\Lib\\\\site-packages\\\\traitlets\\\\utils\\\\decorators.py'>, 'traitlets': <module 'traitlets' from 'C:\\\\Users\\\\Green\\\\AppData\\\\Local\\\\Programs\\\\Python\\\\Python311\\\\Lib\\\\site-packages\\\\traitlets\\\\__init__.py'>, '_queue': <module '_queue' from 'C:\\\\Users\\\\Green\\\\AppData\\\\Local\\\\Programs\\\\Python\\\\Python311\\\\DLLs\\\\_queue.pyd'>, 'queue': <module 'queue' from 'C:\\\\Users\\\\Green\\\\AppData\\\\Local\\\\Programs\\\\Python\\\\Python311\\\\Lib\\\\queue.py'>, 'jupyter_core.version': <module 'jupyter_core.version' from 'C:\\\\Users\\\\Green\\\\AppData\\\\Local\\\\Programs\\\\Python\\\\Python311\\\\Lib\\\\site-packages\\\\jupyter_core\\\\version.py'>, 'jupyter_core': <module 'jupyter_core' from 'C:\\\\Users\\\\Green\\\\AppData\\\\Local\\\\Programs\\\\Python\\\\Python311\\\\Lib\\\\site-packages\\\\jupyter_core\\\\__init__.py'>, 'jupyter_core.utils': <module 'jupyter_core.utils' from 'C:\\\\Users\\\\Green\\\\AppData\\\\Local\\\\Programs\\\\Python\\\\Python311\\\\Lib\\\\site-packages\\\\jupyter_core\\\\utils\\\\__init__.py'>, 'jupyter_client.channelsabc': <module 'jupyter_client.channelsabc' from 'C:\\\\Users\\\\Green\\\\AppData\\\\Local\\\\Programs\\\\Python\\\\Python311\\\\Lib\\\\site-packages\\\\jupyter_client\\\\channelsabc.py'>, '_hashlib': <module '_hashlib' from 'C:\\\\Users\\\\Green\\\\AppData\\\\Local\\\\Programs\\\\Python\\\\Python311\\\\DLLs\\\\_hashlib.pyd'>, '_blake2': <module '_blake2' (built-in)>, 'hashlib': <module 'hashlib' from 'C:\\\\Users\\\\Green\\\\AppData\\\\Local\\\\Programs\\\\Python\\\\Python311\\\\Lib\\\\hashlib.py'>, 'hmac': <module 'hmac' from 'C:\\\\Users\\\\Green\\\\AppData\\\\Local\\\\Programs\\\\Python\\\\Python311\\\\Lib\\\\hmac.py'>, 'dataclasses': <module 'dataclasses' from 'C:\\\\Users\\\\Green\\\\AppData\\\\Local\\\\Programs\\\\Python\\\\Python311\\\\Lib\\\\dataclasses.py'>, 'pprint': <module 'pprint' from 'C:\\\\Users\\\\Green\\\\AppData\\\\Local\\\\Programs\\\\Python\\\\Python311\\\\Lib\\\\pprint.py'>, '_datetime': <module '_datetime' (built-in)>, 'datetime': <module 'datetime' from 'C:\\\\Users\\\\Green\\\\AppData\\\\Local\\\\Programs\\\\Python\\\\Python311\\\\Lib\\\\datetime.py'>, 'tornado': <module 'tornado' from 'C:\\\\Users\\\\Green\\\\AppData\\\\Local\\\\Programs\\\\Python\\\\Python311\\\\Lib\\\\site-packages\\\\tornado\\\\__init__.py'>, 'numbers': <module 'numbers' from 'C:\\\\Users\\\\Green\\\\AppData\\\\Local\\\\Programs\\\\Python\\\\Python311\\\\Lib\\\\numbers.py'>, 'logging.handlers': <module 'logging.handlers' from 'C:\\\\Users\\\\Green\\\\AppData\\\\Local\\\\Programs\\\\Python\\\\Python311\\\\Lib\\\\logging\\\\handlers.py'>, 'html.entities': <module 'html.entities' from 'C:\\\\Users\\\\Green\\\\AppData\\\\Local\\\\Programs\\\\Python\\\\Python311\\\\Lib\\\\html\\\\entities.py'>, 'html': <module 'html' from 'C:\\\\Users\\\\Green\\\\AppData\\\\Local\\\\Programs\\\\Python\\\\Python311\\\\Lib\\\\html\\\\__init__.py'>, 'array': <module 'array' (built-in)>, 'tornado.speedups': <module 'tornado.speedups' from 'C:\\\\Users\\\\Green\\\\AppData\\\\Local\\\\Programs\\\\Python\\\\Python311\\\\Lib\\\\site-packages\\\\tornado\\\\speedups.pyd'>, 'tornado.util': <module 'tornado.util' from 'C:\\\\Users\\\\Green\\\\AppData\\\\Local\\\\Programs\\\\Python\\\\Python311\\\\Lib\\\\site-packages\\\\tornado\\\\util.py'>, 'tornado.escape': <module 'tornado.escape' from 'C:\\\\Users\\\\Green\\\\AppData\\\\Local\\\\Programs\\\\Python\\\\Python311\\\\Lib\\\\site-packages\\\\tornado\\\\escape.py'>, 'colorama.ansi': <module 'colorama.ansi' from 'C:\\\\Users\\\\Green\\\\AppData\\\\Local\\\\Programs\\\\Python\\\\Python311\\\\Lib\\\\site-packages\\\\colorama\\\\ansi.py'>, '_ctypes': <module '_ctypes' from 'C:\\\\Users\\\\Green\\\\AppData\\\\Local\\\\Programs\\\\Python\\\\Python311\\\\DLLs\\\\_ctypes.pyd'>, 'ctypes._endian': <module 'ctypes._endian' from 'C:\\\\Users\\\\Green\\\\AppData\\\\Local\\\\Programs\\\\Python\\\\Python311\\\\Lib\\\\ctypes\\\\_endian.py'>, 'ctypes': <module 'ctypes' from 'C:\\\\Users\\\\Green\\\\AppData\\\\Local\\\\Programs\\\\Python\\\\Python311\\\\Lib\\\\ctypes\\\\__init__.py'>, 'ctypes.wintypes': <module 'ctypes.wintypes' from 'C:\\\\Users\\\\Green\\\\AppData\\\\Local\\\\Programs\\\\Python\\\\Python311\\\\Lib\\\\ctypes\\\\wintypes.py'>, 'colorama.win32': <module 'colorama.win32' from 'C:\\\\Users\\\\Green\\\\AppData\\\\Local\\\\Programs\\\\Python\\\\Python311\\\\Lib\\\\site-packages\\\\colorama\\\\win32.py'>, 'colorama.winterm': <module 'colorama.winterm' from 'C:\\\\Users\\\\Green\\\\AppData\\\\Local\\\\Programs\\\\Python\\\\Python311\\\\Lib\\\\site-packages\\\\colorama\\\\winterm.py'>, 'colorama.ansitowin32': <module 'colorama.ansitowin32' from 'C:\\\\Users\\\\Green\\\\AppData\\\\Local\\\\Programs\\\\Python\\\\Python311\\\\Lib\\\\site-packages\\\\colorama\\\\ansitowin32.py'>, 'colorama.initialise': <module 'colorama.initialise' from 'C:\\\\Users\\\\Green\\\\AppData\\\\Local\\\\Programs\\\\Python\\\\Python311\\\\Lib\\\\site-packages\\\\colorama\\\\initialise.py'>, 'colorama': <module 'colorama' from 'C:\\\\Users\\\\Green\\\\AppData\\\\Local\\\\Programs\\\\Python\\\\Python311\\\\Lib\\\\site-packages\\\\colorama\\\\__init__.py'>, 'tornado.log': <module 'tornado.log' from 'C:\\\\Users\\\\Green\\\\AppData\\\\Local\\\\Programs\\\\Python\\\\Python311\\\\Lib\\\\site-packages\\\\tornado\\\\log.py'>, 'tornado.concurrent': <module 'tornado.concurrent' from 'C:\\\\Users\\\\Green\\\\AppData\\\\Local\\\\Programs\\\\Python\\\\Python311\\\\Lib\\\\site-packages\\\\tornado\\\\concurrent.py'>, 'tornado.ioloop': <module 'tornado.ioloop' from 'C:\\\\Users\\\\Green\\\\AppData\\\\Local\\\\Programs\\\\Python\\\\Python311\\\\Lib\\\\site-packages\\\\tornado\\\\ioloop.py'>, 'socketserver': <module 'socketserver' from 'C:\\\\Users\\\\Green\\\\AppData\\\\Local\\\\Programs\\\\Python\\\\Python311\\\\Lib\\\\socketserver.py'>, 'logging.config': <module 'logging.config' from 'C:\\\\Users\\\\Green\\\\AppData\\\\Local\\\\Programs\\\\Python\\\\Python311\\\\Lib\\\\logging\\\\config.py'>, 'traitlets.utils.text': <module 'traitlets.utils.text' from 'C:\\\\Users\\\\Green\\\\AppData\\\\Local\\\\Programs\\\\Python\\\\Python311\\\\Lib\\\\site-packages\\\\traitlets\\\\utils\\\\text.py'>, 'gettext': <module 'gettext' from 'C:\\\\Users\\\\Green\\\\AppData\\\\Local\\\\Programs\\\\Python\\\\Python311\\\\Lib\\\\gettext.py'>, 'argparse': <module 'argparse' from 'C:\\\\Users\\\\Green\\\\AppData\\\\Local\\\\Programs\\\\Python\\\\Python311\\\\Lib\\\\argparse.py'>, 'traitlets.config.loader': <module 'traitlets.config.loader' from 'C:\\\\Users\\\\Green\\\\AppData\\\\Local\\\\Programs\\\\Python\\\\Python311\\\\Lib\\\\site-packages\\\\traitlets\\\\config\\\\loader.py'>, 'traitlets.config.configurable': <module 'traitlets.config.configurable' from 'C:\\\\Users\\\\Green\\\\AppData\\\\Local\\\\Programs\\\\Python\\\\Python311\\\\Lib\\\\site-packages\\\\traitlets\\\\config\\\\configurable.py'>, 'traitlets.utils.nested_update': <module 'traitlets.utils.nested_update' from 'C:\\\\Users\\\\Green\\\\AppData\\\\Local\\\\Programs\\\\Python\\\\Python311\\\\Lib\\\\site-packages\\\\traitlets\\\\utils\\\\nested_update.py'>, 'traitlets.config.application': <module 'traitlets.config.application' from 'C:\\\\Users\\\\Green\\\\AppData\\\\Local\\\\Programs\\\\Python\\\\Python311\\\\Lib\\\\site-packages\\\\traitlets\\\\config\\\\application.py'>, 'traitlets.config': <module 'traitlets.config' from 'C:\\\\Users\\\\Green\\\\AppData\\\\Local\\\\Programs\\\\Python\\\\Python311\\\\Lib\\\\site-packages\\\\traitlets\\\\config\\\\__init__.py'>, 'traitlets.log': <module 'traitlets.log' from 'C:\\\\Users\\\\Green\\\\AppData\\\\Local\\\\Programs\\\\Python\\\\Python311\\\\Lib\\\\site-packages\\\\traitlets\\\\log.py'>, 'zmq.eventloop': <module 'zmq.eventloop' from 'C:\\\\Users\\\\Green\\\\AppData\\\\Local\\\\Programs\\\\Python\\\\Python311\\\\Lib\\\\site-packages\\\\zmq\\\\eventloop\\\\__init__.py'>, 'zmq.eventloop.zmqstream': <module 'zmq.eventloop.zmqstream' from 'C:\\\\Users\\\\Green\\\\AppData\\\\Local\\\\Programs\\\\Python\\\\Python311\\\\Lib\\\\site-packages\\\\zmq\\\\eventloop\\\\zmqstream.py'>, 'jupyter_client.adapter': <module 'jupyter_client.adapter' from 'C:\\\\Users\\\\Green\\\\AppData\\\\Local\\\\Programs\\\\Python\\\\Python311\\\\Lib\\\\site-packages\\\\jupyter_client\\\\adapter.py'>, 'dateutil._version': <module 'dateutil._version' from 'C:\\\\Users\\\\Green\\\\AppData\\\\Local\\\\Programs\\\\Python\\\\Python311\\\\Lib\\\\site-packages\\\\dateutil\\\\_version.py'>, 'dateutil': <module 'dateutil' from 'C:\\\\Users\\\\Green\\\\AppData\\\\Local\\\\Programs\\\\Python\\\\Python311\\\\Lib\\\\site-packages\\\\dateutil\\\\__init__.py'>, 'calendar': <module 'calendar' from 'C:\\\\Users\\\\Green\\\\AppData\\\\Local\\\\Programs\\\\Python\\\\Python311\\\\Lib\\\\calendar.py'>, 'six': <module 'six' from 'C:\\\\Users\\\\Green\\\\AppData\\\\Local\\\\Programs\\\\Python\\\\Python311\\\\Lib\\\\site-packages\\\\six.py'>, '_decimal': <module '_decimal' from 'C:\\\\Users\\\\Green\\\\AppData\\\\Local\\\\Programs\\\\Python\\\\Python311\\\\DLLs\\\\_decimal.pyd'>, 'decimal': <module 'decimal' from 'C:\\\\Users\\\\Green\\\\AppData\\\\Local\\\\Programs\\\\Python\\\\Python311\\\\Lib\\\\decimal.py'>, 'dateutil._common': <module 'dateutil._common' from 'C:\\\\Users\\\\Green\\\\AppData\\\\Local\\\\Programs\\\\Python\\\\Python311\\\\Lib\\\\site-packages\\\\dateutil\\\\_common.py'>, 'dateutil.relativedelta': <module 'dateutil.relativedelta' from 'C:\\\\Users\\\\Green\\\\AppData\\\\Local\\\\Programs\\\\Python\\\\Python311\\\\Lib\\\\site-packages\\\\dateutil\\\\relativedelta.py'>, 'six.moves': <module 'six.moves' (<six._SixMetaPathImporter object at 0x000001CB44A8B450>)>, 'dateutil.tz._common': <module 'dateutil.tz._common' from 'C:\\\\Users\\\\Green\\\\AppData\\\\Local\\\\Programs\\\\Python\\\\Python311\\\\Lib\\\\site-packages\\\\dateutil\\\\tz\\\\_common.py'>, 'dateutil.tz._factories': <module 'dateutil.tz._factories' from 'C:\\\\Users\\\\Green\\\\AppData\\\\Local\\\\Programs\\\\Python\\\\Python311\\\\Lib\\\\site-packages\\\\dateutil\\\\tz\\\\_factories.py'>, 'dateutil.tz.win': <module 'dateutil.tz.win' from 'C:\\\\Users\\\\Green\\\\AppData\\\\Local\\\\Programs\\\\Python\\\\Python311\\\\Lib\\\\site-packages\\\\dateutil\\\\tz\\\\win.py'>, 'dateutil.tz.tz': <module 'dateutil.tz.tz' from 'C:\\\\Users\\\\Green\\\\AppData\\\\Local\\\\Programs\\\\Python\\\\Python311\\\\Lib\\\\site-packages\\\\dateutil\\\\tz\\\\tz.py'>, 'dateutil.tz': <module 'dateutil.tz' from 'C:\\\\Users\\\\Green\\\\AppData\\\\Local\\\\Programs\\\\Python\\\\Python311\\\\Lib\\\\site-packages\\\\dateutil\\\\tz\\\\__init__.py'>, 'dateutil.parser._parser': <module 'dateutil.parser._parser' from 'C:\\\\Users\\\\Green\\\\AppData\\\\Local\\\\Programs\\\\Python\\\\Python311\\\\Lib\\\\site-packages\\\\dateutil\\\\parser\\\\_parser.py'>, 'dateutil.parser.isoparser': <module 'dateutil.parser.isoparser' from 'C:\\\\Users\\\\Green\\\\AppData\\\\Local\\\\Programs\\\\Python\\\\Python311\\\\Lib\\\\site-packages\\\\dateutil\\\\parser\\\\isoparser.py'>, 'dateutil.parser': <module 'dateutil.parser' from 'C:\\\\Users\\\\Green\\\\AppData\\\\Local\\\\Programs\\\\Python\\\\Python311\\\\Lib\\\\site-packages\\\\dateutil\\\\parser\\\\__init__.py'>, '_strptime': <module '_strptime' from 'C:\\\\Users\\\\Green\\\\AppData\\\\Local\\\\Programs\\\\Python\\\\Python311\\\\Lib\\\\_strptime.py'>, 'jupyter_client.jsonutil': <module 'jupyter_client.jsonutil' from 'C:\\\\Users\\\\Green\\\\AppData\\\\Local\\\\Programs\\\\Python\\\\Python311\\\\Lib\\\\site-packages\\\\jupyter_client\\\\jsonutil.py'>, 'jupyter_client.session': <module 'jupyter_client.session' from 'C:\\\\Users\\\\Green\\\\AppData\\\\Local\\\\Programs\\\\Python\\\\Python311\\\\Lib\\\\site-packages\\\\jupyter_client\\\\session.py'>, 'jupyter_client.channels': <module 'jupyter_client.channels' from 'C:\\\\Users\\\\Green\\\\AppData\\\\Local\\\\Programs\\\\Python\\\\Python311\\\\Lib\\\\site-packages\\\\jupyter_client\\\\channels.py'>, 'getpass': <module 'getpass' from 'C:\\\\Users\\\\Green\\\\AppData\\\\Local\\\\Programs\\\\Python\\\\Python311\\\\Lib\\\\getpass.py'>, 'jupyter_client.clientabc': <module 'jupyter_client.clientabc' from 'C:\\\\Users\\\\Green\\\\AppData\\\\Local\\\\Programs\\\\Python\\\\Python311\\\\Lib\\\\site-packages\\\\jupyter_client\\\\clientabc.py'>, 'glob': <module 'glob' from 'C:\\\\Users\\\\Green\\\\AppData\\\\Local\\\\Programs\\\\Python\\\\Python311\\\\Lib\\\\glob.py'>, 'platformdirs.api': <module 'platformdirs.api' from 'C:\\\\Users\\\\Green\\\\AppData\\\\Local\\\\Programs\\\\Python\\\\Python311\\\\Lib\\\\site-packages\\\\platformdirs\\\\api.py'>, 'platformdirs.version': <module 'platformdirs.version' from 'C:\\\\Users\\\\Green\\\\AppData\\\\Local\\\\Programs\\\\Python\\\\Python311\\\\Lib\\\\site-packages\\\\platformdirs\\\\version.py'>, 'platformdirs.windows': <module 'platformdirs.windows' from 'C:\\\\Users\\\\Green\\\\AppData\\\\Local\\\\Programs\\\\Python\\\\Python311\\\\Lib\\\\site-packages\\\\platformdirs\\\\windows.py'>, 'platformdirs': <module 'platformdirs' from 'C:\\\\Users\\\\Green\\\\AppData\\\\Local\\\\Programs\\\\Python\\\\Python311\\\\Lib\\\\site-packages\\\\platformdirs\\\\__init__.py'>, 'jupyter_core.paths': <module 'jupyter_core.paths' from 'C:\\\\Users\\\\Green\\\\AppData\\\\Local\\\\Programs\\\\Python\\\\Python311\\\\Lib\\\\site-packages\\\\jupyter_core\\\\paths.py'>, 'jupyter_client.localinterfaces': <module 'jupyter_client.localinterfaces' from 'C:\\\\Users\\\\Green\\\\AppData\\\\Local\\\\Programs\\\\Python\\\\Python311\\\\Lib\\\\site-packages\\\\jupyter_client\\\\localinterfaces.py'>, 'jupyter_client.utils': <module 'jupyter_client.utils' from 'C:\\\\Users\\\\Green\\\\AppData\\\\Local\\\\Programs\\\\Python\\\\Python311\\\\Lib\\\\site-packages\\\\jupyter_client\\\\utils.py'>, 'jupyter_client.connect': <module 'jupyter_client.connect' from 'C:\\\\Users\\\\Green\\\\AppData\\\\Local\\\\Programs\\\\Python\\\\Python311\\\\Lib\\\\site-packages\\\\jupyter_client\\\\connect.py'>, 'jupyter_client.client': <module 'jupyter_client.client' from 'C:\\\\Users\\\\Green\\\\AppData\\\\Local\\\\Programs\\\\Python\\\\Python311\\\\Lib\\\\site-packages\\\\jupyter_client\\\\client.py'>, 'jupyter_client.asynchronous.client': <module 'jupyter_client.asynchronous.client' from 'C:\\\\Users\\\\Green\\\\AppData\\\\Local\\\\Programs\\\\Python\\\\Python311\\\\Lib\\\\site-packages\\\\jupyter_client\\\\asynchronous\\\\client.py'>, 'jupyter_client.asynchronous': <module 'jupyter_client.asynchronous' from 'C:\\\\Users\\\\Green\\\\AppData\\\\Local\\\\Programs\\\\Python\\\\Python311\\\\Lib\\\\site-packages\\\\jupyter_client\\\\asynchronous\\\\__init__.py'>, 'jupyter_client.blocking.client': <module 'jupyter_client.blocking.client' from 'C:\\\\Users\\\\Green\\\\AppData\\\\Local\\\\Programs\\\\Python\\\\Python311\\\\Lib\\\\site-packages\\\\jupyter_client\\\\blocking\\\\client.py'>, 'jupyter_client.blocking': <module 'jupyter_client.blocking' from 'C:\\\\Users\\\\Green\\\\AppData\\\\Local\\\\Programs\\\\Python\\\\Python311\\\\Lib\\\\site-packages\\\\jupyter_client\\\\blocking\\\\__init__.py'>, 'jupyter_client.launcher': <module 'jupyter_client.launcher' from 'C:\\\\Users\\\\Green\\\\AppData\\\\Local\\\\Programs\\\\Python\\\\Python311\\\\Lib\\\\site-packages\\\\jupyter_client\\\\launcher.py'>, '_uuid': <module '_uuid' from 'C:\\\\Users\\\\Green\\\\AppData\\\\Local\\\\Programs\\\\Python\\\\Python311\\\\DLLs\\\\_uuid.pyd'>, 'uuid': <module 'uuid' from 'C:\\\\Users\\\\Green\\\\AppData\\\\Local\\\\Programs\\\\Python\\\\Python311\\\\Lib\\\\uuid.py'>, '_csv': <module '_csv' (built-in)>, 'csv': <module 'csv' from 'C:\\\\Users\\\\Green\\\\AppData\\\\Local\\\\Programs\\\\Python\\\\Python311\\\\Lib\\\\csv.py'>, 'email': <module 'email' from 'C:\\\\Users\\\\Green\\\\AppData\\\\Local\\\\Programs\\\\Python\\\\Python311\\\\Lib\\\\email\\\\__init__.py'>, 'zipfile': <module 'zipfile' from 'C:\\\\Users\\\\Green\\\\AppData\\\\Local\\\\Programs\\\\Python\\\\Python311\\\\Lib\\\\zipfile.py'>, 'quopri': <module 'quopri' from 'C:\\\\Users\\\\Green\\\\AppData\\\\Local\\\\Programs\\\\Python\\\\Python311\\\\Lib\\\\quopri.py'>, 'email._parseaddr': <module 'email._parseaddr' from 'C:\\\\Users\\\\Green\\\\AppData\\\\Local\\\\Programs\\\\Python\\\\Python311\\\\Lib\\\\email\\\\_parseaddr.py'>, 'email.base64mime': <module 'email.base64mime' from 'C:\\\\Users\\\\Green\\\\AppData\\\\Local\\\\Programs\\\\Python\\\\Python311\\\\Lib\\\\email\\\\base64mime.py'>, 'email.quoprimime': <module 'email.quoprimime' from 'C:\\\\Users\\\\Green\\\\AppData\\\\Local\\\\Programs\\\\Python\\\\Python311\\\\Lib\\\\email\\\\quoprimime.py'>, 'email.errors': <module 'email.errors' from 'C:\\\\Users\\\\Green\\\\AppData\\\\Local\\\\Programs\\\\Python\\\\Python311\\\\Lib\\\\email\\\\errors.py'>, 'email.encoders': <module 'email.encoders' from 'C:\\\\Users\\\\Green\\\\AppData\\\\Local\\\\Programs\\\\Python\\\\Python311\\\\Lib\\\\email\\\\encoders.py'>, 'email.charset': <module 'email.charset' from 'C:\\\\Users\\\\Green\\\\AppData\\\\Local\\\\Programs\\\\Python\\\\Python311\\\\Lib\\\\email\\\\charset.py'>, 'email.utils': <module 'email.utils' from 'C:\\\\Users\\\\Green\\\\AppData\\\\Local\\\\Programs\\\\Python\\\\Python311\\\\Lib\\\\email\\\\utils.py'>, 'email.header': <module 'email.header' from 'C:\\\\Users\\\\Green\\\\AppData\\\\Local\\\\Programs\\\\Python\\\\Python311\\\\Lib\\\\email\\\\header.py'>, 'email._policybase': <module 'email._policybase' from 'C:\\\\Users\\\\Green\\\\AppData\\\\Local\\\\Programs\\\\Python\\\\Python311\\\\Lib\\\\email\\\\_policybase.py'>, 'email._encoded_words': <module 'email._encoded_words' from 'C:\\\\Users\\\\Green\\\\AppData\\\\Local\\\\Programs\\\\Python\\\\Python311\\\\Lib\\\\email\\\\_encoded_words.py'>, 'email.iterators': <module 'email.iterators' from 'C:\\\\Users\\\\Green\\\\AppData\\\\Local\\\\Programs\\\\Python\\\\Python311\\\\Lib\\\\email\\\\iterators.py'>, 'email.message': <module 'email.message' from 'C:\\\\Users\\\\Green\\\\AppData\\\\Local\\\\Programs\\\\Python\\\\Python311\\\\Lib\\\\email\\\\message.py'>, 'importlib.metadata._functools': <module 'importlib.metadata._functools' from 'C:\\\\Users\\\\Green\\\\AppData\\\\Local\\\\Programs\\\\Python\\\\Python311\\\\Lib\\\\importlib\\\\metadata\\\\_functools.py'>, 'importlib.metadata._text': <module 'importlib.metadata._text' from 'C:\\\\Users\\\\Green\\\\AppData\\\\Local\\\\Programs\\\\Python\\\\Python311\\\\Lib\\\\importlib\\\\metadata\\\\_text.py'>, 'importlib.metadata._adapters': <module 'importlib.metadata._adapters' from 'C:\\\\Users\\\\Green\\\\AppData\\\\Local\\\\Programs\\\\Python\\\\Python311\\\\Lib\\\\importlib\\\\metadata\\\\_adapters.py'>, 'importlib.metadata._meta': <module 'importlib.metadata._meta' from 'C:\\\\Users\\\\Green\\\\AppData\\\\Local\\\\Programs\\\\Python\\\\Python311\\\\Lib\\\\importlib\\\\metadata\\\\_meta.py'>, 'importlib.metadata._collections': <module 'importlib.metadata._collections' from 'C:\\\\Users\\\\Green\\\\AppData\\\\Local\\\\Programs\\\\Python\\\\Python311\\\\Lib\\\\importlib\\\\metadata\\\\_collections.py'>, 'importlib.metadata._itertools': <module 'importlib.metadata._itertools' from 'C:\\\\Users\\\\Green\\\\AppData\\\\Local\\\\Programs\\\\Python\\\\Python311\\\\Lib\\\\importlib\\\\metadata\\\\_itertools.py'>, 'importlib.resources.abc': <module 'importlib.resources.abc' from 'C:\\\\Users\\\\Green\\\\AppData\\\\Local\\\\Programs\\\\Python\\\\Python311\\\\Lib\\\\importlib\\\\resources\\\\abc.py'>, 'importlib.resources._adapters': <module 'importlib.resources._adapters' from 'C:\\\\Users\\\\Green\\\\AppData\\\\Local\\\\Programs\\\\Python\\\\Python311\\\\Lib\\\\importlib\\\\resources\\\\_adapters.py'>, 'importlib.resources._common': <module 'importlib.resources._common' from 'C:\\\\Users\\\\Green\\\\AppData\\\\Local\\\\Programs\\\\Python\\\\Python311\\\\Lib\\\\importlib\\\\resources\\\\_common.py'>, 'importlib.resources._legacy': <module 'importlib.resources._legacy' from 'C:\\\\Users\\\\Green\\\\AppData\\\\Local\\\\Programs\\\\Python\\\\Python311\\\\Lib\\\\importlib\\\\resources\\\\_legacy.py'>, 'importlib.resources': <module 'importlib.resources' from 'C:\\\\Users\\\\Green\\\\AppData\\\\Local\\\\Programs\\\\Python\\\\Python311\\\\Lib\\\\importlib\\\\resources\\\\__init__.py'>, 'importlib.abc': <module 'importlib.abc' from 'C:\\\\Users\\\\Green\\\\AppData\\\\Local\\\\Programs\\\\Python\\\\Python311\\\\Lib\\\\importlib\\\\abc.py'>, 'importlib.metadata': <module 'importlib.metadata' from 'C:\\\\Users\\\\Green\\\\AppData\\\\Local\\\\Programs\\\\Python\\\\Python311\\\\Lib\\\\importlib\\\\metadata\\\\__init__.py'>, 'jupyter_client.provisioning.provisioner_base': <module 'jupyter_client.provisioning.provisioner_base' from 'C:\\\\Users\\\\Green\\\\AppData\\\\Local\\\\Programs\\\\Python\\\\Python311\\\\Lib\\\\site-packages\\\\jupyter_client\\\\provisioning\\\\provisioner_base.py'>, 'jupyter_client.provisioning.factory': <module 'jupyter_client.provisioning.factory' from 'C:\\\\Users\\\\Green\\\\AppData\\\\Local\\\\Programs\\\\Python\\\\Python311\\\\Lib\\\\site-packages\\\\jupyter_client\\\\provisioning\\\\factory.py'>, 'jupyter_client.provisioning.local_provisioner': <module 'jupyter_client.provisioning.local_provisioner' from 'C:\\\\Users\\\\Green\\\\AppData\\\\Local\\\\Programs\\\\Python\\\\Python311\\\\Lib\\\\site-packages\\\\jupyter_client\\\\provisioning\\\\local_provisioner.py'>, 'jupyter_client.provisioning': <module 'jupyter_client.provisioning' from 'C:\\\\Users\\\\Green\\\\AppData\\\\Local\\\\Programs\\\\Python\\\\Python311\\\\Lib\\\\site-packages\\\\jupyter_client\\\\provisioning\\\\__init__.py'>, 'jupyter_client.kernelspec': <module 'jupyter_client.kernelspec' from 'C:\\\\Users\\\\Green\\\\AppData\\\\Local\\\\Programs\\\\Python\\\\Python311\\\\Lib\\\\site-packages\\\\jupyter_client\\\\kernelspec.py'>, 'jupyter_client.managerabc': <module 'jupyter_client.managerabc' from 'C:\\\\Users\\\\Green\\\\AppData\\\\Local\\\\Programs\\\\Python\\\\Python311\\\\Lib\\\\site-packages\\\\jupyter_client\\\\managerabc.py'>, 'jupyter_client.manager': <module 'jupyter_client.manager' from 'C:\\\\Users\\\\Green\\\\AppData\\\\Local\\\\Programs\\\\Python\\\\Python311\\\\Lib\\\\site-packages\\\\jupyter_client\\\\manager.py'>, 'jupyter_client.multikernelmanager': <module 'jupyter_client.multikernelmanager' from 'C:\\\\Users\\\\Green\\\\AppData\\\\Local\\\\Programs\\\\Python\\\\Python311\\\\Lib\\\\site-packages\\\\jupyter_client\\\\multikernelmanager.py'>, 'jupyter_client': <module 'jupyter_client' from 'C:\\\\Users\\\\Green\\\\AppData\\\\Local\\\\Programs\\\\Python\\\\Python311\\\\Lib\\\\site-packages\\\\jupyter_client\\\\__init__.py'>, 'ipykernel.connect': <module 'ipykernel.connect' from 'C:\\\\Users\\\\Green\\\\AppData\\\\Local\\\\Programs\\\\Python\\\\Python311\\\\Lib\\\\site-packages\\\\ipykernel\\\\connect.py'>, 'ipykernel': <module 'ipykernel' from 'C:\\\\Users\\\\Green\\\\AppData\\\\Local\\\\Programs\\\\Python\\\\Python311\\\\Lib\\\\site-packages\\\\ipykernel\\\\__init__.py'>, 'IPython.core': <module 'IPython.core' from 'C:\\\\Users\\\\Green\\\\AppData\\\\Local\\\\Programs\\\\Python\\\\Python311\\\\Lib\\\\site-packages\\\\IPython\\\\core\\\\__init__.py'>, 'IPython.core.getipython': <module 'IPython.core.getipython' from 'C:\\\\Users\\\\Green\\\\AppData\\\\Local\\\\Programs\\\\Python\\\\Python311\\\\Lib\\\\site-packages\\\\IPython\\\\core\\\\getipython.py'>, 'IPython.core.release': <module 'IPython.core.release' from 'C:\\\\Users\\\\Green\\\\AppData\\\\Local\\\\Programs\\\\Python\\\\Python311\\\\Lib\\\\site-packages\\\\IPython\\\\core\\\\release.py'>, 'pkgutil': <module 'pkgutil' from 'C:\\\\Users\\\\Green\\\\AppData\\\\Local\\\\Programs\\\\Python\\\\Python311\\\\Lib\\\\pkgutil.py'>, 'sysconfig': <module 'sysconfig' from 'C:\\\\Users\\\\Green\\\\AppData\\\\Local\\\\Programs\\\\Python\\\\Python311\\\\Lib\\\\sysconfig.py'>, 'pydoc': <module 'pydoc' from 'C:\\\\Users\\\\Green\\\\AppData\\\\Local\\\\Programs\\\\Python\\\\Python311\\\\Lib\\\\pydoc.py'>, 'executing._exceptions': <module 'executing._exceptions' from 'C:\\\\Users\\\\Green\\\\AppData\\\\Local\\\\Programs\\\\Python\\\\Python311\\\\Lib\\\\site-packages\\\\executing\\\\_exceptions.py'>, 'executing._position_node_finder': <module 'executing._position_node_finder' from 'C:\\\\Users\\\\Green\\\\AppData\\\\Local\\\\Programs\\\\Python\\\\Python311\\\\Lib\\\\site-packages\\\\executing\\\\_position_node_finder.py'>, 'executing.executing': <module 'executing.executing' from 'C:\\\\Users\\\\Green\\\\AppData\\\\Local\\\\Programs\\\\Python\\\\Python311\\\\Lib\\\\site-packages\\\\executing\\\\executing.py'>, 'executing.version': <module 'executing.version' from 'C:\\\\Users\\\\Green\\\\AppData\\\\Local\\\\Programs\\\\Python\\\\Python311\\\\Lib\\\\site-packages\\\\executing\\\\version.py'>, 'executing': <module 'executing' from 'C:\\\\Users\\\\Green\\\\AppData\\\\Local\\\\Programs\\\\Python\\\\Python311\\\\Lib\\\\site-packages\\\\executing\\\\__init__.py'>, 'asttokens.line_numbers': <module 'asttokens.line_numbers' from 'C:\\\\Users\\\\Green\\\\AppData\\\\Local\\\\Programs\\\\Python\\\\Python311\\\\Lib\\\\site-packages\\\\asttokens\\\\line_numbers.py'>, 'asttokens.util': <module 'asttokens.util' from 'C:\\\\Users\\\\Green\\\\AppData\\\\Local\\\\Programs\\\\Python\\\\Python311\\\\Lib\\\\site-packages\\\\asttokens\\\\util.py'>, 'asttokens.asttokens': <module 'asttokens.asttokens' from 'C:\\\\Users\\\\Green\\\\AppData\\\\Local\\\\Programs\\\\Python\\\\Python311\\\\Lib\\\\site-packages\\\\asttokens\\\\asttokens.py'>, 'asttokens': <module 'asttokens' from 'C:\\\\Users\\\\Green\\\\AppData\\\\Local\\\\Programs\\\\Python\\\\Python311\\\\Lib\\\\site-packages\\\\asttokens\\\\__init__.py'>, 'fractions': <module 'fractions' from 'C:\\\\Users\\\\Green\\\\AppData\\\\Local\\\\Programs\\\\Python\\\\Python311\\\\Lib\\\\fractions.py'>, 'pure_eval.utils': <module 'pure_eval.utils' from 'C:\\\\Users\\\\Green\\\\AppData\\\\Local\\\\Programs\\\\Python\\\\Python311\\\\Lib\\\\site-packages\\\\pure_eval\\\\utils.py'>, 'pure_eval.my_getattr_static': <module 'pure_eval.my_getattr_static' from 'C:\\\\Users\\\\Green\\\\AppData\\\\Local\\\\Programs\\\\Python\\\\Python311\\\\Lib\\\\site-packages\\\\pure_eval\\\\my_getattr_static.py'>, 'pure_eval.core': <module 'pure_eval.core' from 'C:\\\\Users\\\\Green\\\\AppData\\\\Local\\\\Programs\\\\Python\\\\Python311\\\\Lib\\\\site-packages\\\\pure_eval\\\\core.py'>, 'pure_eval.version': <module 'pure_eval.version' from 'C:\\\\Users\\\\Green\\\\AppData\\\\Local\\\\Programs\\\\Python\\\\Python311\\\\Lib\\\\site-packages\\\\pure_eval\\\\version.py'>, 'pure_eval': <module 'pure_eval' from 'C:\\\\Users\\\\Green\\\\AppData\\\\Local\\\\Programs\\\\Python\\\\Python311\\\\Lib\\\\site-packages\\\\pure_eval\\\\__init__.py'>, 'stack_data.utils': <module 'stack_data.utils' from 'C:\\\\Users\\\\Green\\\\AppData\\\\Local\\\\Programs\\\\Python\\\\Python311\\\\Lib\\\\site-packages\\\\stack_data\\\\utils.py'>, 'stack_data.core': <module 'stack_data.core' from 'C:\\\\Users\\\\Green\\\\AppData\\\\Local\\\\Programs\\\\Python\\\\Python311\\\\Lib\\\\site-packages\\\\stack_data\\\\core.py'>, 'stack_data.formatting': <module 'stack_data.formatting' from 'C:\\\\Users\\\\Green\\\\AppData\\\\Local\\\\Programs\\\\Python\\\\Python311\\\\Lib\\\\site-packages\\\\stack_data\\\\formatting.py'>, 'stack_data.serializing': <module 'stack_data.serializing' from 'C:\\\\Users\\\\Green\\\\AppData\\\\Local\\\\Programs\\\\Python\\\\Python311\\\\Lib\\\\site-packages\\\\stack_data\\\\serializing.py'>, 'stack_data.version': <module 'stack_data.version' from 'C:\\\\Users\\\\Green\\\\AppData\\\\Local\\\\Programs\\\\Python\\\\Python311\\\\Lib\\\\site-packages\\\\stack_data\\\\version.py'>, 'stack_data': <module 'stack_data' from 'C:\\\\Users\\\\Green\\\\AppData\\\\Local\\\\Programs\\\\Python\\\\Python311\\\\Lib\\\\site-packages\\\\stack_data\\\\__init__.py'>, 'pygments': <module 'pygments' from 'C:\\\\Users\\\\Green\\\\AppData\\\\Local\\\\Programs\\\\Python\\\\Python311\\\\Lib\\\\site-packages\\\\pygments\\\\__init__.py'>, 'pygments.formatters._mapping': <module 'pygments.formatters._mapping' from 'C:\\\\Users\\\\Green\\\\AppData\\\\Local\\\\Programs\\\\Python\\\\Python311\\\\Lib\\\\site-packages\\\\pygments\\\\formatters\\\\_mapping.py'>, 'pygments.plugin': <module 'pygments.plugin' from 'C:\\\\Users\\\\Green\\\\AppData\\\\Local\\\\Programs\\\\Python\\\\Python311\\\\Lib\\\\site-packages\\\\pygments\\\\plugin.py'>, 'pygments.util': <module 'pygments.util' from 'C:\\\\Users\\\\Green\\\\AppData\\\\Local\\\\Programs\\\\Python\\\\Python311\\\\Lib\\\\site-packages\\\\pygments\\\\util.py'>, 'pygments.formatters': <module 'pygments.formatters' from 'C:\\\\Users\\\\Green\\\\AppData\\\\Local\\\\Programs\\\\Python\\\\Python311\\\\Lib\\\\site-packages\\\\pygments\\\\formatters\\\\__init__.py'>, 'pygments.styles._mapping': <module 'pygments.styles._mapping' from 'C:\\\\Users\\\\Green\\\\AppData\\\\Local\\\\Programs\\\\Python\\\\Python311\\\\Lib\\\\site-packages\\\\pygments\\\\styles\\\\_mapping.py'>, 'pygments.styles': <module 'pygments.styles' from 'C:\\\\Users\\\\Green\\\\AppData\\\\Local\\\\Programs\\\\Python\\\\Python311\\\\Lib\\\\site-packages\\\\pygments\\\\styles\\\\__init__.py'>, 'pygments.formatter': <module 'pygments.formatter' from 'C:\\\\Users\\\\Green\\\\AppData\\\\Local\\\\Programs\\\\Python\\\\Python311\\\\Lib\\\\site-packages\\\\pygments\\\\formatter.py'>, 'pygments.console': <module 'pygments.console' from 'C:\\\\Users\\\\Green\\\\AppData\\\\Local\\\\Programs\\\\Python\\\\Python311\\\\Lib\\\\site-packages\\\\pygments\\\\console.py'>, 'pygments.token': <module 'pygments.token' from 'C:\\\\Users\\\\Green\\\\AppData\\\\Local\\\\Programs\\\\Python\\\\Python311\\\\Lib\\\\site-packages\\\\pygments\\\\token.py'>, 'pygments.style': <module 'pygments.style' from 'C:\\\\Users\\\\Green\\\\AppData\\\\Local\\\\Programs\\\\Python\\\\Python311\\\\Lib\\\\site-packages\\\\pygments\\\\style.py'>, 'pygments.formatters.terminal256': <module 'pygments.formatters.terminal256' from 'C:\\\\Users\\\\Green\\\\AppData\\\\Local\\\\Programs\\\\Python\\\\Python311\\\\Lib\\\\site-packages\\\\pygments\\\\formatters\\\\terminal256.py'>, 'IPython.utils': <module 'IPython.utils' from 'C:\\\\Users\\\\Green\\\\AppData\\\\Local\\\\Programs\\\\Python\\\\Python311\\\\Lib\\\\site-packages\\\\IPython\\\\utils\\\\__init__.py'>, 'IPython.utils.colorable': <module 'IPython.utils.colorable' from 'C:\\\\Users\\\\Green\\\\AppData\\\\Local\\\\Programs\\\\Python\\\\Python311\\\\Lib\\\\site-packages\\\\IPython\\\\utils\\\\colorable.py'>, 'IPython.utils.ipstruct': <module 'IPython.utils.ipstruct' from 'C:\\\\Users\\\\Green\\\\AppData\\\\Local\\\\Programs\\\\Python\\\\Python311\\\\Lib\\\\site-packages\\\\IPython\\\\utils\\\\ipstruct.py'>, 'IPython.utils.coloransi': <module 'IPython.utils.coloransi' from 'C:\\\\Users\\\\Green\\\\AppData\\\\Local\\\\Programs\\\\Python\\\\Python311\\\\Lib\\\\site-packages\\\\IPython\\\\utils\\\\coloransi.py'>, 'IPython.core.excolors': <module 'IPython.core.excolors' from 'C:\\\\Users\\\\Green\\\\AppData\\\\Local\\\\Programs\\\\Python\\\\Python311\\\\Lib\\\\site-packages\\\\IPython\\\\core\\\\excolors.py'>, 'IPython.utils.PyColorize': <module 'IPython.utils.PyColorize' from 'C:\\\\Users\\\\Green\\\\AppData\\\\Local\\\\Programs\\\\Python\\\\Python311\\\\Lib\\\\site-packages\\\\IPython\\\\utils\\\\PyColorize.py'>, 'IPython.utils.encoding': <module 'IPython.utils.encoding' from 'C:\\\\Users\\\\Green\\\\AppData\\\\Local\\\\Programs\\\\Python\\\\Python311\\\\Lib\\\\site-packages\\\\IPython\\\\utils\\\\encoding.py'>, 'IPython.utils.py3compat': <module 'IPython.utils.py3compat' from 'C:\\\\Users\\\\Green\\\\AppData\\\\Local\\\\Programs\\\\Python\\\\Python311\\\\Lib\\\\site-packages\\\\IPython\\\\utils\\\\py3compat.py'>, 'cmd': <module 'cmd' from 'C:\\\\Users\\\\Green\\\\AppData\\\\Local\\\\Programs\\\\Python\\\\Python311\\\\Lib\\\\cmd.py'>, 'bdb': <module 'bdb' from 'C:\\\\Users\\\\Green\\\\AppData\\\\Local\\\\Programs\\\\Python\\\\Python311\\\\Lib\\\\bdb.py'>, 'codeop': <module 'codeop' from 'C:\\\\Users\\\\Green\\\\AppData\\\\Local\\\\Programs\\\\Python\\\\Python311\\\\Lib\\\\codeop.py'>, 'code': <module 'code' from 'C:\\\\Users\\\\Green\\\\AppData\\\\Local\\\\Programs\\\\Python\\\\Python311\\\\Lib\\\\code.py'>, 'pdb': <module 'pdb' from 'C:\\\\Users\\\\Green\\\\AppData\\\\Local\\\\Programs\\\\Python\\\\Python311\\\\Lib\\\\pdb.py'>, 'IPython.core.debugger': <module 'IPython.core.debugger' from 'C:\\\\Users\\\\Green\\\\AppData\\\\Local\\\\Programs\\\\Python\\\\Python311\\\\Lib\\\\site-packages\\\\IPython\\\\core\\\\debugger.py'>, 'IPython.core.display_trap': <module 'IPython.core.display_trap' from 'C:\\\\Users\\\\Green\\\\AppData\\\\Local\\\\Programs\\\\Python\\\\Python311\\\\Lib\\\\site-packages\\\\IPython\\\\core\\\\display_trap.py'>, 'shlex': <module 'shlex' from 'C:\\\\Users\\\\Green\\\\AppData\\\\Local\\\\Programs\\\\Python\\\\Python311\\\\Lib\\\\shlex.py'>, 'IPython.utils._process_common': <module 'IPython.utils._process_common' from 'C:\\\\Users\\\\Green\\\\AppData\\\\Local\\\\Programs\\\\Python\\\\Python311\\\\Lib\\\\site-packages\\\\IPython\\\\utils\\\\_process_common.py'>, 'IPython.utils._process_win32': <module 'IPython.utils._process_win32' from 'C:\\\\Users\\\\Green\\\\AppData\\\\Local\\\\Programs\\\\Python\\\\Python311\\\\Lib\\\\site-packages\\\\IPython\\\\utils\\\\_process_win32.py'>, 'IPython.utils.process': <module 'IPython.utils.process' from 'C:\\\\Users\\\\Green\\\\AppData\\\\Local\\\\Programs\\\\Python\\\\Python311\\\\Lib\\\\site-packages\\\\IPython\\\\utils\\\\process.py'>, 'IPython.utils.path': <module 'IPython.utils.path' from 'C:\\\\Users\\\\Green\\\\AppData\\\\Local\\\\Programs\\\\Python\\\\Python311\\\\Lib\\\\site-packages\\\\IPython\\\\utils\\\\path.py'>, 'IPython.utils.terminal': <module 'IPython.utils.terminal' from 'C:\\\\Users\\\\Green\\\\AppData\\\\Local\\\\Programs\\\\Python\\\\Python311\\\\Lib\\\\site-packages\\\\IPython\\\\utils\\\\terminal.py'>, 'IPython.core.ultratb': <module 'IPython.core.ultratb' from 'C:\\\\Users\\\\Green\\\\AppData\\\\Local\\\\Programs\\\\Python\\\\Python311\\\\Lib\\\\site-packages\\\\IPython\\\\core\\\\ultratb.py'>, 'IPython.utils._sysinfo': <module 'IPython.utils._sysinfo' from 'C:\\\\Users\\\\Green\\\\AppData\\\\Local\\\\Programs\\\\Python\\\\Python311\\\\Lib\\\\site-packages\\\\IPython\\\\utils\\\\_sysinfo.py'>, 'IPython.utils.sysinfo': <module 'IPython.utils.sysinfo' from 'C:\\\\Users\\\\Green\\\\AppData\\\\Local\\\\Programs\\\\Python\\\\Python311\\\\Lib\\\\site-packages\\\\IPython\\\\utils\\\\sysinfo.py'>, 'IPython.core.crashhandler': <module 'IPython.core.crashhandler' from 'C:\\\\Users\\\\Green\\\\AppData\\\\Local\\\\Programs\\\\Python\\\\Python311\\\\Lib\\\\site-packages\\\\IPython\\\\core\\\\crashhandler.py'>, 'IPython.utils.importstring': <module 'IPython.utils.importstring' from 'C:\\\\Users\\\\Green\\\\AppData\\\\Local\\\\Programs\\\\Python\\\\Python311\\\\Lib\\\\site-packages\\\\IPython\\\\utils\\\\importstring.py'>, 'IPython.paths': <module 'IPython.paths' from 'C:\\\\Users\\\\Green\\\\AppData\\\\Local\\\\Programs\\\\Python\\\\Python311\\\\Lib\\\\site-packages\\\\IPython\\\\paths.py'>, 'IPython.core.profiledir': <module 'IPython.core.profiledir' from 'C:\\\\Users\\\\Green\\\\AppData\\\\Local\\\\Programs\\\\Python\\\\Python311\\\\Lib\\\\site-packages\\\\IPython\\\\core\\\\profiledir.py'>, 'IPython.core.application': <module 'IPython.core.application' from 'C:\\\\Users\\\\Green\\\\AppData\\\\Local\\\\Programs\\\\Python\\\\Python311\\\\Lib\\\\site-packages\\\\IPython\\\\core\\\\application.py'>, 'IPython.terminal': <module 'IPython.terminal' from 'C:\\\\Users\\\\Green\\\\AppData\\\\Local\\\\Programs\\\\Python\\\\Python311\\\\Lib\\\\site-packages\\\\IPython\\\\terminal\\\\__init__.py'>, 'IPython.core.compilerop': <module 'IPython.core.compilerop' from 'C:\\\\Users\\\\Green\\\\AppData\\\\Local\\\\Programs\\\\Python\\\\Python311\\\\Lib\\\\site-packages\\\\IPython\\\\core\\\\compilerop.py'>, 'IPython.core.error': <module 'IPython.core.error' from 'C:\\\\Users\\\\Green\\\\AppData\\\\Local\\\\Programs\\\\Python\\\\Python311\\\\Lib\\\\site-packages\\\\IPython\\\\core\\\\error.py'>, 'IPython.utils.docs': <module 'IPython.utils.docs' from 'C:\\\\Users\\\\Green\\\\AppData\\\\Local\\\\Programs\\\\Python\\\\Python311\\\\Lib\\\\site-packages\\\\IPython\\\\utils\\\\docs.py'>, 'IPython.utils.decorators': <module 'IPython.utils.decorators' from 'C:\\\\Users\\\\Green\\\\AppData\\\\Local\\\\Programs\\\\Python\\\\Python311\\\\Lib\\\\site-packages\\\\IPython\\\\utils\\\\decorators.py'>, 'typing_extensions': <module 'typing_extensions' from 'C:\\\\Users\\\\Green\\\\AppData\\\\Local\\\\Programs\\\\Python\\\\Python311\\\\Lib\\\\site-packages\\\\typing_extensions.py'>, 'IPython.utils.text': <module 'IPython.utils.text' from 'C:\\\\Users\\\\Green\\\\AppData\\\\Local\\\\Programs\\\\Python\\\\Python311\\\\Lib\\\\site-packages\\\\IPython\\\\utils\\\\text.py'>, 'IPython.core.magic_arguments': <module 'IPython.core.magic_arguments' from 'C:\\\\Users\\\\Green\\\\AppData\\\\Local\\\\Programs\\\\Python\\\\Python311\\\\Lib\\\\site-packages\\\\IPython\\\\core\\\\magic_arguments.py'>, 'getopt': <module 'getopt' from 'C:\\\\Users\\\\Green\\\\AppData\\\\Local\\\\Programs\\\\Python\\\\Python311\\\\Lib\\\\getopt.py'>, 'IPython.core.display_functions': <module 'IPython.core.display_functions' from 'C:\\\\Users\\\\Green\\\\AppData\\\\Local\\\\Programs\\\\Python\\\\Python311\\\\Lib\\\\site-packages\\\\IPython\\\\core\\\\display_functions.py'>, 'mimetypes': <module 'mimetypes' from 'C:\\\\Users\\\\Green\\\\AppData\\\\Local\\\\Programs\\\\Python\\\\Python311\\\\Lib\\\\mimetypes.py'>, 'IPython.testing': <module 'IPython.testing' from 'C:\\\\Users\\\\Green\\\\AppData\\\\Local\\\\Programs\\\\Python\\\\Python311\\\\Lib\\\\site-packages\\\\IPython\\\\testing\\\\__init__.py'>, 'IPython.testing.skipdoctest': <module 'IPython.testing.skipdoctest' from 'C:\\\\Users\\\\Green\\\\AppData\\\\Local\\\\Programs\\\\Python\\\\Python311\\\\Lib\\\\site-packages\\\\IPython\\\\testing\\\\skipdoctest.py'>, 'IPython.core.display': <module 'IPython.core.display' from 'C:\\\\Users\\\\Green\\\\AppData\\\\Local\\\\Programs\\\\Python\\\\Python311\\\\Lib\\\\site-packages\\\\IPython\\\\core\\\\display.py'>, 'IPython.lib': <module 'IPython.lib' from 'C:\\\\Users\\\\Green\\\\AppData\\\\Local\\\\Programs\\\\Python\\\\Python311\\\\Lib\\\\site-packages\\\\IPython\\\\lib\\\\__init__.py'>, 'IPython.lib.display': <module 'IPython.lib.display' from 'C:\\\\Users\\\\Green\\\\AppData\\\\Local\\\\Programs\\\\Python\\\\Python311\\\\Lib\\\\site-packages\\\\IPython\\\\lib\\\\display.py'>, 'IPython.display': <module 'IPython.display' from 'C:\\\\Users\\\\Green\\\\AppData\\\\Local\\\\Programs\\\\Python\\\\Python311\\\\Lib\\\\site-packages\\\\IPython\\\\display.py'>, 'IPython.utils.data': <module 'IPython.utils.data' from 'C:\\\\Users\\\\Green\\\\AppData\\\\Local\\\\Programs\\\\Python\\\\Python311\\\\Lib\\\\site-packages\\\\IPython\\\\utils\\\\data.py'>, 'IPython.core.page': <module 'IPython.core.page' from 'C:\\\\Users\\\\Green\\\\AppData\\\\Local\\\\Programs\\\\Python\\\\Python311\\\\Lib\\\\site-packages\\\\IPython\\\\core\\\\page.py'>, 'IPython.lib.pretty': <module 'IPython.lib.pretty' from 'C:\\\\Users\\\\Green\\\\AppData\\\\Local\\\\Programs\\\\Python\\\\Python311\\\\Lib\\\\site-packages\\\\IPython\\\\lib\\\\pretty.py'>, 'IPython.utils.openpy': <module 'IPython.utils.openpy' from 'C:\\\\Users\\\\Green\\\\AppData\\\\Local\\\\Programs\\\\Python\\\\Python311\\\\Lib\\\\site-packages\\\\IPython\\\\utils\\\\openpy.py'>, 'IPython.utils.dir2': <module 'IPython.utils.dir2' from 'C:\\\\Users\\\\Green\\\\AppData\\\\Local\\\\Programs\\\\Python\\\\Python311\\\\Lib\\\\site-packages\\\\IPython\\\\utils\\\\dir2.py'>, 'IPython.utils.wildcard': <module 'IPython.utils.wildcard' from 'C:\\\\Users\\\\Green\\\\AppData\\\\Local\\\\Programs\\\\Python\\\\Python311\\\\Lib\\\\site-packages\\\\IPython\\\\utils\\\\wildcard.py'>, 'pygments.lexers._mapping': <module 'pygments.lexers._mapping' from 'C:\\\\Users\\\\Green\\\\AppData\\\\Local\\\\Programs\\\\Python\\\\Python311\\\\Lib\\\\site-packages\\\\pygments\\\\lexers\\\\_mapping.py'>, 'pygments.modeline': <module 'pygments.modeline' from 'C:\\\\Users\\\\Green\\\\AppData\\\\Local\\\\Programs\\\\Python\\\\Python311\\\\Lib\\\\site-packages\\\\pygments\\\\modeline.py'>, 'pygments.lexers': <module 'pygments.lexers' from 'C:\\\\Users\\\\Green\\\\AppData\\\\Local\\\\Programs\\\\Python\\\\Python311\\\\Lib\\\\site-packages\\\\pygments\\\\lexers\\\\__init__.py'>, 'pygments.filter': <module 'pygments.filter' from 'C:\\\\Users\\\\Green\\\\AppData\\\\Local\\\\Programs\\\\Python\\\\Python311\\\\Lib\\\\site-packages\\\\pygments\\\\filter.py'>, 'pygments.filters': <module 'pygments.filters' from 'C:\\\\Users\\\\Green\\\\AppData\\\\Local\\\\Programs\\\\Python\\\\Python311\\\\Lib\\\\site-packages\\\\pygments\\\\filters\\\\__init__.py'>, 'pygments.regexopt': <module 'pygments.regexopt' from 'C:\\\\Users\\\\Green\\\\AppData\\\\Local\\\\Programs\\\\Python\\\\Python311\\\\Lib\\\\site-packages\\\\pygments\\\\regexopt.py'>, 'pygments.lexer': <module 'pygments.lexer' from 'C:\\\\Users\\\\Green\\\\AppData\\\\Local\\\\Programs\\\\Python\\\\Python311\\\\Lib\\\\site-packages\\\\pygments\\\\lexer.py'>, 'pygments.unistring': <module 'pygments.unistring' from 'C:\\\\Users\\\\Green\\\\AppData\\\\Local\\\\Programs\\\\Python\\\\Python311\\\\Lib\\\\site-packages\\\\pygments\\\\unistring.py'>, 'pygments.lexers.python': <module 'pygments.lexers.python' from 'C:\\\\Users\\\\Green\\\\AppData\\\\Local\\\\Programs\\\\Python\\\\Python311\\\\Lib\\\\site-packages\\\\pygments\\\\lexers\\\\python.py'>, 'pygments.formatters.html': <module 'pygments.formatters.html' from 'C:\\\\Users\\\\Green\\\\AppData\\\\Local\\\\Programs\\\\Python\\\\Python311\\\\Lib\\\\site-packages\\\\pygments\\\\formatters\\\\html.py'>, 'IPython.core.oinspect': <module 'IPython.core.oinspect' from 'C:\\\\Users\\\\Green\\\\AppData\\\\Local\\\\Programs\\\\Python\\\\Python311\\\\Lib\\\\site-packages\\\\IPython\\\\core\\\\oinspect.py'>, 'IPython.utils.tokenutil': <module 'IPython.utils.tokenutil' from 'C:\\\\Users\\\\Green\\\\AppData\\\\Local\\\\Programs\\\\Python\\\\Python311\\\\Lib\\\\site-packages\\\\IPython\\\\utils\\\\tokenutil.py'>, 'IPython.core.inputtransformer2': <module 'IPython.core.inputtransformer2' from 'C:\\\\Users\\\\Green\\\\AppData\\\\Local\\\\Programs\\\\Python\\\\Python311\\\\Lib\\\\site-packages\\\\IPython\\\\core\\\\inputtransformer2.py'>, 'IPython.core.magic': <module 'IPython.core.magic' from 'C:\\\\Users\\\\Green\\\\AppData\\\\Local\\\\Programs\\\\Python\\\\Python311\\\\Lib\\\\site-packages\\\\IPython\\\\core\\\\magic.py'>, 'IPython.core.hooks': <module 'IPython.core.hooks' from 'C:\\\\Users\\\\Green\\\\AppData\\\\Local\\\\Programs\\\\Python\\\\Python311\\\\Lib\\\\site-packages\\\\IPython\\\\core\\\\hooks.py'>, 'IPython.core.autocall': <module 'IPython.core.autocall' from 'C:\\\\Users\\\\Green\\\\AppData\\\\Local\\\\Programs\\\\Python\\\\Python311\\\\Lib\\\\site-packages\\\\IPython\\\\core\\\\autocall.py'>, 'IPython.core.macro': <module 'IPython.core.macro' from 'C:\\\\Users\\\\Green\\\\AppData\\\\Local\\\\Programs\\\\Python\\\\Python311\\\\Lib\\\\site-packages\\\\IPython\\\\core\\\\macro.py'>, 'IPython.core.splitinput': <module 'IPython.core.splitinput' from 'C:\\\\Users\\\\Green\\\\AppData\\\\Local\\\\Programs\\\\Python\\\\Python311\\\\Lib\\\\site-packages\\\\IPython\\\\core\\\\splitinput.py'>, 'IPython.core.prefilter': <module 'IPython.core.prefilter' from 'C:\\\\Users\\\\Green\\\\AppData\\\\Local\\\\Programs\\\\Python\\\\Python311\\\\Lib\\\\site-packages\\\\IPython\\\\core\\\\prefilter.py'>, 'IPython.core.alias': <module 'IPython.core.alias' from 'C:\\\\Users\\\\Green\\\\AppData\\\\Local\\\\Programs\\\\Python\\\\Python311\\\\Lib\\\\site-packages\\\\IPython\\\\core\\\\alias.py'>, 'IPython.core.builtin_trap': <module 'IPython.core.builtin_trap' from 'C:\\\\Users\\\\Green\\\\AppData\\\\Local\\\\Programs\\\\Python\\\\Python311\\\\Lib\\\\site-packages\\\\IPython\\\\core\\\\builtin_trap.py'>, 'IPython.core.displayhook': <module 'IPython.core.displayhook' from 'C:\\\\Users\\\\Green\\\\AppData\\\\Local\\\\Programs\\\\Python\\\\Python311\\\\Lib\\\\site-packages\\\\IPython\\\\core\\\\displayhook.py'>, 'IPython.core.displaypub': <module 'IPython.core.displaypub' from 'C:\\\\Users\\\\Green\\\\AppData\\\\Local\\\\Programs\\\\Python\\\\Python311\\\\Lib\\\\site-packages\\\\IPython\\\\core\\\\displaypub.py'>, 'IPython.core.events': <module 'IPython.core.events' from 'C:\\\\Users\\\\Green\\\\AppData\\\\Local\\\\Programs\\\\Python\\\\Python311\\\\Lib\\\\site-packages\\\\IPython\\\\core\\\\events.py'>, 'IPython.core.extensions': <module 'IPython.core.extensions' from 'C:\\\\Users\\\\Green\\\\AppData\\\\Local\\\\Programs\\\\Python\\\\Python311\\\\Lib\\\\site-packages\\\\IPython\\\\core\\\\extensions.py'>, 'decorator': <module 'decorator' from 'C:\\\\Users\\\\Green\\\\AppData\\\\Local\\\\Programs\\\\Python\\\\Python311\\\\Lib\\\\site-packages\\\\decorator.py'>, 'IPython.utils.sentinel': <module 'IPython.utils.sentinel' from 'C:\\\\Users\\\\Green\\\\AppData\\\\Local\\\\Programs\\\\Python\\\\Python311\\\\Lib\\\\site-packages\\\\IPython\\\\utils\\\\sentinel.py'>, 'IPython.core.formatters': <module 'IPython.core.formatters' from 'C:\\\\Users\\\\Green\\\\AppData\\\\Local\\\\Programs\\\\Python\\\\Python311\\\\Lib\\\\site-packages\\\\IPython\\\\core\\\\formatters.py'>, '_sqlite3': <module '_sqlite3' from 'C:\\\\Users\\\\Green\\\\AppData\\\\Local\\\\Programs\\\\Python\\\\Python311\\\\DLLs\\\\_sqlite3.pyd'>, 'sqlite3.dbapi2': <module 'sqlite3.dbapi2' from 'C:\\\\Users\\\\Green\\\\AppData\\\\Local\\\\Programs\\\\Python\\\\Python311\\\\Lib\\\\sqlite3\\\\dbapi2.py'>, 'sqlite3': <module 'sqlite3' from 'C:\\\\Users\\\\Green\\\\AppData\\\\Local\\\\Programs\\\\Python\\\\Python311\\\\Lib\\\\sqlite3\\\\__init__.py'>, 'IPython.core.history': <module 'IPython.core.history' from 'C:\\\\Users\\\\Green\\\\AppData\\\\Local\\\\Programs\\\\Python\\\\Python311\\\\Lib\\\\site-packages\\\\IPython\\\\core\\\\history.py'>, 'IPython.core.logger': <module 'IPython.core.logger' from 'C:\\\\Users\\\\Green\\\\AppData\\\\Local\\\\Programs\\\\Python\\\\Python311\\\\Lib\\\\site-packages\\\\IPython\\\\core\\\\logger.py'>, 'IPython.core.payload': <module 'IPython.core.payload' from 'C:\\\\Users\\\\Green\\\\AppData\\\\Local\\\\Programs\\\\Python\\\\Python311\\\\Lib\\\\site-packages\\\\IPython\\\\core\\\\payload.py'>, 'IPython.core.usage': <module 'IPython.core.usage' from 'C:\\\\Users\\\\Green\\\\AppData\\\\Local\\\\Programs\\\\Python\\\\Python311\\\\Lib\\\\site-packages\\\\IPython\\\\core\\\\usage.py'>, 'IPython.utils.capture': <module 'IPython.utils.capture' from 'C:\\\\Users\\\\Green\\\\AppData\\\\Local\\\\Programs\\\\Python\\\\Python311\\\\Lib\\\\site-packages\\\\IPython\\\\utils\\\\capture.py'>, 'IPython.utils.io': <module 'IPython.utils.io' from 'C:\\\\Users\\\\Green\\\\AppData\\\\Local\\\\Programs\\\\Python\\\\Python311\\\\Lib\\\\site-packages\\\\IPython\\\\utils\\\\io.py'>, 'IPython.utils.strdispatch': <module 'IPython.utils.strdispatch' from 'C:\\\\Users\\\\Green\\\\AppData\\\\Local\\\\Programs\\\\Python\\\\Python311\\\\Lib\\\\site-packages\\\\IPython\\\\utils\\\\strdispatch.py'>, 'IPython.utils.syspathcontext': <module 'IPython.utils.syspathcontext' from 'C:\\\\Users\\\\Green\\\\AppData\\\\Local\\\\Programs\\\\Python\\\\Python311\\\\Lib\\\\site-packages\\\\IPython\\\\utils\\\\syspathcontext.py'>, 'IPython.core.async_helpers': <module 'IPython.core.async_helpers' from 'C:\\\\Users\\\\Green\\\\AppData\\\\Local\\\\Programs\\\\Python\\\\Python311\\\\Lib\\\\site-packages\\\\IPython\\\\core\\\\async_helpers.py'>, 'IPython.core.interactiveshell': <module 'IPython.core.interactiveshell' from 'C:\\\\Users\\\\Green\\\\AppData\\\\Local\\\\Programs\\\\Python\\\\Python311\\\\Lib\\\\site-packages\\\\IPython\\\\core\\\\interactiveshell.py'>, 'prompt_toolkit.application.current': <module 'prompt_toolkit.application.current' from 'C:\\\\Users\\\\Green\\\\AppData\\\\Local\\\\Programs\\\\Python\\\\Python311\\\\Lib\\\\site-packages\\\\prompt_toolkit\\\\application\\\\current.py'>, 'prompt_toolkit.eventloop.utils': <module 'prompt_toolkit.eventloop.utils' from 'C:\\\\Users\\\\Green\\\\AppData\\\\Local\\\\Programs\\\\Python\\\\Python311\\\\Lib\\\\site-packages\\\\prompt_toolkit\\\\eventloop\\\\utils.py'>, 'prompt_toolkit.eventloop.async_generator': <module 'prompt_toolkit.eventloop.async_generator' from 'C:\\\\Users\\\\Green\\\\AppData\\\\Local\\\\Programs\\\\Python\\\\Python311\\\\Lib\\\\site-packages\\\\prompt_toolkit\\\\eventloop\\\\async_generator.py'>, 'prompt_toolkit.eventloop.inputhook': <module 'prompt_toolkit.eventloop.inputhook' from 'C:\\\\Users\\\\Green\\\\AppData\\\\Local\\\\Programs\\\\Python\\\\Python311\\\\Lib\\\\site-packages\\\\prompt_toolkit\\\\eventloop\\\\inputhook.py'>, 'prompt_toolkit.eventloop': <module 'prompt_toolkit.eventloop' from 'C:\\\\Users\\\\Green\\\\AppData\\\\Local\\\\Programs\\\\Python\\\\Python311\\\\Lib\\\\site-packages\\\\prompt_toolkit\\\\eventloop\\\\__init__.py'>, 'prompt_toolkit.application.run_in_terminal': <module 'prompt_toolkit.application.run_in_terminal' from 'C:\\\\Users\\\\Green\\\\AppData\\\\Local\\\\Programs\\\\Python\\\\Python311\\\\Lib\\\\site-packages\\\\prompt_toolkit\\\\application\\\\run_in_terminal.py'>, 'prompt_toolkit.selection': <module 'prompt_toolkit.selection' from 'C:\\\\Users\\\\Green\\\\AppData\\\\Local\\\\Programs\\\\Python\\\\Python311\\\\Lib\\\\site-packages\\\\prompt_toolkit\\\\selection.py'>, 'prompt_toolkit.clipboard.base': <module 'prompt_toolkit.clipboard.base' from 'C:\\\\Users\\\\Green\\\\AppData\\\\Local\\\\Programs\\\\Python\\\\Python311\\\\Lib\\\\site-packages\\\\prompt_toolkit\\\\clipboard\\\\base.py'>, 'prompt_toolkit.clipboard.in_memory': <module 'prompt_toolkit.clipboard.in_memory' from 'C:\\\\Users\\\\Green\\\\AppData\\\\Local\\\\Programs\\\\Python\\\\Python311\\\\Lib\\\\site-packages\\\\prompt_toolkit\\\\clipboard\\\\in_memory.py'>, 'prompt_toolkit.clipboard': <module 'prompt_toolkit.clipboard' from 'C:\\\\Users\\\\Green\\\\AppData\\\\Local\\\\Programs\\\\Python\\\\Python311\\\\Lib\\\\site-packages\\\\prompt_toolkit\\\\clipboard\\\\__init__.py'>, 'prompt_toolkit.cache': <module 'prompt_toolkit.cache' from 'C:\\\\Users\\\\Green\\\\AppData\\\\Local\\\\Programs\\\\Python\\\\Python311\\\\Lib\\\\site-packages\\\\prompt_toolkit\\\\cache.py'>, 'prompt_toolkit.enums': <module 'prompt_toolkit.enums' from 'C:\\\\Users\\\\Green\\\\AppData\\\\Local\\\\Programs\\\\Python\\\\Python311\\\\Lib\\\\site-packages\\\\prompt_toolkit\\\\enums.py'>, 'prompt_toolkit.filters.base': <module 'prompt_toolkit.filters.base' from 'C:\\\\Users\\\\Green\\\\AppData\\\\Local\\\\Programs\\\\Python\\\\Python311\\\\Lib\\\\site-packages\\\\prompt_toolkit\\\\filters\\\\base.py'>, 'prompt_toolkit.filters.app': <module 'prompt_toolkit.filters.app' from 'C:\\\\Users\\\\Green\\\\AppData\\\\Local\\\\Programs\\\\Python\\\\Python311\\\\Lib\\\\site-packages\\\\prompt_toolkit\\\\filters\\\\app.py'>, 'prompt_toolkit.filters.cli': <module 'prompt_toolkit.filters.cli' from 'C:\\\\Users\\\\Green\\\\AppData\\\\Local\\\\Programs\\\\Python\\\\Python311\\\\Lib\\\\site-packages\\\\prompt_toolkit\\\\filters\\\\cli.py'>, 'prompt_toolkit.filters.utils': <module 'prompt_toolkit.filters.utils' from 'C:\\\\Users\\\\Green\\\\AppData\\\\Local\\\\Programs\\\\Python\\\\Python311\\\\Lib\\\\site-packages\\\\prompt_toolkit\\\\filters\\\\utils.py'>, 'prompt_toolkit.filters': <module 'prompt_toolkit.filters' from 'C:\\\\Users\\\\Green\\\\AppData\\\\Local\\\\Programs\\\\Python\\\\Python311\\\\Lib\\\\site-packages\\\\prompt_toolkit\\\\filters\\\\__init__.py'>, 'prompt_toolkit.document': <module 'prompt_toolkit.document' from 'C:\\\\Users\\\\Green\\\\AppData\\\\Local\\\\Programs\\\\Python\\\\Python311\\\\Lib\\\\site-packages\\\\prompt_toolkit\\\\document.py'>, 'prompt_toolkit.auto_suggest': <module 'prompt_toolkit.auto_suggest' from 'C:\\\\Users\\\\Green\\\\AppData\\\\Local\\\\Programs\\\\Python\\\\Python311\\\\Lib\\\\site-packages\\\\prompt_toolkit\\\\auto_suggest.py'>, 'prompt_toolkit.keys': <module 'prompt_toolkit.keys' from 'C:\\\\Users\\\\Green\\\\AppData\\\\Local\\\\Programs\\\\Python\\\\Python311\\\\Lib\\\\site-packages\\\\prompt_toolkit\\\\keys.py'>, 'prompt_toolkit.key_binding.key_bindings': <module 'prompt_toolkit.key_binding.key_bindings' from 'C:\\\\Users\\\\Green\\\\AppData\\\\Local\\\\Programs\\\\Python\\\\Python311\\\\Lib\\\\site-packages\\\\prompt_toolkit\\\\key_binding\\\\key_bindings.py'>, 'wcwidth.table_vs16': <module 'wcwidth.table_vs16' from 'C:\\\\Users\\\\Green\\\\AppData\\\\Local\\\\Programs\\\\Python\\\\Python311\\\\Lib\\\\site-packages\\\\wcwidth\\\\table_vs16.py'>, 'wcwidth.table_wide': <module 'wcwidth.table_wide' from 'C:\\\\Users\\\\Green\\\\AppData\\\\Local\\\\Programs\\\\Python\\\\Python311\\\\Lib\\\\site-packages\\\\wcwidth\\\\table_wide.py'>, 'wcwidth.table_zero': <module 'wcwidth.table_zero' from 'C:\\\\Users\\\\Green\\\\AppData\\\\Local\\\\Programs\\\\Python\\\\Python311\\\\Lib\\\\site-packages\\\\wcwidth\\\\table_zero.py'>, 'wcwidth.unicode_versions': <module 'wcwidth.unicode_versions' from 'C:\\\\Users\\\\Green\\\\AppData\\\\Local\\\\Programs\\\\Python\\\\Python311\\\\Lib\\\\site-packages\\\\wcwidth\\\\unicode_versions.py'>, 'wcwidth.wcwidth': <module 'wcwidth.wcwidth' from 'C:\\\\Users\\\\Green\\\\AppData\\\\Local\\\\Programs\\\\Python\\\\Python311\\\\Lib\\\\site-packages\\\\wcwidth\\\\wcwidth.py'>, 'wcwidth': <module 'wcwidth' from 'C:\\\\Users\\\\Green\\\\AppData\\\\Local\\\\Programs\\\\Python\\\\Python311\\\\Lib\\\\site-packages\\\\wcwidth\\\\__init__.py'>, 'prompt_toolkit.utils': <module 'prompt_toolkit.utils' from 'C:\\\\Users\\\\Green\\\\AppData\\\\Local\\\\Programs\\\\Python\\\\Python311\\\\Lib\\\\site-packages\\\\prompt_toolkit\\\\utils.py'>, 'prompt_toolkit.key_binding.key_processor': <module 'prompt_toolkit.key_binding.key_processor' from 'C:\\\\Users\\\\Green\\\\AppData\\\\Local\\\\Programs\\\\Python\\\\Python311\\\\Lib\\\\site-packages\\\\prompt_toolkit\\\\key_binding\\\\key_processor.py'>, 'prompt_toolkit.key_binding': <module 'prompt_toolkit.key_binding' from 'C:\\\\Users\\\\Green\\\\AppData\\\\Local\\\\Programs\\\\Python\\\\Python311\\\\Lib\\\\site-packages\\\\prompt_toolkit\\\\key_binding\\\\__init__.py'>, 'prompt_toolkit.key_binding.vi_state': <module 'prompt_toolkit.key_binding.vi_state' from 'C:\\\\Users\\\\Green\\\\AppData\\\\Local\\\\Programs\\\\Python\\\\Python311\\\\Lib\\\\site-packages\\\\prompt_toolkit\\\\key_binding\\\\vi_state.py'>, 'prompt_toolkit.cursor_shapes': <module 'prompt_toolkit.cursor_shapes' from 'C:\\\\Users\\\\Green\\\\AppData\\\\Local\\\\Programs\\\\Python\\\\Python311\\\\Lib\\\\site-packages\\\\prompt_toolkit\\\\cursor_shapes.py'>, 'prompt_toolkit.data_structures': <module 'prompt_toolkit.data_structures' from 'C:\\\\Users\\\\Green\\\\AppData\\\\Local\\\\Programs\\\\Python\\\\Python311\\\\Lib\\\\site-packages\\\\prompt_toolkit\\\\data_structures.py'>, 'prompt_toolkit.styles.base': <module 'prompt_toolkit.styles.base' from 'C:\\\\Users\\\\Green\\\\AppData\\\\Local\\\\Programs\\\\Python\\\\Python311\\\\Lib\\\\site-packages\\\\prompt_toolkit\\\\styles\\\\base.py'>, 'prompt_toolkit.styles.named_colors': <module 'prompt_toolkit.styles.named_colors' from 'C:\\\\Users\\\\Green\\\\AppData\\\\Local\\\\Programs\\\\Python\\\\Python311\\\\Lib\\\\site-packages\\\\prompt_toolkit\\\\styles\\\\named_colors.py'>, 'prompt_toolkit.styles.style': <module 'prompt_toolkit.styles.style' from 'C:\\\\Users\\\\Green\\\\AppData\\\\Local\\\\Programs\\\\Python\\\\Python311\\\\Lib\\\\site-packages\\\\prompt_toolkit\\\\styles\\\\style.py'>, 'prompt_toolkit.styles.defaults': <module 'prompt_toolkit.styles.defaults' from 'C:\\\\Users\\\\Green\\\\AppData\\\\Local\\\\Programs\\\\Python\\\\Python311\\\\Lib\\\\site-packages\\\\prompt_toolkit\\\\styles\\\\defaults.py'>, 'prompt_toolkit.styles.pygments': <module 'prompt_toolkit.styles.pygments' from 'C:\\\\Users\\\\Green\\\\AppData\\\\Local\\\\Programs\\\\Python\\\\Python311\\\\Lib\\\\site-packages\\\\prompt_toolkit\\\\styles\\\\pygments.py'>, 'colorsys': <module 'colorsys' from 'C:\\\\Users\\\\Green\\\\AppData\\\\Local\\\\Programs\\\\Python\\\\Python311\\\\Lib\\\\colorsys.py'>, 'prompt_toolkit.styles.style_transformation': <module 'prompt_toolkit.styles.style_transformation' from 'C:\\\\Users\\\\Green\\\\AppData\\\\Local\\\\Programs\\\\Python\\\\Python311\\\\Lib\\\\site-packages\\\\prompt_toolkit\\\\styles\\\\style_transformation.py'>, 'prompt_toolkit.styles': <module 'prompt_toolkit.styles' from 'C:\\\\Users\\\\Green\\\\AppData\\\\Local\\\\Programs\\\\Python\\\\Python311\\\\Lib\\\\site-packages\\\\prompt_toolkit\\\\styles\\\\__init__.py'>, 'prompt_toolkit.output.color_depth': <module 'prompt_toolkit.output.color_depth' from 'C:\\\\Users\\\\Green\\\\AppData\\\\Local\\\\Programs\\\\Python\\\\Python311\\\\Lib\\\\site-packages\\\\prompt_toolkit\\\\output\\\\color_depth.py'>, 'prompt_toolkit.output.base': <module 'prompt_toolkit.output.base' from 'C:\\\\Users\\\\Green\\\\AppData\\\\Local\\\\Programs\\\\Python\\\\Python311\\\\Lib\\\\site-packages\\\\prompt_toolkit\\\\output\\\\base.py'>, 'prompt_toolkit.output.flush_stdout': <module 'prompt_toolkit.output.flush_stdout' from 'C:\\\\Users\\\\Green\\\\AppData\\\\Local\\\\Programs\\\\Python\\\\Python311\\\\Lib\\\\site-packages\\\\prompt_toolkit\\\\output\\\\flush_stdout.py'>, 'prompt_toolkit.output.plain_text': <module 'prompt_toolkit.output.plain_text' from 'C:\\\\Users\\\\Green\\\\AppData\\\\Local\\\\Programs\\\\Python\\\\Python311\\\\Lib\\\\site-packages\\\\prompt_toolkit\\\\output\\\\plain_text.py'>, 'prompt_toolkit.output.defaults': <module 'prompt_toolkit.output.defaults' from 'C:\\\\Users\\\\Green\\\\AppData\\\\Local\\\\Programs\\\\Python\\\\Python311\\\\Lib\\\\site-packages\\\\prompt_toolkit\\\\output\\\\defaults.py'>, 'prompt_toolkit.output': <module 'prompt_toolkit.output' from 'C:\\\\Users\\\\Green\\\\AppData\\\\Local\\\\Programs\\\\Python\\\\Python311\\\\Lib\\\\site-packages\\\\prompt_toolkit\\\\output\\\\__init__.py'>, 'prompt_toolkit.output.vt100': <module 'prompt_toolkit.output.vt100' from 'C:\\\\Users\\\\Green\\\\AppData\\\\Local\\\\Programs\\\\Python\\\\Python311\\\\Lib\\\\site-packages\\\\prompt_toolkit\\\\output\\\\vt100.py'>, 'prompt_toolkit.mouse_events': <module 'prompt_toolkit.mouse_events' from 'C:\\\\Users\\\\Green\\\\AppData\\\\Local\\\\Programs\\\\Python\\\\Python311\\\\Lib\\\\site-packages\\\\prompt_toolkit\\\\mouse_events.py'>, 'prompt_toolkit.formatted_text.base': <module 'prompt_toolkit.formatted_text.base' from 'C:\\\\Users\\\\Green\\\\AppData\\\\Local\\\\Programs\\\\Python\\\\Python311\\\\Lib\\\\site-packages\\\\prompt_toolkit\\\\formatted_text\\\\base.py'>, 'prompt_toolkit.formatted_text.ansi': <module 'prompt_toolkit.formatted_text.ansi' from 'C:\\\\Users\\\\Green\\\\AppData\\\\Local\\\\Programs\\\\Python\\\\Python311\\\\Lib\\\\site-packages\\\\prompt_toolkit\\\\formatted_text\\\\ansi.py'>, 'xml': <module 'xml' from 'C:\\\\Users\\\\Green\\\\AppData\\\\Local\\\\Programs\\\\Python\\\\Python311\\\\Lib\\\\xml\\\\__init__.py'>, 'xml.dom.domreg': <module 'xml.dom.domreg' from 'C:\\\\Users\\\\Green\\\\AppData\\\\Local\\\\Programs\\\\Python\\\\Python311\\\\Lib\\\\xml\\\\dom\\\\domreg.py'>, 'xml.dom': <module 'xml.dom' from 'C:\\\\Users\\\\Green\\\\AppData\\\\Local\\\\Programs\\\\Python\\\\Python311\\\\Lib\\\\xml\\\\dom\\\\__init__.py'>, 'xml.dom.minicompat': <module 'xml.dom.minicompat' from 'C:\\\\Users\\\\Green\\\\AppData\\\\Local\\\\Programs\\\\Python\\\\Python311\\\\Lib\\\\xml\\\\dom\\\\minicompat.py'>, 'xml.dom.NodeFilter': <module 'xml.dom.NodeFilter' from 'C:\\\\Users\\\\Green\\\\AppData\\\\Local\\\\Programs\\\\Python\\\\Python311\\\\Lib\\\\xml\\\\dom\\\\NodeFilter.py'>, 'xml.dom.xmlbuilder': <module 'xml.dom.xmlbuilder' from 'C:\\\\Users\\\\Green\\\\AppData\\\\Local\\\\Programs\\\\Python\\\\Python311\\\\Lib\\\\xml\\\\dom\\\\xmlbuilder.py'>, 'xml.dom.minidom': <module 'xml.dom.minidom' from 'C:\\\\Users\\\\Green\\\\AppData\\\\Local\\\\Programs\\\\Python\\\\Python311\\\\Lib\\\\xml\\\\dom\\\\minidom.py'>, 'prompt_toolkit.formatted_text.html': <module 'prompt_toolkit.formatted_text.html' from 'C:\\\\Users\\\\Green\\\\AppData\\\\Local\\\\Programs\\\\Python\\\\Python311\\\\Lib\\\\site-packages\\\\prompt_toolkit\\\\formatted_text\\\\html.py'>, 'prompt_toolkit.formatted_text.pygments': <module 'prompt_toolkit.formatted_text.pygments' from 'C:\\\\Users\\\\Green\\\\AppData\\\\Local\\\\Programs\\\\Python\\\\Python311\\\\Lib\\\\site-packages\\\\prompt_toolkit\\\\formatted_text\\\\pygments.py'>, 'prompt_toolkit.formatted_text.utils': <module 'prompt_toolkit.formatted_text.utils' from 'C:\\\\Users\\\\Green\\\\AppData\\\\Local\\\\Programs\\\\Python\\\\Python311\\\\Lib\\\\site-packages\\\\prompt_toolkit\\\\formatted_text\\\\utils.py'>, 'prompt_toolkit.formatted_text': <module 'prompt_toolkit.formatted_text' from 'C:\\\\Users\\\\Green\\\\AppData\\\\Local\\\\Programs\\\\Python\\\\Python311\\\\Lib\\\\site-packages\\\\prompt_toolkit\\\\formatted_text\\\\__init__.py'>, 'prompt_toolkit.completion.base': <module 'prompt_toolkit.completion.base' from 'C:\\\\Users\\\\Green\\\\AppData\\\\Local\\\\Programs\\\\Python\\\\Python311\\\\Lib\\\\site-packages\\\\prompt_toolkit\\\\completion\\\\base.py'>, 'prompt_toolkit.completion.deduplicate': <module 'prompt_toolkit.completion.deduplicate' from 'C:\\\\Users\\\\Green\\\\AppData\\\\Local\\\\Programs\\\\Python\\\\Python311\\\\Lib\\\\site-packages\\\\prompt_toolkit\\\\completion\\\\deduplicate.py'>, 'prompt_toolkit.completion.filesystem': <module 'prompt_toolkit.completion.filesystem' from 'C:\\\\Users\\\\Green\\\\AppData\\\\Local\\\\Programs\\\\Python\\\\Python311\\\\Lib\\\\site-packages\\\\prompt_toolkit\\\\completion\\\\filesystem.py'>, 'prompt_toolkit.completion.word_completer': <module 'prompt_toolkit.completion.word_completer' from 'C:\\\\Users\\\\Green\\\\AppData\\\\Local\\\\Programs\\\\Python\\\\Python311\\\\Lib\\\\site-packages\\\\prompt_toolkit\\\\completion\\\\word_completer.py'>, 'prompt_toolkit.completion.fuzzy_completer': <module 'prompt_toolkit.completion.fuzzy_completer' from 'C:\\\\Users\\\\Green\\\\AppData\\\\Local\\\\Programs\\\\Python\\\\Python311\\\\Lib\\\\site-packages\\\\prompt_toolkit\\\\completion\\\\fuzzy_completer.py'>, 'prompt_toolkit.completion.nested': <module 'prompt_toolkit.completion.nested' from 'C:\\\\Users\\\\Green\\\\AppData\\\\Local\\\\Programs\\\\Python\\\\Python311\\\\Lib\\\\site-packages\\\\prompt_toolkit\\\\completion\\\\nested.py'>, 'prompt_toolkit.completion': <module 'prompt_toolkit.completion' from 'C:\\\\Users\\\\Green\\\\AppData\\\\Local\\\\Programs\\\\Python\\\\Python311\\\\Lib\\\\site-packages\\\\prompt_toolkit\\\\completion\\\\__init__.py'>, 'prompt_toolkit.history': <module 'prompt_toolkit.history' from 'C:\\\\Users\\\\Green\\\\AppData\\\\Local\\\\Programs\\\\Python\\\\Python311\\\\Lib\\\\site-packages\\\\prompt_toolkit\\\\history.py'>, 'prompt_toolkit.search': <module 'prompt_toolkit.search' from 'C:\\\\Users\\\\Green\\\\AppData\\\\Local\\\\Programs\\\\Python\\\\Python311\\\\Lib\\\\site-packages\\\\prompt_toolkit\\\\search.py'>, 'prompt_toolkit.validation': <module 'prompt_toolkit.validation' from 'C:\\\\Users\\\\Green\\\\AppData\\\\Local\\\\Programs\\\\Python\\\\Python311\\\\Lib\\\\site-packages\\\\prompt_toolkit\\\\validation.py'>, 'prompt_toolkit.buffer': <module 'prompt_toolkit.buffer' from 'C:\\\\Users\\\\Green\\\\AppData\\\\Local\\\\Programs\\\\Python\\\\Python311\\\\Lib\\\\site-packages\\\\prompt_toolkit\\\\buffer.py'>, 'prompt_toolkit.input.base': <module 'prompt_toolkit.input.base' from 'C:\\\\Users\\\\Green\\\\AppData\\\\Local\\\\Programs\\\\Python\\\\Python311\\\\Lib\\\\site-packages\\\\prompt_toolkit\\\\input\\\\base.py'>, 'prompt_toolkit.input.defaults': <module 'prompt_toolkit.input.defaults' from 'C:\\\\Users\\\\Green\\\\AppData\\\\Local\\\\Programs\\\\Python\\\\Python311\\\\Lib\\\\site-packages\\\\prompt_toolkit\\\\input\\\\defaults.py'>, 'prompt_toolkit.input': <module 'prompt_toolkit.input' from 'C:\\\\Users\\\\Green\\\\AppData\\\\Local\\\\Programs\\\\Python\\\\Python311\\\\Lib\\\\site-packages\\\\prompt_toolkit\\\\input\\\\__init__.py'>, 'prompt_toolkit.input.typeahead': <module 'prompt_toolkit.input.typeahead' from 'C:\\\\Users\\\\Green\\\\AppData\\\\Local\\\\Programs\\\\Python\\\\Python311\\\\Lib\\\\site-packages\\\\prompt_toolkit\\\\input\\\\typeahead.py'>, 'prompt_toolkit.key_binding.bindings': <module 'prompt_toolkit.key_binding.bindings' from 'C:\\\\Users\\\\Green\\\\AppData\\\\Local\\\\Programs\\\\Python\\\\Python311\\\\Lib\\\\site-packages\\\\prompt_toolkit\\\\key_binding\\\\bindings\\\\__init__.py'>, 'prompt_toolkit.key_binding.bindings.scroll': <module 'prompt_toolkit.key_binding.bindings.scroll' from 'C:\\\\Users\\\\Green\\\\AppData\\\\Local\\\\Programs\\\\Python\\\\Python311\\\\Lib\\\\site-packages\\\\prompt_toolkit\\\\key_binding\\\\bindings\\\\scroll.py'>, 'prompt_toolkit.key_binding.bindings.page_navigation': <module 'prompt_toolkit.key_binding.bindings.page_navigation' from 'C:\\\\Users\\\\Green\\\\AppData\\\\Local\\\\Programs\\\\Python\\\\Python311\\\\Lib\\\\site-packages\\\\prompt_toolkit\\\\key_binding\\\\bindings\\\\page_navigation.py'>, 'prompt_toolkit.lexers.base': <module 'prompt_toolkit.lexers.base' from 'C:\\\\Users\\\\Green\\\\AppData\\\\Local\\\\Programs\\\\Python\\\\Python311\\\\Lib\\\\site-packages\\\\prompt_toolkit\\\\lexers\\\\base.py'>, 'prompt_toolkit.lexers.pygments': <module 'prompt_toolkit.lexers.pygments' from 'C:\\\\Users\\\\Green\\\\AppData\\\\Local\\\\Programs\\\\Python\\\\Python311\\\\Lib\\\\site-packages\\\\prompt_toolkit\\\\lexers\\\\pygments.py'>, 'prompt_toolkit.lexers': <module 'prompt_toolkit.lexers' from 'C:\\\\Users\\\\Green\\\\AppData\\\\Local\\\\Programs\\\\Python\\\\Python311\\\\Lib\\\\site-packages\\\\prompt_toolkit\\\\lexers\\\\__init__.py'>, 'prompt_toolkit.layout.utils': <module 'prompt_toolkit.layout.utils' from 'C:\\\\Users\\\\Green\\\\AppData\\\\Local\\\\Programs\\\\Python\\\\Python311\\\\Lib\\\\site-packages\\\\prompt_toolkit\\\\layout\\\\utils.py'>, 'prompt_toolkit.layout.processors': <module 'prompt_toolkit.layout.processors' from 'C:\\\\Users\\\\Green\\\\AppData\\\\Local\\\\Programs\\\\Python\\\\Python311\\\\Lib\\\\site-packages\\\\prompt_toolkit\\\\layout\\\\processors.py'>, 'prompt_toolkit.layout.controls': <module 'prompt_toolkit.layout.controls' from 'C:\\\\Users\\\\Green\\\\AppData\\\\Local\\\\Programs\\\\Python\\\\Python311\\\\Lib\\\\site-packages\\\\prompt_toolkit\\\\layout\\\\controls.py'>, 'prompt_toolkit.layout.dimension': <module 'prompt_toolkit.layout.dimension' from 'C:\\\\Users\\\\Green\\\\AppData\\\\Local\\\\Programs\\\\Python\\\\Python311\\\\Lib\\\\site-packages\\\\prompt_toolkit\\\\layout\\\\dimension.py'>, 'prompt_toolkit.layout.margins': <module 'prompt_toolkit.layout.margins' from 'C:\\\\Users\\\\Green\\\\AppData\\\\Local\\\\Programs\\\\Python\\\\Python311\\\\Lib\\\\site-packages\\\\prompt_toolkit\\\\layout\\\\margins.py'>, 'prompt_toolkit.layout.mouse_handlers': <module 'prompt_toolkit.layout.mouse_handlers' from 'C:\\\\Users\\\\Green\\\\AppData\\\\Local\\\\Programs\\\\Python\\\\Python311\\\\Lib\\\\site-packages\\\\prompt_toolkit\\\\layout\\\\mouse_handlers.py'>, 'prompt_toolkit.layout.screen': <module 'prompt_toolkit.layout.screen' from 'C:\\\\Users\\\\Green\\\\AppData\\\\Local\\\\Programs\\\\Python\\\\Python311\\\\Lib\\\\site-packages\\\\prompt_toolkit\\\\layout\\\\screen.py'>, 'prompt_toolkit.layout.containers': <module 'prompt_toolkit.layout.containers' from 'C:\\\\Users\\\\Green\\\\AppData\\\\Local\\\\Programs\\\\Python\\\\Python311\\\\Lib\\\\site-packages\\\\prompt_toolkit\\\\layout\\\\containers.py'>, 'prompt_toolkit.layout.layout': <module 'prompt_toolkit.layout.layout' from 'C:\\\\Users\\\\Green\\\\AppData\\\\Local\\\\Programs\\\\Python\\\\Python311\\\\Lib\\\\site-packages\\\\prompt_toolkit\\\\layout\\\\layout.py'>, 'prompt_toolkit.layout.menus': <module 'prompt_toolkit.layout.menus' from 'C:\\\\Users\\\\Green\\\\AppData\\\\Local\\\\Programs\\\\Python\\\\Python311\\\\Lib\\\\site-packages\\\\prompt_toolkit\\\\layout\\\\menus.py'>, 'prompt_toolkit.layout.scrollable_pane': <module 'prompt_toolkit.layout.scrollable_pane' from 'C:\\\\Users\\\\Green\\\\AppData\\\\Local\\\\Programs\\\\Python\\\\Python311\\\\Lib\\\\site-packages\\\\prompt_toolkit\\\\layout\\\\scrollable_pane.py'>, 'prompt_toolkit.layout': <module 'prompt_toolkit.layout' from 'C:\\\\Users\\\\Green\\\\AppData\\\\Local\\\\Programs\\\\Python\\\\Python311\\\\Lib\\\\site-packages\\\\prompt_toolkit\\\\layout\\\\__init__.py'>, 'prompt_toolkit.key_binding.bindings.completion': <module 'prompt_toolkit.key_binding.bindings.completion' from 'C:\\\\Users\\\\Green\\\\AppData\\\\Local\\\\Programs\\\\Python\\\\Python311\\\\Lib\\\\site-packages\\\\prompt_toolkit\\\\key_binding\\\\bindings\\\\completion.py'>, 'prompt_toolkit.key_binding.bindings.named_commands': <module 'prompt_toolkit.key_binding.bindings.named_commands' from 'C:\\\\Users\\\\Green\\\\AppData\\\\Local\\\\Programs\\\\Python\\\\Python311\\\\Lib\\\\site-packages\\\\prompt_toolkit\\\\key_binding\\\\bindings\\\\named_commands.py'>, 'prompt_toolkit.key_binding.bindings.basic': <module 'prompt_toolkit.key_binding.bindings.basic' from 'C:\\\\Users\\\\Green\\\\AppData\\\\Local\\\\Programs\\\\Python\\\\Python311\\\\Lib\\\\site-packages\\\\prompt_toolkit\\\\key_binding\\\\bindings\\\\basic.py'>, 'prompt_toolkit.key_binding.bindings.cpr': <module 'prompt_toolkit.key_binding.bindings.cpr' from 'C:\\\\Users\\\\Green\\\\AppData\\\\Local\\\\Programs\\\\Python\\\\Python311\\\\Lib\\\\site-packages\\\\prompt_toolkit\\\\key_binding\\\\bindings\\\\cpr.py'>, 'prompt_toolkit.key_binding.bindings.emacs': <module 'prompt_toolkit.key_binding.bindings.emacs' from 'C:\\\\Users\\\\Green\\\\AppData\\\\Local\\\\Programs\\\\Python\\\\Python311\\\\Lib\\\\site-packages\\\\prompt_toolkit\\\\key_binding\\\\bindings\\\\emacs.py'>, 'prompt_toolkit.key_binding.bindings.mouse': <module 'prompt_toolkit.key_binding.bindings.mouse' from 'C:\\\\Users\\\\Green\\\\AppData\\\\Local\\\\Programs\\\\Python\\\\Python311\\\\Lib\\\\site-packages\\\\prompt_toolkit\\\\key_binding\\\\bindings\\\\mouse.py'>, 'prompt_toolkit.input.ansi_escape_sequences': <module 'prompt_toolkit.input.ansi_escape_sequences' from 'C:\\\\Users\\\\Green\\\\AppData\\\\Local\\\\Programs\\\\Python\\\\Python311\\\\Lib\\\\site-packages\\\\prompt_toolkit\\\\input\\\\ansi_escape_sequences.py'>, 'prompt_toolkit.input.vt100_parser': <module 'prompt_toolkit.input.vt100_parser' from 'C:\\\\Users\\\\Green\\\\AppData\\\\Local\\\\Programs\\\\Python\\\\Python311\\\\Lib\\\\site-packages\\\\prompt_toolkit\\\\input\\\\vt100_parser.py'>, 'prompt_toolkit.key_binding.digraphs': <module 'prompt_toolkit.key_binding.digraphs' from 'C:\\\\Users\\\\Green\\\\AppData\\\\Local\\\\Programs\\\\Python\\\\Python311\\\\Lib\\\\site-packages\\\\prompt_toolkit\\\\key_binding\\\\digraphs.py'>, 'prompt_toolkit.key_binding.bindings.vi': <module 'prompt_toolkit.key_binding.bindings.vi' from 'C:\\\\Users\\\\Green\\\\AppData\\\\Local\\\\Programs\\\\Python\\\\Python311\\\\Lib\\\\site-packages\\\\prompt_toolkit\\\\key_binding\\\\bindings\\\\vi.py'>, 'prompt_toolkit.key_binding.defaults': <module 'prompt_toolkit.key_binding.defaults' from 'C:\\\\Users\\\\Green\\\\AppData\\\\Local\\\\Programs\\\\Python\\\\Python311\\\\Lib\\\\site-packages\\\\prompt_toolkit\\\\key_binding\\\\defaults.py'>, 'prompt_toolkit.key_binding.emacs_state': <module 'prompt_toolkit.key_binding.emacs_state' from 'C:\\\\Users\\\\Green\\\\AppData\\\\Local\\\\Programs\\\\Python\\\\Python311\\\\Lib\\\\site-packages\\\\prompt_toolkit\\\\key_binding\\\\emacs_state.py'>, 'prompt_toolkit.layout.dummy': <module 'prompt_toolkit.layout.dummy' from 'C:\\\\Users\\\\Green\\\\AppData\\\\Local\\\\Programs\\\\Python\\\\Python311\\\\Lib\\\\site-packages\\\\prompt_toolkit\\\\layout\\\\dummy.py'>, 'prompt_toolkit.renderer': <module 'prompt_toolkit.renderer' from 'C:\\\\Users\\\\Green\\\\AppData\\\\Local\\\\Programs\\\\Python\\\\Python311\\\\Lib\\\\site-packages\\\\prompt_toolkit\\\\renderer.py'>, 'prompt_toolkit.application.application': <module 'prompt_toolkit.application.application' from 'C:\\\\Users\\\\Green\\\\AppData\\\\Local\\\\Programs\\\\Python\\\\Python311\\\\Lib\\\\site-packages\\\\prompt_toolkit\\\\application\\\\application.py'>, 'prompt_toolkit.application.dummy': <module 'prompt_toolkit.application.dummy' from 'C:\\\\Users\\\\Green\\\\AppData\\\\Local\\\\Programs\\\\Python\\\\Python311\\\\Lib\\\\site-packages\\\\prompt_toolkit\\\\application\\\\dummy.py'>, 'prompt_toolkit.application': <module 'prompt_toolkit.application' from 'C:\\\\Users\\\\Green\\\\AppData\\\\Local\\\\Programs\\\\Python\\\\Python311\\\\Lib\\\\site-packages\\\\prompt_toolkit\\\\application\\\\__init__.py'>, 'prompt_toolkit.key_binding.bindings.focus': <module 'prompt_toolkit.key_binding.bindings.focus' from 'C:\\\\Users\\\\Green\\\\AppData\\\\Local\\\\Programs\\\\Python\\\\Python311\\\\Lib\\\\site-packages\\\\prompt_toolkit\\\\key_binding\\\\bindings\\\\focus.py'>, 'prompt_toolkit.widgets.toolbars': <module 'prompt_toolkit.widgets.toolbars' from 'C:\\\\Users\\\\Green\\\\AppData\\\\Local\\\\Programs\\\\Python\\\\Python311\\\\Lib\\\\site-packages\\\\prompt_toolkit\\\\widgets\\\\toolbars.py'>, 'prompt_toolkit.widgets.base': <module 'prompt_toolkit.widgets.base' from 'C:\\\\Users\\\\Green\\\\AppData\\\\Local\\\\Programs\\\\Python\\\\Python311\\\\Lib\\\\site-packages\\\\prompt_toolkit\\\\widgets\\\\base.py'>, 'prompt_toolkit.widgets.dialogs': <module 'prompt_toolkit.widgets.dialogs' from 'C:\\\\Users\\\\Green\\\\AppData\\\\Local\\\\Programs\\\\Python\\\\Python311\\\\Lib\\\\site-packages\\\\prompt_toolkit\\\\widgets\\\\dialogs.py'>, 'prompt_toolkit.widgets.menus': <module 'prompt_toolkit.widgets.menus' from 'C:\\\\Users\\\\Green\\\\AppData\\\\Local\\\\Programs\\\\Python\\\\Python311\\\\Lib\\\\site-packages\\\\prompt_toolkit\\\\widgets\\\\menus.py'>, 'prompt_toolkit.widgets': <module 'prompt_toolkit.widgets' from 'C:\\\\Users\\\\Green\\\\AppData\\\\Local\\\\Programs\\\\Python\\\\Python311\\\\Lib\\\\site-packages\\\\prompt_toolkit\\\\widgets\\\\__init__.py'>, 'prompt_toolkit.shortcuts.dialogs': <module 'prompt_toolkit.shortcuts.dialogs' from 'C:\\\\Users\\\\Green\\\\AppData\\\\Local\\\\Programs\\\\Python\\\\Python311\\\\Lib\\\\site-packages\\\\prompt_toolkit\\\\shortcuts\\\\dialogs.py'>, 'xml.parsers': <module 'xml.parsers' from 'C:\\\\Users\\\\Green\\\\AppData\\\\Local\\\\Programs\\\\Python\\\\Python311\\\\Lib\\\\xml\\\\parsers\\\\__init__.py'>, 'pyexpat.errors': <module 'pyexpat.errors'>, 'pyexpat.model': <module 'pyexpat.model'>, 'pyexpat': <module 'pyexpat' from 'C:\\\\Users\\\\Green\\\\AppData\\\\Local\\\\Programs\\\\Python\\\\Python311\\\\DLLs\\\\pyexpat.pyd'>, 'xml.parsers.expat.model': <module 'pyexpat.model'>, 'xml.parsers.expat.errors': <module 'pyexpat.errors'>, 'xml.parsers.expat': <module 'xml.parsers.expat' from 'C:\\\\Users\\\\Green\\\\AppData\\\\Local\\\\Programs\\\\Python\\\\Python311\\\\Lib\\\\xml\\\\parsers\\\\expat.py'>, 'xml.dom.expatbuilder': <module 'xml.dom.expatbuilder' from 'C:\\\\Users\\\\Green\\\\AppData\\\\Local\\\\Programs\\\\Python\\\\Python311\\\\Lib\\\\xml\\\\dom\\\\expatbuilder.py'>, 'prompt_toolkit.shortcuts.progress_bar.formatters': <module 'prompt_toolkit.shortcuts.progress_bar.formatters' from 'C:\\\\Users\\\\Green\\\\AppData\\\\Local\\\\Programs\\\\Python\\\\Python311\\\\Lib\\\\site-packages\\\\prompt_toolkit\\\\shortcuts\\\\progress_bar\\\\formatters.py'>, 'prompt_toolkit.shortcuts.progress_bar.base': <module 'prompt_toolkit.shortcuts.progress_bar.base' from 'C:\\\\Users\\\\Green\\\\AppData\\\\Local\\\\Programs\\\\Python\\\\Python311\\\\Lib\\\\site-packages\\\\prompt_toolkit\\\\shortcuts\\\\progress_bar\\\\base.py'>, 'prompt_toolkit.shortcuts.progress_bar': <module 'prompt_toolkit.shortcuts.progress_bar' from 'C:\\\\Users\\\\Green\\\\AppData\\\\Local\\\\Programs\\\\Python\\\\Python311\\\\Lib\\\\site-packages\\\\prompt_toolkit\\\\shortcuts\\\\progress_bar\\\\__init__.py'>, 'prompt_toolkit.key_binding.bindings.auto_suggest': <module 'prompt_toolkit.key_binding.bindings.auto_suggest' from 'C:\\\\Users\\\\Green\\\\AppData\\\\Local\\\\Programs\\\\Python\\\\Python311\\\\Lib\\\\site-packages\\\\prompt_toolkit\\\\key_binding\\\\bindings\\\\auto_suggest.py'>, 'prompt_toolkit.key_binding.bindings.open_in_editor': <module 'prompt_toolkit.key_binding.bindings.open_in_editor' from 'C:\\\\Users\\\\Green\\\\AppData\\\\Local\\\\Programs\\\\Python\\\\Python311\\\\Lib\\\\site-packages\\\\prompt_toolkit\\\\key_binding\\\\bindings\\\\open_in_editor.py'>, 'prompt_toolkit.shortcuts.prompt': <module 'prompt_toolkit.shortcuts.prompt' from 'C:\\\\Users\\\\Green\\\\AppData\\\\Local\\\\Programs\\\\Python\\\\Python311\\\\Lib\\\\site-packages\\\\prompt_toolkit\\\\shortcuts\\\\prompt.py'>, 'prompt_toolkit.shortcuts.utils': <module 'prompt_toolkit.shortcuts.utils' from 'C:\\\\Users\\\\Green\\\\AppData\\\\Local\\\\Programs\\\\Python\\\\Python311\\\\Lib\\\\site-packages\\\\prompt_toolkit\\\\shortcuts\\\\utils.py'>, 'prompt_toolkit.shortcuts': <module 'prompt_toolkit.shortcuts' from 'C:\\\\Users\\\\Green\\\\AppData\\\\Local\\\\Programs\\\\Python\\\\Python311\\\\Lib\\\\site-packages\\\\prompt_toolkit\\\\shortcuts\\\\__init__.py'>, 'prompt_toolkit': <module 'prompt_toolkit' from 'C:\\\\Users\\\\Green\\\\AppData\\\\Local\\\\Programs\\\\Python\\\\Python311\\\\Lib\\\\site-packages\\\\prompt_toolkit\\\\__init__.py'>, 'prompt_toolkit.patch_stdout': <module 'prompt_toolkit.patch_stdout' from 'C:\\\\Users\\\\Green\\\\AppData\\\\Local\\\\Programs\\\\Python\\\\Python311\\\\Lib\\\\site-packages\\\\prompt_toolkit\\\\patch_stdout.py'>, 'unicodedata': <module 'unicodedata' from 'C:\\\\Users\\\\Green\\\\AppData\\\\Local\\\\Programs\\\\Python\\\\Python311\\\\DLLs\\\\unicodedata.pyd'>, 'IPython.core.guarded_eval': <module 'IPython.core.guarded_eval' from 'C:\\\\Users\\\\Green\\\\AppData\\\\Local\\\\Programs\\\\Python\\\\Python311\\\\Lib\\\\site-packages\\\\IPython\\\\core\\\\guarded_eval.py'>, 'IPython.core.latex_symbols': <module 'IPython.core.latex_symbols' from 'C:\\\\Users\\\\Green\\\\AppData\\\\Local\\\\Programs\\\\Python\\\\Python311\\\\Lib\\\\site-packages\\\\IPython\\\\core\\\\latex_symbols.py'>, 'IPython.utils.generics': <module 'IPython.utils.generics' from 'C:\\\\Users\\\\Green\\\\AppData\\\\Local\\\\Programs\\\\Python\\\\Python311\\\\Lib\\\\site-packages\\\\IPython\\\\utils\\\\generics.py'>, 'parso.utils': <module 'parso.utils' from 'C:\\\\Users\\\\Green\\\\AppData\\\\Local\\\\Programs\\\\Python\\\\Python311\\\\Lib\\\\site-packages\\\\parso\\\\utils.py'>, 'parso.tree': <module 'parso.tree' from 'C:\\\\Users\\\\Green\\\\AppData\\\\Local\\\\Programs\\\\Python\\\\Python311\\\\Lib\\\\site-packages\\\\parso\\\\tree.py'>, 'parso.python': <module 'parso.python' from 'C:\\\\Users\\\\Green\\\\AppData\\\\Local\\\\Programs\\\\Python\\\\Python311\\\\Lib\\\\site-packages\\\\parso\\\\python\\\\__init__.py'>, 'parso.python.token': <module 'parso.python.token' from 'C:\\\\Users\\\\Green\\\\AppData\\\\Local\\\\Programs\\\\Python\\\\Python311\\\\Lib\\\\site-packages\\\\parso\\\\python\\\\token.py'>, 'parso.python.tokenize': <module 'parso.python.tokenize' from 'C:\\\\Users\\\\Green\\\\AppData\\\\Local\\\\Programs\\\\Python\\\\Python311\\\\Lib\\\\site-packages\\\\parso\\\\python\\\\tokenize.py'>, 'parso.pgen2.grammar_parser': <module 'parso.pgen2.grammar_parser' from 'C:\\\\Users\\\\Green\\\\AppData\\\\Local\\\\Programs\\\\Python\\\\Python311\\\\Lib\\\\site-packages\\\\parso\\\\pgen2\\\\grammar_parser.py'>, 'parso.pgen2.generator': <module 'parso.pgen2.generator' from 'C:\\\\Users\\\\Green\\\\AppData\\\\Local\\\\Programs\\\\Python\\\\Python311\\\\Lib\\\\site-packages\\\\parso\\\\pgen2\\\\generator.py'>, 'parso.pgen2': <module 'parso.pgen2' from 'C:\\\\Users\\\\Green\\\\AppData\\\\Local\\\\Programs\\\\Python\\\\Python311\\\\Lib\\\\site-packages\\\\parso\\\\pgen2\\\\__init__.py'>, 'parso.parser': <module 'parso.parser' from 'C:\\\\Users\\\\Green\\\\AppData\\\\Local\\\\Programs\\\\Python\\\\Python311\\\\Lib\\\\site-packages\\\\parso\\\\parser.py'>, 'parso._compatibility': <module 'parso._compatibility' from 'C:\\\\Users\\\\Green\\\\AppData\\\\Local\\\\Programs\\\\Python\\\\Python311\\\\Lib\\\\site-packages\\\\parso\\\\_compatibility.py'>, 'difflib': <module 'difflib' from 'C:\\\\Users\\\\Green\\\\AppData\\\\Local\\\\Programs\\\\Python\\\\Python311\\\\Lib\\\\difflib.py'>, 'parso.python.prefix': <module 'parso.python.prefix' from 'C:\\\\Users\\\\Green\\\\AppData\\\\Local\\\\Programs\\\\Python\\\\Python311\\\\Lib\\\\site-packages\\\\parso\\\\python\\\\prefix.py'>, 'parso.python.tree': <module 'parso.python.tree' from 'C:\\\\Users\\\\Green\\\\AppData\\\\Local\\\\Programs\\\\Python\\\\Python311\\\\Lib\\\\site-packages\\\\parso\\\\python\\\\tree.py'>, 'parso.python.parser': <module 'parso.python.parser' from 'C:\\\\Users\\\\Green\\\\AppData\\\\Local\\\\Programs\\\\Python\\\\Python311\\\\Lib\\\\site-packages\\\\parso\\\\python\\\\parser.py'>, 'parso.python.diff': <module 'parso.python.diff' from 'C:\\\\Users\\\\Green\\\\AppData\\\\Local\\\\Programs\\\\Python\\\\Python311\\\\Lib\\\\site-packages\\\\parso\\\\python\\\\diff.py'>, 'gc': <module 'gc' (built-in)>, 'parso.cache': <module 'parso.cache' from 'C:\\\\Users\\\\Green\\\\AppData\\\\Local\\\\Programs\\\\Python\\\\Python311\\\\Lib\\\\site-packages\\\\parso\\\\cache.py'>, 'parso.normalizer': <module 'parso.normalizer' from 'C:\\\\Users\\\\Green\\\\AppData\\\\Local\\\\Programs\\\\Python\\\\Python311\\\\Lib\\\\site-packages\\\\parso\\\\normalizer.py'>, 'parso.python.errors': <module 'parso.python.errors' from 'C:\\\\Users\\\\Green\\\\AppData\\\\Local\\\\Programs\\\\Python\\\\Python311\\\\Lib\\\\site-packages\\\\parso\\\\python\\\\errors.py'>, 'parso.python.pep8': <module 'parso.python.pep8' from 'C:\\\\Users\\\\Green\\\\AppData\\\\Local\\\\Programs\\\\Python\\\\Python311\\\\Lib\\\\site-packages\\\\parso\\\\python\\\\pep8.py'>, 'parso.file_io': <module 'parso.file_io' from 'C:\\\\Users\\\\Green\\\\AppData\\\\Local\\\\Programs\\\\Python\\\\Python311\\\\Lib\\\\site-packages\\\\parso\\\\file_io.py'>, 'parso.grammar': <module 'parso.grammar' from 'C:\\\\Users\\\\Green\\\\AppData\\\\Local\\\\Programs\\\\Python\\\\Python311\\\\Lib\\\\site-packages\\\\parso\\\\grammar.py'>, 'parso': <module 'parso' from 'C:\\\\Users\\\\Green\\\\AppData\\\\Local\\\\Programs\\\\Python\\\\Python311\\\\Lib\\\\site-packages\\\\parso\\\\__init__.py'>, 'jedi.parser_utils': <module 'jedi.parser_utils' from 'C:\\\\Users\\\\Green\\\\AppData\\\\Local\\\\Programs\\\\Python\\\\Python311\\\\Lib\\\\site-packages\\\\jedi\\\\parser_utils.py'>, 'jedi.debug': <module 'jedi.debug' from 'C:\\\\Users\\\\Green\\\\AppData\\\\Local\\\\Programs\\\\Python\\\\Python311\\\\Lib\\\\site-packages\\\\jedi\\\\debug.py'>, 'jedi.settings': <module 'jedi.settings' from 'C:\\\\Users\\\\Green\\\\AppData\\\\Local\\\\Programs\\\\Python\\\\Python311\\\\Lib\\\\site-packages\\\\jedi\\\\settings.py'>, 'jedi.cache': <module 'jedi.cache' from 'C:\\\\Users\\\\Green\\\\AppData\\\\Local\\\\Programs\\\\Python\\\\Python311\\\\Lib\\\\site-packages\\\\jedi\\\\cache.py'>, 'jedi.file_io': <module 'jedi.file_io' from 'C:\\\\Users\\\\Green\\\\AppData\\\\Local\\\\Programs\\\\Python\\\\Python311\\\\Lib\\\\site-packages\\\\jedi\\\\file_io.py'>, 'jedi.inference.cache': <module 'jedi.inference.cache' from 'C:\\\\Users\\\\Green\\\\AppData\\\\Local\\\\Programs\\\\Python\\\\Python311\\\\Lib\\\\site-packages\\\\jedi\\\\inference\\\\cache.py'>, 'jedi.inference.helpers': <module 'jedi.inference.helpers' from 'C:\\\\Users\\\\Green\\\\AppData\\\\Local\\\\Programs\\\\Python\\\\Python311\\\\Lib\\\\site-packages\\\\jedi\\\\inference\\\\helpers.py'>, 'jedi.inference.utils': <module 'jedi.inference.utils' from 'C:\\\\Users\\\\Green\\\\AppData\\\\Local\\\\Programs\\\\Python\\\\Python311\\\\Lib\\\\site-packages\\\\jedi\\\\inference\\\\utils.py'>, 'jedi.inference.base_value': <module 'jedi.inference.base_value' from 'C:\\\\Users\\\\Green\\\\AppData\\\\Local\\\\Programs\\\\Python\\\\Python311\\\\Lib\\\\site-packages\\\\jedi\\\\inference\\\\base_value.py'>, 'jedi.inference.sys_path': <module 'jedi.inference.sys_path' from 'C:\\\\Users\\\\Green\\\\AppData\\\\Local\\\\Programs\\\\Python\\\\Python311\\\\Lib\\\\site-packages\\\\jedi\\\\inference\\\\sys_path.py'>, 'jedi.inference.recursion': <module 'jedi.inference.recursion' from 'C:\\\\Users\\\\Green\\\\AppData\\\\Local\\\\Programs\\\\Python\\\\Python311\\\\Lib\\\\site-packages\\\\jedi\\\\inference\\\\recursion.py'>, 'jedi.inference.flow_analysis': <module 'jedi.inference.flow_analysis' from 'C:\\\\Users\\\\Green\\\\AppData\\\\Local\\\\Programs\\\\Python\\\\Python311\\\\Lib\\\\site-packages\\\\jedi\\\\inference\\\\flow_analysis.py'>, 'jedi.common': <module 'jedi.common' from 'C:\\\\Users\\\\Green\\\\AppData\\\\Local\\\\Programs\\\\Python\\\\Python311\\\\Lib\\\\site-packages\\\\jedi\\\\common.py'>, 'jedi.inference.lazy_value': <module 'jedi.inference.lazy_value' from 'C:\\\\Users\\\\Green\\\\AppData\\\\Local\\\\Programs\\\\Python\\\\Python311\\\\Lib\\\\site-packages\\\\jedi\\\\inference\\\\lazy_value.py'>, 'jedi.inference.docstrings': <module 'jedi.inference.docstrings' from 'C:\\\\Users\\\\Green\\\\AppData\\\\Local\\\\Programs\\\\Python\\\\Python311\\\\Lib\\\\site-packages\\\\jedi\\\\inference\\\\docstrings.py'>, 'jedi.plugins': <module 'jedi.plugins' from 'C:\\\\Users\\\\Green\\\\AppData\\\\Local\\\\Programs\\\\Python\\\\Python311\\\\Lib\\\\site-packages\\\\jedi\\\\plugins\\\\__init__.py'>, 'jedi.inference.names': <module 'jedi.inference.names' from 'C:\\\\Users\\\\Green\\\\AppData\\\\Local\\\\Programs\\\\Python\\\\Python311\\\\Lib\\\\site-packages\\\\jedi\\\\inference\\\\names.py'>, 'jedi.inference.filters': <module 'jedi.inference.filters' from 'C:\\\\Users\\\\Green\\\\AppData\\\\Local\\\\Programs\\\\Python\\\\Python311\\\\Lib\\\\site-packages\\\\jedi\\\\inference\\\\filters.py'>, 'jedi.inference.compiled.getattr_static': <module 'jedi.inference.compiled.getattr_static' from 'C:\\\\Users\\\\Green\\\\AppData\\\\Local\\\\Programs\\\\Python\\\\Python311\\\\Lib\\\\site-packages\\\\jedi\\\\inference\\\\compiled\\\\getattr_static.py'>, 'jedi.inference.compiled.access': <module 'jedi.inference.compiled.access' from 'C:\\\\Users\\\\Green\\\\AppData\\\\Local\\\\Programs\\\\Python\\\\Python311\\\\Lib\\\\site-packages\\\\jedi\\\\inference\\\\compiled\\\\access.py'>, 'jedi.inference.signature': <module 'jedi.inference.signature' from 'C:\\\\Users\\\\Green\\\\AppData\\\\Local\\\\Programs\\\\Python\\\\Python311\\\\Lib\\\\site-packages\\\\jedi\\\\inference\\\\signature.py'>, 'jedi.inference.context': <module 'jedi.inference.context' from 'C:\\\\Users\\\\Green\\\\AppData\\\\Local\\\\Programs\\\\Python\\\\Python311\\\\Lib\\\\site-packages\\\\jedi\\\\inference\\\\context.py'>, 'jedi.inference.compiled.value': <module 'jedi.inference.compiled.value' from 'C:\\\\Users\\\\Green\\\\AppData\\\\Local\\\\Programs\\\\Python\\\\Python311\\\\Lib\\\\site-packages\\\\jedi\\\\inference\\\\compiled\\\\value.py'>, 'jedi.inference.compiled': <module 'jedi.inference.compiled' from 'C:\\\\Users\\\\Green\\\\AppData\\\\Local\\\\Programs\\\\Python\\\\Python311\\\\Lib\\\\site-packages\\\\jedi\\\\inference\\\\compiled\\\\__init__.py'>, 'jedi.inference.analysis': <module 'jedi.inference.analysis' from 'C:\\\\Users\\\\Green\\\\AppData\\\\Local\\\\Programs\\\\Python\\\\Python311\\\\Lib\\\\site-packages\\\\jedi\\\\inference\\\\analysis.py'>, 'jedi.inference.gradual': <module 'jedi.inference.gradual' from 'C:\\\\Users\\\\Green\\\\AppData\\\\Local\\\\Programs\\\\Python\\\\Python311\\\\Lib\\\\site-packages\\\\jedi\\\\inference\\\\gradual\\\\__init__.py'>, 'jedi.inference.value.module': <module 'jedi.inference.value.module' from 'C:\\\\Users\\\\Green\\\\AppData\\\\Local\\\\Programs\\\\Python\\\\Python311\\\\Lib\\\\site-packages\\\\jedi\\\\inference\\\\value\\\\module.py'>, 'jedi.inference.value.dynamic_arrays': <module 'jedi.inference.value.dynamic_arrays' from 'C:\\\\Users\\\\Green\\\\AppData\\\\Local\\\\Programs\\\\Python\\\\Python311\\\\Lib\\\\site-packages\\\\jedi\\\\inference\\\\value\\\\dynamic_arrays.py'>, 'jedi.inference.value.iterable': <module 'jedi.inference.value.iterable' from 'C:\\\\Users\\\\Green\\\\AppData\\\\Local\\\\Programs\\\\Python\\\\Python311\\\\Lib\\\\site-packages\\\\jedi\\\\inference\\\\value\\\\iterable.py'>, 'jedi.inference.arguments': <module 'jedi.inference.arguments' from 'C:\\\\Users\\\\Green\\\\AppData\\\\Local\\\\Programs\\\\Python\\\\Python311\\\\Lib\\\\site-packages\\\\jedi\\\\inference\\\\arguments.py'>, 'jedi.inference.parser_cache': <module 'jedi.inference.parser_cache' from 'C:\\\\Users\\\\Green\\\\AppData\\\\Local\\\\Programs\\\\Python\\\\Python311\\\\Lib\\\\site-packages\\\\jedi\\\\inference\\\\parser_cache.py'>, 'jedi.inference.gradual.generics': <module 'jedi.inference.gradual.generics' from 'C:\\\\Users\\\\Green\\\\AppData\\\\Local\\\\Programs\\\\Python\\\\Python311\\\\Lib\\\\site-packages\\\\jedi\\\\inference\\\\gradual\\\\generics.py'>, 'jedi.inference.value.function': <module 'jedi.inference.value.function' from 'C:\\\\Users\\\\Green\\\\AppData\\\\Local\\\\Programs\\\\Python\\\\Python311\\\\Lib\\\\site-packages\\\\jedi\\\\inference\\\\value\\\\function.py'>, 'jedi.inference.value.klass': <module 'jedi.inference.value.klass' from 'C:\\\\Users\\\\Green\\\\AppData\\\\Local\\\\Programs\\\\Python\\\\Python311\\\\Lib\\\\site-packages\\\\jedi\\\\inference\\\\value\\\\klass.py'>, 'jedi.inference.value.instance': <module 'jedi.inference.value.instance' from 'C:\\\\Users\\\\Green\\\\AppData\\\\Local\\\\Programs\\\\Python\\\\Python311\\\\Lib\\\\site-packages\\\\jedi\\\\inference\\\\value\\\\instance.py'>, 'jedi.inference.value': <module 'jedi.inference.value' from 'C:\\\\Users\\\\Green\\\\AppData\\\\Local\\\\Programs\\\\Python\\\\Python311\\\\Lib\\\\site-packages\\\\jedi\\\\inference\\\\value\\\\__init__.py'>, 'jedi.inference.gradual.base': <module 'jedi.inference.gradual.base' from 'C:\\\\Users\\\\Green\\\\AppData\\\\Local\\\\Programs\\\\Python\\\\Python311\\\\Lib\\\\site-packages\\\\jedi\\\\inference\\\\gradual\\\\base.py'>, 'jedi.inference.gradual.type_var': <module 'jedi.inference.gradual.type_var' from 'C:\\\\Users\\\\Green\\\\AppData\\\\Local\\\\Programs\\\\Python\\\\Python311\\\\Lib\\\\site-packages\\\\jedi\\\\inference\\\\gradual\\\\type_var.py'>, 'jedi.inference.gradual.typing': <module 'jedi.inference.gradual.typing' from 'C:\\\\Users\\\\Green\\\\AppData\\\\Local\\\\Programs\\\\Python\\\\Python311\\\\Lib\\\\site-packages\\\\jedi\\\\inference\\\\gradual\\\\typing.py'>, 'jedi.inference.gradual.stub_value': <module 'jedi.inference.gradual.stub_value' from 'C:\\\\Users\\\\Green\\\\AppData\\\\Local\\\\Programs\\\\Python\\\\Python311\\\\Lib\\\\site-packages\\\\jedi\\\\inference\\\\gradual\\\\stub_value.py'>, 'jedi.inference.gradual.typeshed': <module 'jedi.inference.gradual.typeshed' from 'C:\\\\Users\\\\Green\\\\AppData\\\\Local\\\\Programs\\\\Python\\\\Python311\\\\Lib\\\\site-packages\\\\jedi\\\\inference\\\\gradual\\\\typeshed.py'>, 'jedi._compatibility': <module 'jedi._compatibility' from 'C:\\\\Users\\\\Green\\\\AppData\\\\Local\\\\Programs\\\\Python\\\\Python311\\\\Lib\\\\site-packages\\\\jedi\\\\_compatibility.py'>, 'jedi.inference.compiled.subprocess.functions': <module 'jedi.inference.compiled.subprocess.functions' from 'C:\\\\Users\\\\Green\\\\AppData\\\\Local\\\\Programs\\\\Python\\\\Python311\\\\Lib\\\\site-packages\\\\jedi\\\\inference\\\\compiled\\\\subprocess\\\\functions.py'>, 'jedi.api.exceptions': <module 'jedi.api.exceptions' from 'C:\\\\Users\\\\Green\\\\AppData\\\\Local\\\\Programs\\\\Python\\\\Python311\\\\Lib\\\\site-packages\\\\jedi\\\\api\\\\exceptions.py'>, 'jedi.inference.compiled.subprocess': <module 'jedi.inference.compiled.subprocess' from 'C:\\\\Users\\\\Green\\\\AppData\\\\Local\\\\Programs\\\\Python\\\\Python311\\\\Lib\\\\site-packages\\\\jedi\\\\inference\\\\compiled\\\\subprocess\\\\__init__.py'>, 'jedi.inference.imports': <module 'jedi.inference.imports' from 'C:\\\\Users\\\\Green\\\\AppData\\\\Local\\\\Programs\\\\Python\\\\Python311\\\\Lib\\\\site-packages\\\\jedi\\\\inference\\\\imports.py'>, 'jedi.inference.param': <module 'jedi.inference.param' from 'C:\\\\Users\\\\Green\\\\AppData\\\\Local\\\\Programs\\\\Python\\\\Python311\\\\Lib\\\\site-packages\\\\jedi\\\\inference\\\\param.py'>, 'jedi.inference.gradual.annotation': <module 'jedi.inference.gradual.annotation' from 'C:\\\\Users\\\\Green\\\\AppData\\\\Local\\\\Programs\\\\Python\\\\Python311\\\\Lib\\\\site-packages\\\\jedi\\\\inference\\\\gradual\\\\annotation.py'>, 'jedi.inference.value.decorator': <module 'jedi.inference.value.decorator' from 'C:\\\\Users\\\\Green\\\\AppData\\\\Local\\\\Programs\\\\Python\\\\Python311\\\\Lib\\\\site-packages\\\\jedi\\\\inference\\\\value\\\\decorator.py'>, 'jedi.inference.syntax_tree': <module 'jedi.inference.syntax_tree' from 'C:\\\\Users\\\\Green\\\\AppData\\\\Local\\\\Programs\\\\Python\\\\Python311\\\\Lib\\\\site-packages\\\\jedi\\\\inference\\\\syntax_tree.py'>, 'jedi.inference': <module 'jedi.inference' from 'C:\\\\Users\\\\Green\\\\AppData\\\\Local\\\\Programs\\\\Python\\\\Python311\\\\Lib\\\\site-packages\\\\jedi\\\\inference\\\\__init__.py'>, 'jedi.inference.gradual.conversion': <module 'jedi.inference.gradual.conversion' from 'C:\\\\Users\\\\Green\\\\AppData\\\\Local\\\\Programs\\\\Python\\\\Python311\\\\Lib\\\\site-packages\\\\jedi\\\\inference\\\\gradual\\\\conversion.py'>, 'jedi.inference.compiled.mixed': <module 'jedi.inference.compiled.mixed' from 'C:\\\\Users\\\\Green\\\\AppData\\\\Local\\\\Programs\\\\Python\\\\Python311\\\\Lib\\\\site-packages\\\\jedi\\\\inference\\\\compiled\\\\mixed.py'>, 'pydoc_data': <module 'pydoc_data' from 'C:\\\\Users\\\\Green\\\\AppData\\\\Local\\\\Programs\\\\Python\\\\Python311\\\\Lib\\\\pydoc_data\\\\__init__.py'>, 'pydoc_data.topics': <module 'pydoc_data.topics' from 'C:\\\\Users\\\\Green\\\\AppData\\\\Local\\\\Programs\\\\Python\\\\Python311\\\\Lib\\\\pydoc_data\\\\topics.py'>, 'jedi.api.keywords': <module 'jedi.api.keywords' from 'C:\\\\Users\\\\Green\\\\AppData\\\\Local\\\\Programs\\\\Python\\\\Python311\\\\Lib\\\\site-packages\\\\jedi\\\\api\\\\keywords.py'>, 'jedi.api.completion_cache': <module 'jedi.api.completion_cache' from 'C:\\\\Users\\\\Green\\\\AppData\\\\Local\\\\Programs\\\\Python\\\\Python311\\\\Lib\\\\site-packages\\\\jedi\\\\api\\\\completion_cache.py'>, 'jedi.api.helpers': <module 'jedi.api.helpers' from 'C:\\\\Users\\\\Green\\\\AppData\\\\Local\\\\Programs\\\\Python\\\\Python311\\\\Lib\\\\site-packages\\\\jedi\\\\api\\\\helpers.py'>, 'jedi.api.classes': <module 'jedi.api.classes' from 'C:\\\\Users\\\\Green\\\\AppData\\\\Local\\\\Programs\\\\Python\\\\Python311\\\\Lib\\\\site-packages\\\\jedi\\\\api\\\\classes.py'>, 'jedi.api.interpreter': <module 'jedi.api.interpreter' from 'C:\\\\Users\\\\Green\\\\AppData\\\\Local\\\\Programs\\\\Python\\\\Python311\\\\Lib\\\\site-packages\\\\jedi\\\\api\\\\interpreter.py'>, 'jedi.api.strings': <module 'jedi.api.strings' from 'C:\\\\Users\\\\Green\\\\AppData\\\\Local\\\\Programs\\\\Python\\\\Python311\\\\Lib\\\\site-packages\\\\jedi\\\\api\\\\strings.py'>, 'jedi.api.file_name': <module 'jedi.api.file_name' from 'C:\\\\Users\\\\Green\\\\AppData\\\\Local\\\\Programs\\\\Python\\\\Python311\\\\Lib\\\\site-packages\\\\jedi\\\\api\\\\file_name.py'>, 'jedi.inference.docstring_utils': <module 'jedi.inference.docstring_utils' from 'C:\\\\Users\\\\Green\\\\AppData\\\\Local\\\\Programs\\\\Python\\\\Python311\\\\Lib\\\\site-packages\\\\jedi\\\\inference\\\\docstring_utils.py'>, 'jedi.api.completion': <module 'jedi.api.completion' from 'C:\\\\Users\\\\Green\\\\AppData\\\\Local\\\\Programs\\\\Python\\\\Python311\\\\Lib\\\\site-packages\\\\jedi\\\\api\\\\completion.py'>, 'filecmp': <module 'filecmp' from 'C:\\\\Users\\\\Green\\\\AppData\\\\Local\\\\Programs\\\\Python\\\\Python311\\\\Lib\\\\filecmp.py'>, 'jedi.api.environment': <module 'jedi.api.environment' from 'C:\\\\Users\\\\Green\\\\AppData\\\\Local\\\\Programs\\\\Python\\\\Python311\\\\Lib\\\\site-packages\\\\jedi\\\\api\\\\environment.py'>, 'jedi.inference.references': <module 'jedi.inference.references' from 'C:\\\\Users\\\\Green\\\\AppData\\\\Local\\\\Programs\\\\Python\\\\Python311\\\\Lib\\\\site-packages\\\\jedi\\\\inference\\\\references.py'>, 'jedi.api.project': <module 'jedi.api.project' from 'C:\\\\Users\\\\Green\\\\AppData\\\\Local\\\\Programs\\\\Python\\\\Python311\\\\Lib\\\\site-packages\\\\jedi\\\\api\\\\project.py'>, 'jedi.api.errors': <module 'jedi.api.errors' from 'C:\\\\Users\\\\Green\\\\AppData\\\\Local\\\\Programs\\\\Python\\\\Python311\\\\Lib\\\\site-packages\\\\jedi\\\\api\\\\errors.py'>, 'jedi.inference.value.namespace': <module 'jedi.inference.value.namespace' from 'C:\\\\Users\\\\Green\\\\AppData\\\\Local\\\\Programs\\\\Python\\\\Python311\\\\Lib\\\\site-packages\\\\jedi\\\\inference\\\\value\\\\namespace.py'>, 'jedi.api.refactoring': <module 'jedi.api.refactoring' from 'C:\\\\Users\\\\Green\\\\AppData\\\\Local\\\\Programs\\\\Python\\\\Python311\\\\Lib\\\\site-packages\\\\jedi\\\\api\\\\refactoring\\\\__init__.py'>, 'jedi.api.refactoring.extract': <module 'jedi.api.refactoring.extract' from 'C:\\\\Users\\\\Green\\\\AppData\\\\Local\\\\Programs\\\\Python\\\\Python311\\\\Lib\\\\site-packages\\\\jedi\\\\api\\\\refactoring\\\\extract.py'>, 'jedi.inference.gradual.utils': <module 'jedi.inference.gradual.utils' from 'C:\\\\Users\\\\Green\\\\AppData\\\\Local\\\\Programs\\\\Python\\\\Python311\\\\Lib\\\\site-packages\\\\jedi\\\\inference\\\\gradual\\\\utils.py'>, 'jedi.api': <module 'jedi.api' from 'C:\\\\Users\\\\Green\\\\AppData\\\\Local\\\\Programs\\\\Python\\\\Python311\\\\Lib\\\\site-packages\\\\jedi\\\\api\\\\__init__.py'>, 'jedi.plugins.stdlib': <module 'jedi.plugins.stdlib' from 'C:\\\\Users\\\\Green\\\\AppData\\\\Local\\\\Programs\\\\Python\\\\Python311\\\\Lib\\\\site-packages\\\\jedi\\\\plugins\\\\stdlib.py'>, 'jedi.plugins.flask': <module 'jedi.plugins.flask' from 'C:\\\\Users\\\\Green\\\\AppData\\\\Local\\\\Programs\\\\Python\\\\Python311\\\\Lib\\\\site-packages\\\\jedi\\\\plugins\\\\flask.py'>, 'jedi.plugins.pytest': <module 'jedi.plugins.pytest' from 'C:\\\\Users\\\\Green\\\\AppData\\\\Local\\\\Programs\\\\Python\\\\Python311\\\\Lib\\\\site-packages\\\\jedi\\\\plugins\\\\pytest.py'>, 'jedi.plugins.django': <module 'jedi.plugins.django' from 'C:\\\\Users\\\\Green\\\\AppData\\\\Local\\\\Programs\\\\Python\\\\Python311\\\\Lib\\\\site-packages\\\\jedi\\\\plugins\\\\django.py'>, 'jedi.plugins.registry': <module 'jedi.plugins.registry' from 'C:\\\\Users\\\\Green\\\\AppData\\\\Local\\\\Programs\\\\Python\\\\Python311\\\\Lib\\\\site-packages\\\\jedi\\\\plugins\\\\registry.py'>, 'jedi': <module 'jedi' from 'C:\\\\Users\\\\Green\\\\AppData\\\\Local\\\\Programs\\\\Python\\\\Python311\\\\Lib\\\\site-packages\\\\jedi\\\\__init__.py'>, 'IPython.core.completer': <module 'IPython.core.completer' from 'C:\\\\Users\\\\Green\\\\AppData\\\\Local\\\\Programs\\\\Python\\\\Python311\\\\Lib\\\\site-packages\\\\IPython\\\\core\\\\completer.py'>, 'IPython.terminal.ptutils': <module 'IPython.terminal.ptutils' from 'C:\\\\Users\\\\Green\\\\AppData\\\\Local\\\\Programs\\\\Python\\\\Python311\\\\Lib\\\\site-packages\\\\IPython\\\\terminal\\\\ptutils.py'>, 'IPython.terminal.shortcuts.auto_match': <module 'IPython.terminal.shortcuts.auto_match' from 'C:\\\\Users\\\\Green\\\\AppData\\\\Local\\\\Programs\\\\Python\\\\Python311\\\\Lib\\\\site-packages\\\\IPython\\\\terminal\\\\shortcuts\\\\auto_match.py'>, 'IPython.terminal.shortcuts.filters': <module 'IPython.terminal.shortcuts.filters' from 'C:\\\\Users\\\\Green\\\\AppData\\\\Local\\\\Programs\\\\Python\\\\Python311\\\\Lib\\\\site-packages\\\\IPython\\\\terminal\\\\shortcuts\\\\filters.py'>, 'IPython.terminal.shortcuts.auto_suggest': <module 'IPython.terminal.shortcuts.auto_suggest' from 'C:\\\\Users\\\\Green\\\\AppData\\\\Local\\\\Programs\\\\Python\\\\Python311\\\\Lib\\\\site-packages\\\\IPython\\\\terminal\\\\shortcuts\\\\auto_suggest.py'>, 'IPython.lib.clipboard': <module 'IPython.lib.clipboard' from 'C:\\\\Users\\\\Green\\\\AppData\\\\Local\\\\Programs\\\\Python\\\\Python311\\\\Lib\\\\site-packages\\\\IPython\\\\lib\\\\clipboard.py'>, 'IPython.terminal.shortcuts': <module 'IPython.terminal.shortcuts' from 'C:\\\\Users\\\\Green\\\\AppData\\\\Local\\\\Programs\\\\Python\\\\Python311\\\\Lib\\\\site-packages\\\\IPython\\\\terminal\\\\shortcuts\\\\__init__.py'>, 'concurrent.futures.thread': <module 'concurrent.futures.thread' from 'C:\\\\Users\\\\Green\\\\AppData\\\\Local\\\\Programs\\\\Python\\\\Python311\\\\Lib\\\\concurrent\\\\futures\\\\thread.py'>, 'IPython.terminal.debugger': <module 'IPython.terminal.debugger' from 'C:\\\\Users\\\\Green\\\\AppData\\\\Local\\\\Programs\\\\Python\\\\Python311\\\\Lib\\\\site-packages\\\\IPython\\\\terminal\\\\debugger.py'>, 'IPython.terminal.magics': <module 'IPython.terminal.magics' from 'C:\\\\Users\\\\Green\\\\AppData\\\\Local\\\\Programs\\\\Python\\\\Python311\\\\Lib\\\\site-packages\\\\IPython\\\\terminal\\\\magics.py'>, 'IPython.terminal.pt_inputhooks': <module 'IPython.terminal.pt_inputhooks' from 'C:\\\\Users\\\\Green\\\\AppData\\\\Local\\\\Programs\\\\Python\\\\Python311\\\\Lib\\\\site-packages\\\\IPython\\\\terminal\\\\pt_inputhooks\\\\__init__.py'>, 'IPython.terminal.prompts': <module 'IPython.terminal.prompts' from 'C:\\\\Users\\\\Green\\\\AppData\\\\Local\\\\Programs\\\\Python\\\\Python311\\\\Lib\\\\site-packages\\\\IPython\\\\terminal\\\\prompts.py'>, 'IPython.terminal.interactiveshell': <module 'IPython.terminal.interactiveshell' from 'C:\\\\Users\\\\Green\\\\AppData\\\\Local\\\\Programs\\\\Python\\\\Python311\\\\Lib\\\\site-packages\\\\IPython\\\\terminal\\\\interactiveshell.py'>, 'IPython.core.magics.auto': <module 'IPython.core.magics.auto' from 'C:\\\\Users\\\\Green\\\\AppData\\\\Local\\\\Programs\\\\Python\\\\Python311\\\\Lib\\\\site-packages\\\\IPython\\\\core\\\\magics\\\\auto.py'>, 'IPython.core.magics.basic': <module 'IPython.core.magics.basic' from 'C:\\\\Users\\\\Green\\\\AppData\\\\Local\\\\Programs\\\\Python\\\\Python311\\\\Lib\\\\site-packages\\\\IPython\\\\core\\\\magics\\\\basic.py'>, 'http': <module 'http' from 'C:\\\\Users\\\\Green\\\\AppData\\\\Local\\\\Programs\\\\Python\\\\Python311\\\\Lib\\\\http\\\\__init__.py'>, 'email.feedparser': <module 'email.feedparser' from 'C:\\\\Users\\\\Green\\\\AppData\\\\Local\\\\Programs\\\\Python\\\\Python311\\\\Lib\\\\email\\\\feedparser.py'>, 'email.parser': <module 'email.parser' from 'C:\\\\Users\\\\Green\\\\AppData\\\\Local\\\\Programs\\\\Python\\\\Python311\\\\Lib\\\\email\\\\parser.py'>, 'http.client': <module 'http.client' from 'C:\\\\Users\\\\Green\\\\AppData\\\\Local\\\\Programs\\\\Python\\\\Python311\\\\Lib\\\\http\\\\client.py'>, 'urllib.response': <module 'urllib.response' from 'C:\\\\Users\\\\Green\\\\AppData\\\\Local\\\\Programs\\\\Python\\\\Python311\\\\Lib\\\\urllib\\\\response.py'>, 'urllib.error': <module 'urllib.error' from 'C:\\\\Users\\\\Green\\\\AppData\\\\Local\\\\Programs\\\\Python\\\\Python311\\\\Lib\\\\urllib\\\\error.py'>, 'nturl2path': <module 'nturl2path' from 'C:\\\\Users\\\\Green\\\\AppData\\\\Local\\\\Programs\\\\Python\\\\Python311\\\\Lib\\\\nturl2path.py'>, 'urllib.request': <module 'urllib.request' from 'C:\\\\Users\\\\Green\\\\AppData\\\\Local\\\\Programs\\\\Python\\\\Python311\\\\Lib\\\\urllib\\\\request.py'>, 'IPython.utils.contexts': <module 'IPython.utils.contexts' from 'C:\\\\Users\\\\Green\\\\AppData\\\\Local\\\\Programs\\\\Python\\\\Python311\\\\Lib\\\\site-packages\\\\IPython\\\\utils\\\\contexts.py'>, 'IPython.core.magics.code': <module 'IPython.core.magics.code' from 'C:\\\\Users\\\\Green\\\\AppData\\\\Local\\\\Programs\\\\Python\\\\Python311\\\\Lib\\\\site-packages\\\\IPython\\\\core\\\\magics\\\\code.py'>, 'IPython.core.magics.config': <module 'IPython.core.magics.config' from 'C:\\\\Users\\\\Green\\\\AppData\\\\Local\\\\Programs\\\\Python\\\\Python311\\\\Lib\\\\site-packages\\\\IPython\\\\core\\\\magics\\\\config.py'>, 'IPython.core.magics.display': <module 'IPython.core.magics.display' from 'C:\\\\Users\\\\Green\\\\AppData\\\\Local\\\\Programs\\\\Python\\\\Python311\\\\Lib\\\\site-packages\\\\IPython\\\\core\\\\magics\\\\display.py'>, '_lsprof': <module '_lsprof' (built-in)>, 'profile': <module 'profile' from 'C:\\\\Users\\\\Green\\\\AppData\\\\Local\\\\Programs\\\\Python\\\\Python311\\\\Lib\\\\profile.py'>, 'cProfile': <module 'cProfile' from 'C:\\\\Users\\\\Green\\\\AppData\\\\Local\\\\Programs\\\\Python\\\\Python311\\\\Lib\\\\cProfile.py'>, 'pstats': <module 'pstats' from 'C:\\\\Users\\\\Green\\\\AppData\\\\Local\\\\Programs\\\\Python\\\\Python311\\\\Lib\\\\pstats.py'>, 'timeit': <module 'timeit' from 'C:\\\\Users\\\\Green\\\\AppData\\\\Local\\\\Programs\\\\Python\\\\Python311\\\\Lib\\\\timeit.py'>, 'IPython.utils.module_paths': <module 'IPython.utils.module_paths' from 'C:\\\\Users\\\\Green\\\\AppData\\\\Local\\\\Programs\\\\Python\\\\Python311\\\\Lib\\\\site-packages\\\\IPython\\\\utils\\\\module_paths.py'>, 'IPython.utils.timing': <module 'IPython.utils.timing' from 'C:\\\\Users\\\\Green\\\\AppData\\\\Local\\\\Programs\\\\Python\\\\Python311\\\\Lib\\\\site-packages\\\\IPython\\\\utils\\\\timing.py'>, 'IPython.core.magics.ast_mod': <module 'IPython.core.magics.ast_mod' from 'C:\\\\Users\\\\Green\\\\AppData\\\\Local\\\\Programs\\\\Python\\\\Python311\\\\Lib\\\\site-packages\\\\IPython\\\\core\\\\magics\\\\ast_mod.py'>, 'IPython.core.magics.execution': <module 'IPython.core.magics.execution' from 'C:\\\\Users\\\\Green\\\\AppData\\\\Local\\\\Programs\\\\Python\\\\Python311\\\\Lib\\\\site-packages\\\\IPython\\\\core\\\\magics\\\\execution.py'>, 'IPython.core.magics.extension': <module 'IPython.core.magics.extension' from 'C:\\\\Users\\\\Green\\\\AppData\\\\Local\\\\Programs\\\\Python\\\\Python311\\\\Lib\\\\site-packages\\\\IPython\\\\core\\\\magics\\\\extension.py'>, 'IPython.core.magics.history': <module 'IPython.core.magics.history' from 'C:\\\\Users\\\\Green\\\\AppData\\\\Local\\\\Programs\\\\Python\\\\Python311\\\\Lib\\\\site-packages\\\\IPython\\\\core\\\\magics\\\\history.py'>, 'IPython.core.magics.logging': <module 'IPython.core.magics.logging' from 'C:\\\\Users\\\\Green\\\\AppData\\\\Local\\\\Programs\\\\Python\\\\Python311\\\\Lib\\\\site-packages\\\\IPython\\\\core\\\\magics\\\\logging.py'>, 'IPython.core.magics.namespace': <module 'IPython.core.magics.namespace' from 'C:\\\\Users\\\\Green\\\\AppData\\\\Local\\\\Programs\\\\Python\\\\Python311\\\\Lib\\\\site-packages\\\\IPython\\\\core\\\\magics\\\\namespace.py'>, 'IPython.core.magics.osm': <module 'IPython.core.magics.osm' from 'C:\\\\Users\\\\Green\\\\AppData\\\\Local\\\\Programs\\\\Python\\\\Python311\\\\Lib\\\\site-packages\\\\IPython\\\\core\\\\magics\\\\osm.py'>, 'IPython.core.magics.packaging': <module 'IPython.core.magics.packaging' from 'C:\\\\Users\\\\Green\\\\AppData\\\\Local\\\\Programs\\\\Python\\\\Python311\\\\Lib\\\\site-packages\\\\IPython\\\\core\\\\magics\\\\packaging.py'>, 'IPython.core.magics.pylab': <module 'IPython.core.magics.pylab' from 'C:\\\\Users\\\\Green\\\\AppData\\\\Local\\\\Programs\\\\Python\\\\Python311\\\\Lib\\\\site-packages\\\\IPython\\\\core\\\\magics\\\\pylab.py'>, 'IPython.core.magics.script': <module 'IPython.core.magics.script' from 'C:\\\\Users\\\\Green\\\\AppData\\\\Local\\\\Programs\\\\Python\\\\Python311\\\\Lib\\\\site-packages\\\\IPython\\\\core\\\\magics\\\\script.py'>, 'IPython.core.magics': <module 'IPython.core.magics' from 'C:\\\\Users\\\\Green\\\\AppData\\\\Local\\\\Programs\\\\Python\\\\Python311\\\\Lib\\\\site-packages\\\\IPython\\\\core\\\\magics\\\\__init__.py'>, 'IPython.core.shellapp': <module 'IPython.core.shellapp' from 'C:\\\\Users\\\\Green\\\\AppData\\\\Local\\\\Programs\\\\Python\\\\Python311\\\\Lib\\\\site-packages\\\\IPython\\\\core\\\\shellapp.py'>, 'IPython.extensions': <module 'IPython.extensions' from 'C:\\\\Users\\\\Green\\\\AppData\\\\Local\\\\Programs\\\\Python\\\\Python311\\\\Lib\\\\site-packages\\\\IPython\\\\extensions\\\\__init__.py'>, 'IPython.extensions.storemagic': <module 'IPython.extensions.storemagic' from 'C:\\\\Users\\\\Green\\\\AppData\\\\Local\\\\Programs\\\\Python\\\\Python311\\\\Lib\\\\site-packages\\\\IPython\\\\extensions\\\\storemagic.py'>, 'IPython.terminal.ipapp': <module 'IPython.terminal.ipapp' from 'C:\\\\Users\\\\Green\\\\AppData\\\\Local\\\\Programs\\\\Python\\\\Python311\\\\Lib\\\\site-packages\\\\IPython\\\\terminal\\\\ipapp.py'>, 'IPython.terminal.embed': <module 'IPython.terminal.embed' from 'C:\\\\Users\\\\Green\\\\AppData\\\\Local\\\\Programs\\\\Python\\\\Python311\\\\Lib\\\\site-packages\\\\IPython\\\\terminal\\\\embed.py'>, 'IPython.utils.frame': <module 'IPython.utils.frame' from 'C:\\\\Users\\\\Green\\\\AppData\\\\Local\\\\Programs\\\\Python\\\\Python311\\\\Lib\\\\site-packages\\\\IPython\\\\utils\\\\frame.py'>, 'IPython': <module 'IPython' from 'C:\\\\Users\\\\Green\\\\AppData\\\\Local\\\\Programs\\\\Python\\\\Python311\\\\Lib\\\\site-packages\\\\IPython\\\\__init__.py'>, 'ipykernel.control': <module 'ipykernel.control' from 'C:\\\\Users\\\\Green\\\\AppData\\\\Local\\\\Programs\\\\Python\\\\Python311\\\\Lib\\\\site-packages\\\\ipykernel\\\\control.py'>, 'ipykernel.heartbeat': <module 'ipykernel.heartbeat' from 'C:\\\\Users\\\\Green\\\\AppData\\\\Local\\\\Programs\\\\Python\\\\Python311\\\\Lib\\\\site-packages\\\\ipykernel\\\\heartbeat.py'>, 'ipykernel.iostream': <module 'ipykernel.iostream' from 'C:\\\\Users\\\\Green\\\\AppData\\\\Local\\\\Programs\\\\Python\\\\Python311\\\\Lib\\\\site-packages\\\\ipykernel\\\\iostream.py'>, 'comm.base_comm': <module 'comm.base_comm' from 'C:\\\\Users\\\\Green\\\\AppData\\\\Local\\\\Programs\\\\Python\\\\Python311\\\\Lib\\\\site-packages\\\\comm\\\\base_comm.py'>, 'comm': <module 'comm' from 'C:\\\\Users\\\\Green\\\\AppData\\\\Local\\\\Programs\\\\Python\\\\Python311\\\\Lib\\\\site-packages\\\\comm\\\\__init__.py'>, 'ipykernel.jsonutil': <module 'ipykernel.jsonutil' from 'C:\\\\Users\\\\Green\\\\AppData\\\\Local\\\\Programs\\\\Python\\\\Python311\\\\Lib\\\\site-packages\\\\ipykernel\\\\jsonutil.py'>, 'psutil._common': <module 'psutil._common' from 'C:\\\\Users\\\\Green\\\\AppData\\\\Local\\\\Programs\\\\Python\\\\Python311\\\\Lib\\\\site-packages\\\\psutil\\\\_common.py'>, 'psutil._compat': <module 'psutil._compat' from 'C:\\\\Users\\\\Green\\\\AppData\\\\Local\\\\Programs\\\\Python\\\\Python311\\\\Lib\\\\site-packages\\\\psutil\\\\_compat.py'>, 'psutil._psutil_windows': <module 'psutil._psutil_windows' from 'C:\\\\Users\\\\Green\\\\AppData\\\\Local\\\\Programs\\\\Python\\\\Python311\\\\Lib\\\\site-packages\\\\psutil\\\\_psutil_windows.pyd'>, 'psutil._pswindows': <module 'psutil._pswindows' from 'C:\\\\Users\\\\Green\\\\AppData\\\\Local\\\\Programs\\\\Python\\\\Python311\\\\Lib\\\\site-packages\\\\psutil\\\\_pswindows.py'>, 'psutil': <module 'psutil' from 'C:\\\\Users\\\\Green\\\\AppData\\\\Local\\\\Programs\\\\Python\\\\Python311\\\\Lib\\\\site-packages\\\\psutil\\\\__init__.py'>, 'tornado.gen': <module 'tornado.gen' from 'C:\\\\Users\\\\Green\\\\AppData\\\\Local\\\\Programs\\\\Python\\\\Python311\\\\Lib\\\\site-packages\\\\tornado\\\\gen.py'>, 'tornado.locks': <module 'tornado.locks' from 'C:\\\\Users\\\\Green\\\\AppData\\\\Local\\\\Programs\\\\Python\\\\Python311\\\\Lib\\\\site-packages\\\\tornado\\\\locks.py'>, 'tornado.queues': <module 'tornado.queues' from 'C:\\\\Users\\\\Green\\\\AppData\\\\Local\\\\Programs\\\\Python\\\\Python311\\\\Lib\\\\site-packages\\\\tornado\\\\queues.py'>, 'ipykernel.kernelbase': <module 'ipykernel.kernelbase' from 'C:\\\\Users\\\\Green\\\\AppData\\\\Local\\\\Programs\\\\Python\\\\Python311\\\\Lib\\\\site-packages\\\\ipykernel\\\\kernelbase.py'>, 'ipykernel.comm.comm': <module 'ipykernel.comm.comm' from 'C:\\\\Users\\\\Green\\\\AppData\\\\Local\\\\Programs\\\\Python\\\\Python311\\\\Lib\\\\site-packages\\\\ipykernel\\\\comm\\\\comm.py'>, 'ipykernel.comm.manager': <module 'ipykernel.comm.manager' from 'C:\\\\Users\\\\Green\\\\AppData\\\\Local\\\\Programs\\\\Python\\\\Python311\\\\Lib\\\\site-packages\\\\ipykernel\\\\comm\\\\manager.py'>, 'ipykernel.comm': <module 'ipykernel.comm' from 'C:\\\\Users\\\\Green\\\\AppData\\\\Local\\\\Programs\\\\Python\\\\Python311\\\\Lib\\\\site-packages\\\\ipykernel\\\\comm\\\\__init__.py'>, 'ipykernel.compiler': <module 'ipykernel.compiler' from 'C:\\\\Users\\\\Green\\\\AppData\\\\Local\\\\Programs\\\\Python\\\\Python311\\\\Lib\\\\site-packages\\\\ipykernel\\\\compiler.py'>, 'packaging': <module 'packaging' from 'C:\\\\Users\\\\Green\\\\AppData\\\\Local\\\\Programs\\\\Python\\\\Python311\\\\Lib\\\\site-packages\\\\packaging\\\\__init__.py'>, 'packaging._structures': <module 'packaging._structures' from 'C:\\\\Users\\\\Green\\\\AppData\\\\Local\\\\Programs\\\\Python\\\\Python311\\\\Lib\\\\site-packages\\\\packaging\\\\_structures.py'>, 'packaging.version': <module 'packaging.version' from 'C:\\\\Users\\\\Green\\\\AppData\\\\Local\\\\Programs\\\\Python\\\\Python311\\\\Lib\\\\site-packages\\\\packaging\\\\version.py'>, 'ipykernel.eventloops': <module 'ipykernel.eventloops' from 'C:\\\\Users\\\\Green\\\\AppData\\\\Local\\\\Programs\\\\Python\\\\Python311\\\\Lib\\\\site-packages\\\\ipykernel\\\\eventloops.py'>, 'IPython.core.payloadpage': <module 'IPython.core.payloadpage' from 'C:\\\\Users\\\\Green\\\\AppData\\\\Local\\\\Programs\\\\Python\\\\Python311\\\\Lib\\\\site-packages\\\\IPython\\\\core\\\\payloadpage.py'>, 'ipykernel.displayhook': <module 'ipykernel.displayhook' from 'C:\\\\Users\\\\Green\\\\AppData\\\\Local\\\\Programs\\\\Python\\\\Python311\\\\Lib\\\\site-packages\\\\ipykernel\\\\displayhook.py'>, 'ipykernel.zmqshell': <module 'ipykernel.zmqshell' from 'C:\\\\Users\\\\Green\\\\AppData\\\\Local\\\\Programs\\\\Python\\\\Python311\\\\Lib\\\\site-packages\\\\ipykernel\\\\zmqshell.py'>, 'ipykernel.ipkernel': <module 'ipykernel.ipkernel' from 'C:\\\\Users\\\\Green\\\\AppData\\\\Local\\\\Programs\\\\Python\\\\Python311\\\\Lib\\\\site-packages\\\\ipykernel\\\\ipkernel.py'>, 'ipykernel.parentpoller': <module 'ipykernel.parentpoller' from 'C:\\\\Users\\\\Green\\\\AppData\\\\Local\\\\Programs\\\\Python\\\\Python311\\\\Lib\\\\site-packages\\\\ipykernel\\\\parentpoller.py'>, 'ipykernel.kernelapp': <module 'ipykernel.kernelapp' from 'C:\\\\Users\\\\Green\\\\AppData\\\\Local\\\\Programs\\\\Python\\\\Python311\\\\Lib\\\\site-packages\\\\ipykernel\\\\kernelapp.py'>, 'tornado.platform': <module 'tornado.platform' from 'C:\\\\Users\\\\Green\\\\AppData\\\\Local\\\\Programs\\\\Python\\\\Python311\\\\Lib\\\\site-packages\\\\tornado\\\\platform\\\\__init__.py'>, 'tornado.platform.asyncio': <module 'tornado.platform.asyncio' from 'C:\\\\Users\\\\Green\\\\AppData\\\\Local\\\\Programs\\\\Python\\\\Python311\\\\Lib\\\\site-packages\\\\tornado\\\\platform\\\\asyncio.py'>, 'faulthandler': <module 'faulthandler' (built-in)>, 'debugpy._version': <module 'debugpy._version' from 'C:\\\\Users\\\\Green\\\\AppData\\\\Local\\\\Programs\\\\Python\\\\Python311\\\\Lib\\\\site-packages\\\\debugpy\\\\_version.py'>, 'debugpy.public_api': <module 'debugpy.public_api' from 'C:\\\\Users\\\\Green\\\\AppData\\\\Local\\\\Programs\\\\Python\\\\Python311\\\\Lib\\\\site-packages\\\\debugpy\\\\public_api.py'>, 'debugpy': <module 'debugpy' from 'C:\\\\Users\\\\Green\\\\AppData\\\\Local\\\\Programs\\\\Python\\\\Python311\\\\Lib\\\\site-packages\\\\debugpy\\\\__init__.py'>, 'debugpy._vendored._util': <module 'debugpy._vendored._util' from 'C:\\\\Users\\\\Green\\\\AppData\\\\Local\\\\Programs\\\\Python\\\\Python311\\\\Lib\\\\site-packages\\\\debugpy\\\\_vendored\\\\_util.py'>, 'debugpy._vendored': <module 'debugpy._vendored' from 'C:\\\\Users\\\\Green\\\\AppData\\\\Local\\\\Programs\\\\Python\\\\Python311\\\\Lib\\\\site-packages\\\\debugpy\\\\_vendored\\\\__init__.py'>, '_pydevd_bundle': <module '_pydevd_bundle' from 'C:\\\\Users\\\\Green\\\\AppData\\\\Local\\\\Programs\\\\Python\\\\Python311\\\\Lib\\\\site-packages\\\\debugpy\\\\_vendored\\\\pydevd\\\\_pydevd_bundle\\\\__init__.py'>, 'encodings.ascii': <module 'encodings.ascii' from 'C:\\\\Users\\\\Green\\\\AppData\\\\Local\\\\Programs\\\\Python\\\\Python311\\\\Lib\\\\encodings\\\\ascii.py'>, 'encodings.latin_1': <module 'encodings.latin_1' from 'C:\\\\Users\\\\Green\\\\AppData\\\\Local\\\\Programs\\\\Python\\\\Python311\\\\Lib\\\\encodings\\\\latin_1.py'>, 'stringprep': <module 'stringprep' from 'C:\\\\Users\\\\Green\\\\AppData\\\\Local\\\\Programs\\\\Python\\\\Python311\\\\Lib\\\\stringprep.py'>, 'encodings.idna': <module 'encodings.idna' from 'C:\\\\Users\\\\Green\\\\AppData\\\\Local\\\\Programs\\\\Python\\\\Python311\\\\Lib\\\\encodings\\\\idna.py'>, '_pydevd_bundle.pydevd_vm_type': <module '_pydevd_bundle.pydevd_vm_type' from 'C:\\\\Users\\\\Green\\\\AppData\\\\Local\\\\Programs\\\\Python\\\\Python311\\\\Lib\\\\site-packages\\\\debugpy\\\\_vendored\\\\pydevd\\\\_pydevd_bundle\\\\pydevd_vm_type.py'>, '_pydev_bundle': <module '_pydev_bundle' from 'C:\\\\Users\\\\Green\\\\AppData\\\\Local\\\\Programs\\\\Python\\\\Python311\\\\Lib\\\\site-packages\\\\debugpy\\\\_vendored\\\\pydevd\\\\_pydev_bundle\\\\__init__.py'>, 'xmlrpc': <module 'xmlrpc' from 'C:\\\\Users\\\\Green\\\\AppData\\\\Local\\\\Programs\\\\Python\\\\Python311\\\\Lib\\\\xmlrpc\\\\__init__.py'>, 'gzip': <module 'gzip' from 'C:\\\\Users\\\\Green\\\\AppData\\\\Local\\\\Programs\\\\Python\\\\Python311\\\\Lib\\\\gzip.py'>, 'xmlrpc.client': <module 'xmlrpc.client' from 'C:\\\\Users\\\\Green\\\\AppData\\\\Local\\\\Programs\\\\Python\\\\Python311\\\\Lib\\\\xmlrpc\\\\client.py'>, 'http.server': <module 'http.server' from 'C:\\\\Users\\\\Green\\\\AppData\\\\Local\\\\Programs\\\\Python\\\\Python311\\\\Lib\\\\http\\\\server.py'>, 'xmlrpc.server': <module 'xmlrpc.server' from 'C:\\\\Users\\\\Green\\\\AppData\\\\Local\\\\Programs\\\\Python\\\\Python311\\\\Lib\\\\xmlrpc\\\\server.py'>, '_pydev_bundle._pydev_saved_modules': <module '_pydev_bundle._pydev_saved_modules' from 'C:\\\\Users\\\\Green\\\\AppData\\\\Local\\\\Programs\\\\Python\\\\Python311\\\\Lib\\\\site-packages\\\\debugpy\\\\_vendored\\\\pydevd\\\\_pydev_bundle\\\\_pydev_saved_modules.py'>, '_pydevd_bundle.pydevd_constants': <module '_pydevd_bundle.pydevd_constants' from 'C:\\\\Users\\\\Green\\\\AppData\\\\Local\\\\Programs\\\\Python\\\\Python311\\\\Lib\\\\site-packages\\\\debugpy\\\\_vendored\\\\pydevd\\\\_pydevd_bundle\\\\pydevd_constants.py'>, '_pydev_runfiles': <module '_pydev_runfiles' from 'C:\\\\Users\\\\Green\\\\AppData\\\\Local\\\\Programs\\\\Python\\\\Python311\\\\Lib\\\\site-packages\\\\debugpy\\\\_vendored\\\\pydevd\\\\_pydev_runfiles\\\\__init__.py'>, '_pydevd_frame_eval': <module '_pydevd_frame_eval' from 'C:\\\\Users\\\\Green\\\\AppData\\\\Local\\\\Programs\\\\Python\\\\Python311\\\\Lib\\\\site-packages\\\\debugpy\\\\_vendored\\\\pydevd\\\\_pydevd_frame_eval\\\\__init__.py'>, 'pydev_ipython': <module 'pydev_ipython' from 'C:\\\\Users\\\\Green\\\\AppData\\\\Local\\\\Programs\\\\Python\\\\Python311\\\\Lib\\\\site-packages\\\\debugpy\\\\_vendored\\\\pydevd\\\\pydev_ipython\\\\__init__.py'>, 'pydevd_plugins': <module 'pydevd_plugins' from 'C:\\\\Users\\\\Green\\\\AppData\\\\Local\\\\Programs\\\\Python\\\\Python311\\\\Lib\\\\site-packages\\\\debugpy\\\\_vendored\\\\pydevd\\\\pydevd_plugins\\\\__init__.py'>, '_pydev_bundle.pydev_log': <module '_pydev_bundle.pydev_log' from 'C:\\\\Users\\\\Green\\\\AppData\\\\Local\\\\Programs\\\\Python\\\\Python311\\\\Lib\\\\site-packages\\\\debugpy\\\\_vendored\\\\pydevd\\\\_pydev_bundle\\\\pydev_log.py'>, '_pydev_bundle._pydev_filesystem_encoding': <module '_pydev_bundle._pydev_filesystem_encoding' from 'C:\\\\Users\\\\Green\\\\AppData\\\\Local\\\\Programs\\\\Python\\\\Python311\\\\Lib\\\\site-packages\\\\debugpy\\\\_vendored\\\\pydevd\\\\_pydev_bundle\\\\_pydev_filesystem_encoding.py'>, '_pydevd_bundle.pydevd_comm_constants': <module '_pydevd_bundle.pydevd_comm_constants' from 'C:\\\\Users\\\\Green\\\\AppData\\\\Local\\\\Programs\\\\Python\\\\Python311\\\\Lib\\\\site-packages\\\\debugpy\\\\_vendored\\\\pydevd\\\\_pydevd_bundle\\\\pydevd_comm_constants.py'>, 'pydevd_file_utils': <module 'pydevd_file_utils' from 'C:\\\\Users\\\\Green\\\\AppData\\\\Local\\\\Programs\\\\Python\\\\Python311\\\\Lib\\\\site-packages\\\\debugpy\\\\_vendored\\\\pydevd\\\\pydevd_file_utils.py'>, '_pydev_bundle._pydev_execfile': <module '_pydev_bundle._pydev_execfile' from 'C:\\\\Users\\\\Green\\\\AppData\\\\Local\\\\Programs\\\\Python\\\\Python311\\\\Lib\\\\site-packages\\\\debugpy\\\\_vendored\\\\pydevd\\\\_pydev_bundle\\\\_pydev_execfile.py'>, '_pydevd_bundle.pydevd_exec2': <module '_pydevd_bundle.pydevd_exec2' from 'C:\\\\Users\\\\Green\\\\AppData\\\\Local\\\\Programs\\\\Python\\\\Python311\\\\Lib\\\\site-packages\\\\debugpy\\\\_vendored\\\\pydevd\\\\_pydevd_bundle\\\\pydevd_exec2.py'>, '_pydev_bundle.pydev_imports': <module '_pydev_bundle.pydev_imports' from 'C:\\\\Users\\\\Green\\\\AppData\\\\Local\\\\Programs\\\\Python\\\\Python311\\\\Lib\\\\site-packages\\\\debugpy\\\\_vendored\\\\pydevd\\\\_pydev_bundle\\\\pydev_imports.py'>, '_pydev_bundle.pydev_is_thread_alive': <module '_pydev_bundle.pydev_is_thread_alive' from 'C:\\\\Users\\\\Green\\\\AppData\\\\Local\\\\Programs\\\\Python\\\\Python311\\\\Lib\\\\site-packages\\\\debugpy\\\\_vendored\\\\pydevd\\\\_pydev_bundle\\\\pydev_is_thread_alive.py'>, '_pydev_bundle.pydev_override': <module '_pydev_bundle.pydev_override' from 'C:\\\\Users\\\\Green\\\\AppData\\\\Local\\\\Programs\\\\Python\\\\Python311\\\\Lib\\\\site-packages\\\\debugpy\\\\_vendored\\\\pydevd\\\\_pydev_bundle\\\\pydev_override.py'>, 'pydevd_plugins.extensions': <module 'pydevd_plugins.extensions' from 'C:\\\\Users\\\\Green\\\\AppData\\\\Local\\\\Programs\\\\Python\\\\Python311\\\\Lib\\\\site-packages\\\\debugpy\\\\_vendored\\\\pydevd\\\\pydevd_plugins\\\\extensions\\\\__init__.py'>, '_pydevd_bundle.pydevd_extension_utils': <module '_pydevd_bundle.pydevd_extension_utils' from 'C:\\\\Users\\\\Green\\\\AppData\\\\Local\\\\Programs\\\\Python\\\\Python311\\\\Lib\\\\site-packages\\\\debugpy\\\\_vendored\\\\pydevd\\\\_pydevd_bundle\\\\pydevd_extension_utils.py'>, '_pydevd_bundle.pydevd_frame_utils': <module '_pydevd_bundle.pydevd_frame_utils' from 'C:\\\\Users\\\\Green\\\\AppData\\\\Local\\\\Programs\\\\Python\\\\Python311\\\\Lib\\\\site-packages\\\\debugpy\\\\_vendored\\\\pydevd\\\\_pydevd_bundle\\\\pydevd_frame_utils.py'>, '_pydevd_bundle.pydevd_filtering': <module '_pydevd_bundle.pydevd_filtering' from 'C:\\\\Users\\\\Green\\\\AppData\\\\Local\\\\Programs\\\\Python\\\\Python311\\\\Lib\\\\site-packages\\\\debugpy\\\\_vendored\\\\pydevd\\\\_pydevd_bundle\\\\pydevd_filtering.py'>, '_pydevd_bundle.pydevd_io': <module '_pydevd_bundle.pydevd_io' from 'C:\\\\Users\\\\Green\\\\AppData\\\\Local\\\\Programs\\\\Python\\\\Python311\\\\Lib\\\\site-packages\\\\debugpy\\\\_vendored\\\\pydevd\\\\_pydevd_bundle\\\\pydevd_io.py'>, '_pydevd_bundle.pydevd_defaults': <module '_pydevd_bundle.pydevd_defaults' from 'C:\\\\Users\\\\Green\\\\AppData\\\\Local\\\\Programs\\\\Python\\\\Python311\\\\Lib\\\\site-packages\\\\debugpy\\\\_vendored\\\\pydevd\\\\_pydevd_bundle\\\\pydevd_defaults.py'>, '_pydevd_bundle.pydevd_utils': <module '_pydevd_bundle.pydevd_utils' from 'C:\\\\Users\\\\Green\\\\AppData\\\\Local\\\\Programs\\\\Python\\\\Python311\\\\Lib\\\\site-packages\\\\debugpy\\\\_vendored\\\\pydevd\\\\_pydevd_bundle\\\\pydevd_utils.py'>, '_pydevd_bundle.pydevd_runpy': <module '_pydevd_bundle.pydevd_runpy' from 'C:\\\\Users\\\\Green\\\\AppData\\\\Local\\\\Programs\\\\Python\\\\Python311\\\\Lib\\\\site-packages\\\\debugpy\\\\_vendored\\\\pydevd\\\\_pydevd_bundle\\\\pydevd_runpy.py'>, '_pydev_bundle._pydev_tipper_common': <module '_pydev_bundle._pydev_tipper_common' from 'C:\\\\Users\\\\Green\\\\AppData\\\\Local\\\\Programs\\\\Python\\\\Python311\\\\Lib\\\\site-packages\\\\debugpy\\\\_vendored\\\\pydevd\\\\_pydev_bundle\\\\_pydev_tipper_common.py'>, '_pydev_bundle._pydev_imports_tipper': <module '_pydev_bundle._pydev_imports_tipper' from 'C:\\\\Users\\\\Green\\\\AppData\\\\Local\\\\Programs\\\\Python\\\\Python311\\\\Lib\\\\site-packages\\\\debugpy\\\\_vendored\\\\pydevd\\\\_pydev_bundle\\\\_pydev_imports_tipper.py'>, '_pydev_bundle._pydev_calltip_util': <module '_pydev_bundle._pydev_calltip_util' from 'C:\\\\Users\\\\Green\\\\AppData\\\\Local\\\\Programs\\\\Python\\\\Python311\\\\Lib\\\\site-packages\\\\debugpy\\\\_vendored\\\\pydevd\\\\_pydev_bundle\\\\_pydev_calltip_util.py'>, '_pydevd_bundle.pydevd_safe_repr': <module '_pydevd_bundle.pydevd_safe_repr' from 'C:\\\\Users\\\\Green\\\\AppData\\\\Local\\\\Programs\\\\Python\\\\Python311\\\\Lib\\\\site-packages\\\\debugpy\\\\_vendored\\\\pydevd\\\\_pydevd_bundle\\\\pydevd_safe_repr.py'>, '_pydevd_bundle.pydevd_resolver': <module '_pydevd_bundle.pydevd_resolver' from 'C:\\\\Users\\\\Green\\\\AppData\\\\Local\\\\Programs\\\\Python\\\\Python311\\\\Lib\\\\site-packages\\\\debugpy\\\\_vendored\\\\pydevd\\\\_pydevd_bundle\\\\pydevd_resolver.py'>, '_pydevd_bundle.pydevd_extension_api': <module '_pydevd_bundle.pydevd_extension_api' from 'C:\\\\Users\\\\Green\\\\AppData\\\\Local\\\\Programs\\\\Python\\\\Python311\\\\Lib\\\\site-packages\\\\debugpy\\\\_vendored\\\\pydevd\\\\_pydevd_bundle\\\\pydevd_extension_api.py'>, '_pydevd_bundle.pydevd_xml': <module '_pydevd_bundle.pydevd_xml' from 'C:\\\\Users\\\\Green\\\\AppData\\\\Local\\\\Programs\\\\Python\\\\Python311\\\\Lib\\\\site-packages\\\\debugpy\\\\_vendored\\\\pydevd\\\\_pydevd_bundle\\\\pydevd_xml.py'>, '_pydevd_bundle.pydevd_dont_trace': <module '_pydevd_bundle.pydevd_dont_trace' from 'C:\\\\Users\\\\Green\\\\AppData\\\\Local\\\\Programs\\\\Python\\\\Python311\\\\Lib\\\\site-packages\\\\debugpy\\\\_vendored\\\\pydevd\\\\_pydevd_bundle\\\\pydevd_dont_trace.py'>, '_pydevd_frame_eval.vendored': <module '_pydevd_frame_eval.vendored' from 'C:\\\\Users\\\\Green\\\\AppData\\\\Local\\\\Programs\\\\Python\\\\Python311\\\\Lib\\\\site-packages\\\\debugpy\\\\_vendored\\\\pydevd\\\\_pydevd_frame_eval\\\\vendored\\\\__init__.py'>, '_pydevd_frame_eval.vendored.bytecode.flags': <module '_pydevd_frame_eval.vendored.bytecode.flags' from 'C:\\\\Users\\\\Green\\\\AppData\\\\Local\\\\Programs\\\\Python\\\\Python311\\\\Lib\\\\site-packages\\\\debugpy\\\\_vendored\\\\pydevd\\\\_pydevd_frame_eval\\\\vendored\\\\bytecode\\\\flags.py'>, '_pydevd_frame_eval.vendored.bytecode.instr': <module '_pydevd_frame_eval.vendored.bytecode.instr' from 'C:\\\\Users\\\\Green\\\\AppData\\\\Local\\\\Programs\\\\Python\\\\Python311\\\\Lib\\\\site-packages\\\\debugpy\\\\_vendored\\\\pydevd\\\\_pydevd_frame_eval\\\\vendored\\\\bytecode\\\\instr.py'>, '_pydevd_frame_eval.vendored.bytecode.bytecode': <module '_pydevd_frame_eval.vendored.bytecode.bytecode' from 'C:\\\\Users\\\\Green\\\\AppData\\\\Local\\\\Programs\\\\Python\\\\Python311\\\\Lib\\\\site-packages\\\\debugpy\\\\_vendored\\\\pydevd\\\\_pydevd_frame_eval\\\\vendored\\\\bytecode\\\\bytecode.py'>, '_pydevd_frame_eval.vendored.bytecode.concrete': <module '_pydevd_frame_eval.vendored.bytecode.concrete' from 'C:\\\\Users\\\\Green\\\\AppData\\\\Local\\\\Programs\\\\Python\\\\Python311\\\\Lib\\\\site-packages\\\\debugpy\\\\_vendored\\\\pydevd\\\\_pydevd_frame_eval\\\\vendored\\\\bytecode\\\\concrete.py'>, '_pydevd_frame_eval.vendored.bytecode.cfg': <module '_pydevd_frame_eval.vendored.bytecode.cfg' from 'C:\\\\Users\\\\Green\\\\AppData\\\\Local\\\\Programs\\\\Python\\\\Python311\\\\Lib\\\\site-packages\\\\debugpy\\\\_vendored\\\\pydevd\\\\_pydevd_frame_eval\\\\vendored\\\\bytecode\\\\cfg.py'>, '_pydevd_frame_eval.vendored.bytecode': <module '_pydevd_frame_eval.vendored.bytecode' from 'C:\\\\Users\\\\Green\\\\AppData\\\\Local\\\\Programs\\\\Python\\\\Python311\\\\Lib\\\\site-packages\\\\debugpy\\\\_vendored\\\\pydevd\\\\_pydevd_frame_eval\\\\vendored\\\\bytecode\\\\__init__.py'>, '_pydevd_bundle.pydevd_bytecode_utils': <module '_pydevd_bundle.pydevd_bytecode_utils' from 'C:\\\\Users\\\\Green\\\\AppData\\\\Local\\\\Programs\\\\Python\\\\Python311\\\\Lib\\\\site-packages\\\\debugpy\\\\_vendored\\\\pydevd\\\\_pydevd_bundle\\\\pydevd_bytecode_utils.py'>, '_pydevd_bundle.pydevd_cython': <module '_pydevd_bundle.pydevd_cython' from 'C:\\\\Users\\\\Green\\\\AppData\\\\Local\\\\Programs\\\\Python\\\\Python311\\\\Lib\\\\site-packages\\\\debugpy\\\\_vendored\\\\pydevd\\\\_pydevd_bundle\\\\pydevd_cython.cp311-win_amd64.pyd'>, '_pydevd_bundle.pydevd_cython_wrapper': <module '_pydevd_bundle.pydevd_cython_wrapper' from 'C:\\\\Users\\\\Green\\\\AppData\\\\Local\\\\Programs\\\\Python\\\\Python311\\\\Lib\\\\site-packages\\\\debugpy\\\\_vendored\\\\pydevd\\\\_pydevd_bundle\\\\pydevd_cython_wrapper.py'>, '_pydevd_bundle.pydevd_additional_thread_info': <module '_pydevd_bundle.pydevd_additional_thread_info' from 'C:\\\\Users\\\\Green\\\\AppData\\\\Local\\\\Programs\\\\Python\\\\Python311\\\\Lib\\\\site-packages\\\\debugpy\\\\_vendored\\\\pydevd\\\\_pydevd_bundle\\\\pydevd_additional_thread_info.py'>, '_pydevd_bundle.pydevd_thread_lifecycle': <module '_pydevd_bundle.pydevd_thread_lifecycle' from 'C:\\\\Users\\\\Green\\\\AppData\\\\Local\\\\Programs\\\\Python\\\\Python311\\\\Lib\\\\site-packages\\\\debugpy\\\\_vendored\\\\pydevd\\\\_pydevd_bundle\\\\pydevd_thread_lifecycle.py'>, '_pydevd_bundle.pydevd_save_locals': <module '_pydevd_bundle.pydevd_save_locals' from 'C:\\\\Users\\\\Green\\\\AppData\\\\Local\\\\Programs\\\\Python\\\\Python311\\\\Lib\\\\site-packages\\\\debugpy\\\\_vendored\\\\pydevd\\\\_pydevd_bundle\\\\pydevd_save_locals.py'>, '_pydev_bundle.pydev_monkey': <module '_pydev_bundle.pydev_monkey' from 'C:\\\\Users\\\\Green\\\\AppData\\\\Local\\\\Programs\\\\Python\\\\Python311\\\\Lib\\\\site-packages\\\\debugpy\\\\_vendored\\\\pydevd\\\\_pydev_bundle\\\\pydev_monkey.py'>, 'pydevd_tracing': <module 'pydevd_tracing' from 'C:\\\\Users\\\\Green\\\\AppData\\\\Local\\\\Programs\\\\Python\\\\Python311\\\\Lib\\\\site-packages\\\\debugpy\\\\_vendored\\\\pydevd\\\\pydevd_tracing.py'>, '_pydevd_bundle.pydevd_collect_bytecode_info': <module '_pydevd_bundle.pydevd_collect_bytecode_info' from 'C:\\\\Users\\\\Green\\\\AppData\\\\Local\\\\Programs\\\\Python\\\\Python311\\\\Lib\\\\site-packages\\\\debugpy\\\\_vendored\\\\pydevd\\\\_pydevd_bundle\\\\pydevd_collect_bytecode_info.py'>, '_pydevd_bundle.pydevd_daemon_thread': <module '_pydevd_bundle.pydevd_daemon_thread' from 'C:\\\\Users\\\\Green\\\\AppData\\\\Local\\\\Programs\\\\Python\\\\Python311\\\\Lib\\\\site-packages\\\\debugpy\\\\_vendored\\\\pydevd\\\\_pydevd_bundle\\\\pydevd_daemon_thread.py'>, '_pydevd_bundle.pydevd_timeout': <module '_pydevd_bundle.pydevd_timeout' from 'C:\\\\Users\\\\Green\\\\AppData\\\\Local\\\\Programs\\\\Python\\\\Python311\\\\Lib\\\\site-packages\\\\debugpy\\\\_vendored\\\\pydevd\\\\_pydevd_bundle\\\\pydevd_timeout.py'>, '_pydevd_bundle.pydevd_vars': <module '_pydevd_bundle.pydevd_vars' from 'C:\\\\Users\\\\Green\\\\AppData\\\\Local\\\\Programs\\\\Python\\\\Python311\\\\Lib\\\\site-packages\\\\debugpy\\\\_vendored\\\\pydevd\\\\_pydevd_bundle\\\\pydevd_vars.py'>, '_pydev_bundle.pydev_console_utils': <module '_pydev_bundle.pydev_console_utils' from 'C:\\\\Users\\\\Green\\\\AppData\\\\Local\\\\Programs\\\\Python\\\\Python311\\\\Lib\\\\site-packages\\\\debugpy\\\\_vendored\\\\pydevd\\\\_pydev_bundle\\\\pydev_console_utils.py'>, '_pydevd_bundle.pydevd_import_class': <module '_pydevd_bundle.pydevd_import_class' from 'C:\\\\Users\\\\Green\\\\AppData\\\\Local\\\\Programs\\\\Python\\\\Python311\\\\Lib\\\\site-packages\\\\debugpy\\\\_vendored\\\\pydevd\\\\_pydevd_bundle\\\\pydevd_import_class.py'>, '_pydevd_bundle.pydevd_breakpoints': <module '_pydevd_bundle.pydevd_breakpoints' from 'C:\\\\Users\\\\Green\\\\AppData\\\\Local\\\\Programs\\\\Python\\\\Python311\\\\Lib\\\\site-packages\\\\debugpy\\\\_vendored\\\\pydevd\\\\_pydevd_bundle\\\\pydevd_breakpoints.py'>, '_pydevd_bundle.pydevd_custom_frames': <module '_pydevd_bundle.pydevd_custom_frames' from 'C:\\\\Users\\\\Green\\\\AppData\\\\Local\\\\Programs\\\\Python\\\\Python311\\\\Lib\\\\site-packages\\\\debugpy\\\\_vendored\\\\pydevd\\\\_pydevd_bundle\\\\pydevd_custom_frames.py'>, '_pydevd_bundle.pydevd_dont_trace_files': <module '_pydevd_bundle.pydevd_dont_trace_files' from 'C:\\\\Users\\\\Green\\\\AppData\\\\Local\\\\Programs\\\\Python\\\\Python311\\\\Lib\\\\site-packages\\\\debugpy\\\\_vendored\\\\pydevd\\\\_pydevd_bundle\\\\pydevd_dont_trace_files.py'>, '_pydevd_bundle.pydevd_net_command': <module '_pydevd_bundle.pydevd_net_command' from 'C:\\\\Users\\\\Green\\\\AppData\\\\Local\\\\Programs\\\\Python\\\\Python311\\\\Lib\\\\site-packages\\\\debugpy\\\\_vendored\\\\pydevd\\\\_pydevd_bundle\\\\pydevd_net_command.py'>, '_pydevd_bundle.pydevconsole_code': <module '_pydevd_bundle.pydevconsole_code' from 'C:\\\\Users\\\\Green\\\\AppData\\\\Local\\\\Programs\\\\Python\\\\Python311\\\\Lib\\\\site-packages\\\\debugpy\\\\_vendored\\\\pydevd\\\\_pydevd_bundle\\\\pydevconsole_code.py'>, '_pydev_bundle.pydev_umd': <module '_pydev_bundle.pydev_umd' from 'C:\\\\Users\\\\Green\\\\AppData\\\\Local\\\\Programs\\\\Python\\\\Python311\\\\Lib\\\\site-packages\\\\debugpy\\\\_vendored\\\\pydevd\\\\_pydev_bundle\\\\pydev_umd.py'>, 'pydevconsole': <module 'pydevconsole' from 'C:\\\\Users\\\\Green\\\\AppData\\\\Local\\\\Programs\\\\Python\\\\Python311\\\\Lib\\\\site-packages\\\\debugpy\\\\_vendored\\\\pydevd\\\\pydevconsole.py'>, '_pydev_bundle._pydev_completer': <module '_pydev_bundle._pydev_completer' from 'C:\\\\Users\\\\Green\\\\AppData\\\\Local\\\\Programs\\\\Python\\\\Python311\\\\Lib\\\\site-packages\\\\debugpy\\\\_vendored\\\\pydevd\\\\_pydev_bundle\\\\_pydev_completer.py'>, '_pydevd_bundle.pydevd_net_command_factory_xml': <module '_pydevd_bundle.pydevd_net_command_factory_xml' from 'C:\\\\Users\\\\Green\\\\AppData\\\\Local\\\\Programs\\\\Python\\\\Python311\\\\Lib\\\\site-packages\\\\debugpy\\\\_vendored\\\\pydevd\\\\_pydevd_bundle\\\\pydevd_net_command_factory_xml.py'>, '_pydevd_bundle.pydevd_frame': <module '_pydevd_bundle.pydevd_frame' from 'C:\\\\Users\\\\Green\\\\AppData\\\\Local\\\\Programs\\\\Python\\\\Python311\\\\Lib\\\\site-packages\\\\debugpy\\\\_vendored\\\\pydevd\\\\_pydevd_bundle\\\\pydevd_frame.py'>, '_pydevd_bundle.pydevd_additional_thread_info_regular': <module '_pydevd_bundle.pydevd_additional_thread_info_regular' from 'C:\\\\Users\\\\Green\\\\AppData\\\\Local\\\\Programs\\\\Python\\\\Python311\\\\Lib\\\\site-packages\\\\debugpy\\\\_vendored\\\\pydevd\\\\_pydevd_bundle\\\\pydevd_additional_thread_info_regular.py'>, '_pydevd_bundle.pydevd_trace_dispatch': <module '_pydevd_bundle.pydevd_trace_dispatch' from 'C:\\\\Users\\\\Green\\\\AppData\\\\Local\\\\Programs\\\\Python\\\\Python311\\\\Lib\\\\site-packages\\\\debugpy\\\\_vendored\\\\pydevd\\\\_pydevd_bundle\\\\pydevd_trace_dispatch.py'>, '_pydevd_frame_eval.pydevd_frame_eval_main': <module '_pydevd_frame_eval.pydevd_frame_eval_main' from 'C:\\\\Users\\\\Green\\\\AppData\\\\Local\\\\Programs\\\\Python\\\\Python311\\\\Lib\\\\site-packages\\\\debugpy\\\\_vendored\\\\pydevd\\\\_pydevd_frame_eval\\\\pydevd_frame_eval_main.py'>, '_pydevd_bundle.pydevd_source_mapping': <module '_pydevd_bundle.pydevd_source_mapping' from 'C:\\\\Users\\\\Green\\\\AppData\\\\Local\\\\Programs\\\\Python\\\\Python311\\\\Lib\\\\site-packages\\\\debugpy\\\\_vendored\\\\pydevd\\\\_pydevd_bundle\\\\pydevd_source_mapping.py'>, '_pydevd_bundle.pydevd_concurrency_analyser': <module '_pydevd_bundle.pydevd_concurrency_analyser' from 'C:\\\\Users\\\\Green\\\\AppData\\\\Local\\\\Programs\\\\Python\\\\Python311\\\\Lib\\\\site-packages\\\\debugpy\\\\_vendored\\\\pydevd\\\\_pydevd_bundle\\\\pydevd_concurrency_analyser\\\\__init__.py'>, '_pydevd_bundle.pydevd_concurrency_analyser.pydevd_thread_wrappers': <module '_pydevd_bundle.pydevd_concurrency_analyser.pydevd_thread_wrappers' from 'C:\\\\Users\\\\Green\\\\AppData\\\\Local\\\\Programs\\\\Python\\\\Python311\\\\Lib\\\\site-packages\\\\debugpy\\\\_vendored\\\\pydevd\\\\_pydevd_bundle\\\\pydevd_concurrency_analyser\\\\pydevd_thread_wrappers.py'>, '_pydevd_bundle.pydevd_concurrency_analyser.pydevd_concurrency_logger': <module '_pydevd_bundle.pydevd_concurrency_analyser.pydevd_concurrency_logger' from 'C:\\\\Users\\\\Green\\\\AppData\\\\Local\\\\Programs\\\\Python\\\\Python311\\\\Lib\\\\site-packages\\\\debugpy\\\\_vendored\\\\pydevd\\\\_pydevd_bundle\\\\pydevd_concurrency_analyser\\\\pydevd_concurrency_logger.py'>, '_pydevd_bundle._debug_adapter': <module '_pydevd_bundle._debug_adapter' from 'C:\\\\Users\\\\Green\\\\AppData\\\\Local\\\\Programs\\\\Python\\\\Python311\\\\Lib\\\\site-packages\\\\debugpy\\\\_vendored\\\\pydevd\\\\_pydevd_bundle\\\\_debug_adapter\\\\__init__.py'>, '_pydevd_bundle._debug_adapter.pydevd_schema_log': <module '_pydevd_bundle._debug_adapter.pydevd_schema_log' from 'C:\\\\Users\\\\Green\\\\AppData\\\\Local\\\\Programs\\\\Python\\\\Python311\\\\Lib\\\\site-packages\\\\debugpy\\\\_vendored\\\\pydevd\\\\_pydevd_bundle\\\\_debug_adapter\\\\pydevd_schema_log.py'>, '_pydevd_bundle._debug_adapter.pydevd_base_schema': <module '_pydevd_bundle._debug_adapter.pydevd_base_schema' from 'C:\\\\Users\\\\Green\\\\AppData\\\\Local\\\\Programs\\\\Python\\\\Python311\\\\Lib\\\\site-packages\\\\debugpy\\\\_vendored\\\\pydevd\\\\_pydevd_bundle\\\\_debug_adapter\\\\pydevd_base_schema.py'>, '_pydevd_bundle._debug_adapter.pydevd_schema': <module '_pydevd_bundle._debug_adapter.pydevd_schema' from 'C:\\\\Users\\\\Green\\\\AppData\\\\Local\\\\Programs\\\\Python\\\\Python311\\\\Lib\\\\site-packages\\\\debugpy\\\\_vendored\\\\pydevd\\\\_pydevd_bundle\\\\_debug_adapter\\\\pydevd_schema.py'>, '_pydevd_bundle.pydevd_reload': <module '_pydevd_bundle.pydevd_reload' from 'C:\\\\Users\\\\Green\\\\AppData\\\\Local\\\\Programs\\\\Python\\\\Python311\\\\Lib\\\\site-packages\\\\debugpy\\\\_vendored\\\\pydevd\\\\_pydevd_bundle\\\\pydevd_reload.py'>, '_pydev_bundle.fsnotify': <module '_pydev_bundle.fsnotify' from 'C:\\\\Users\\\\Green\\\\AppData\\\\Local\\\\Programs\\\\Python\\\\Python311\\\\Lib\\\\site-packages\\\\debugpy\\\\_vendored\\\\pydevd\\\\_pydev_bundle\\\\fsnotify\\\\__init__.py'>, '_pydevd_bundle.pydevd_console': <module '_pydevd_bundle.pydevd_console' from 'C:\\\\Users\\\\Green\\\\AppData\\\\Local\\\\Programs\\\\Python\\\\Python311\\\\Lib\\\\site-packages\\\\debugpy\\\\_vendored\\\\pydevd\\\\_pydevd_bundle\\\\pydevd_console.py'>, '_pydevd_bundle.pydevd_comm': <module '_pydevd_bundle.pydevd_comm' from 'C:\\\\Users\\\\Green\\\\AppData\\\\Local\\\\Programs\\\\Python\\\\Python311\\\\Lib\\\\site-packages\\\\debugpy\\\\_vendored\\\\pydevd\\\\_pydevd_bundle\\\\pydevd_comm.py'>, '_pydevd_bundle.pydevd_net_command_factory_json': <module '_pydevd_bundle.pydevd_net_command_factory_json' from 'C:\\\\Users\\\\Green\\\\AppData\\\\Local\\\\Programs\\\\Python\\\\Python311\\\\Lib\\\\site-packages\\\\debugpy\\\\_vendored\\\\pydevd\\\\_pydevd_bundle\\\\pydevd_net_command_factory_json.py'>, '_pydevd_bundle.pydevd_api': <module '_pydevd_bundle.pydevd_api' from 'C:\\\\Users\\\\Green\\\\AppData\\\\Local\\\\Programs\\\\Python\\\\Python311\\\\Lib\\\\site-packages\\\\debugpy\\\\_vendored\\\\pydevd\\\\_pydevd_bundle\\\\pydevd_api.py'>, '_pydevd_bundle.pydevd_json_debug_options': <module '_pydevd_bundle.pydevd_json_debug_options' from 'C:\\\\Users\\\\Green\\\\AppData\\\\Local\\\\Programs\\\\Python\\\\Python311\\\\Lib\\\\site-packages\\\\debugpy\\\\_vendored\\\\pydevd\\\\_pydevd_bundle\\\\pydevd_json_debug_options.py'>, '_pydevd_bundle.pydevd_process_net_command_json': <module '_pydevd_bundle.pydevd_process_net_command_json' from 'C:\\\\Users\\\\Green\\\\AppData\\\\Local\\\\Programs\\\\Python\\\\Python311\\\\Lib\\\\site-packages\\\\debugpy\\\\_vendored\\\\pydevd\\\\_pydevd_bundle\\\\pydevd_process_net_command_json.py'>, '_pydevd_bundle.pydevd_traceproperty': <module '_pydevd_bundle.pydevd_traceproperty' from 'C:\\\\Users\\\\Green\\\\AppData\\\\Local\\\\Programs\\\\Python\\\\Python311\\\\Lib\\\\site-packages\\\\debugpy\\\\_vendored\\\\pydevd\\\\_pydevd_bundle\\\\pydevd_traceproperty.py'>, '_pydevd_bundle.pydevd_process_net_command': <module '_pydevd_bundle.pydevd_process_net_command' from 'C:\\\\Users\\\\Green\\\\AppData\\\\Local\\\\Programs\\\\Python\\\\Python311\\\\Lib\\\\site-packages\\\\debugpy\\\\_vendored\\\\pydevd\\\\_pydevd_bundle\\\\pydevd_process_net_command.py'>, '_pydevd_bundle.pydevd_suspended_frames': <module '_pydevd_bundle.pydevd_suspended_frames' from 'C:\\\\Users\\\\Green\\\\AppData\\\\Local\\\\Programs\\\\Python\\\\Python311\\\\Lib\\\\site-packages\\\\debugpy\\\\_vendored\\\\pydevd\\\\_pydevd_bundle\\\\pydevd_suspended_frames.py'>, '_pydevd_bundle.pydevd_trace_api': <module '_pydevd_bundle.pydevd_trace_api' from 'C:\\\\Users\\\\Green\\\\AppData\\\\Local\\\\Programs\\\\Python\\\\Python311\\\\Lib\\\\site-packages\\\\debugpy\\\\_vendored\\\\pydevd\\\\_pydevd_bundle\\\\pydevd_trace_api.py'>, 'pydevd_plugins.pydevd_line_validation': <module 'pydevd_plugins.pydevd_line_validation' from 'C:\\\\Users\\\\Green\\\\AppData\\\\Local\\\\Programs\\\\Python\\\\Python311\\\\Lib\\\\site-packages\\\\debugpy\\\\_vendored\\\\pydevd\\\\pydevd_plugins\\\\pydevd_line_validation.py'>, 'pydevd_plugins.django_debug': <module 'pydevd_plugins.django_debug' from 'C:\\\\Users\\\\Green\\\\AppData\\\\Local\\\\Programs\\\\Python\\\\Python311\\\\Lib\\\\site-packages\\\\debugpy\\\\_vendored\\\\pydevd\\\\pydevd_plugins\\\\django_debug.py'>, 'pydevd_plugins.jinja2_debug': <module 'pydevd_plugins.jinja2_debug' from 'C:\\\\Users\\\\Green\\\\AppData\\\\Local\\\\Programs\\\\Python\\\\Python311\\\\Lib\\\\site-packages\\\\debugpy\\\\_vendored\\\\pydevd\\\\pydevd_plugins\\\\jinja2_debug.py'>, '_pydevd_bundle.pydevd_plugin_utils': <module '_pydevd_bundle.pydevd_plugin_utils' from 'C:\\\\Users\\\\Green\\\\AppData\\\\Local\\\\Programs\\\\Python\\\\Python311\\\\Lib\\\\site-packages\\\\debugpy\\\\_vendored\\\\pydevd\\\\_pydevd_bundle\\\\pydevd_plugin_utils.py'>, 'pydevd_plugins.extensions.types': <module 'pydevd_plugins.extensions.types' from 'C:\\\\Users\\\\Green\\\\AppData\\\\Local\\\\Programs\\\\Python\\\\Python311\\\\Lib\\\\site-packages\\\\debugpy\\\\_vendored\\\\pydevd\\\\pydevd_plugins\\\\extensions\\\\types\\\\__init__.py'>, 'pydevd_plugins.extensions.types.pydevd_helpers': <module 'pydevd_plugins.extensions.types.pydevd_helpers' from 'C:\\\\Users\\\\Green\\\\AppData\\\\Local\\\\Programs\\\\Python\\\\Python311\\\\Lib\\\\site-packages\\\\debugpy\\\\_vendored\\\\pydevd\\\\pydevd_plugins\\\\extensions\\\\types\\\\pydevd_helpers.py'>, 'pydevd_plugins.extensions.types.pydevd_plugin_numpy_types': <module 'pydevd_plugins.extensions.types.pydevd_plugin_numpy_types' from 'C:\\\\Users\\\\Green\\\\AppData\\\\Local\\\\Programs\\\\Python\\\\Python311\\\\Lib\\\\site-packages\\\\debugpy\\\\_vendored\\\\pydevd\\\\pydevd_plugins\\\\extensions\\\\types\\\\pydevd_plugin_numpy_types.py'>, 'pydevd_plugins.extensions.types.pydevd_plugin_pandas_types': <module 'pydevd_plugins.extensions.types.pydevd_plugin_pandas_types' from 'C:\\\\Users\\\\Green\\\\AppData\\\\Local\\\\Programs\\\\Python\\\\Python311\\\\Lib\\\\site-packages\\\\debugpy\\\\_vendored\\\\pydevd\\\\pydevd_plugins\\\\extensions\\\\types\\\\pydevd_plugin_pandas_types.py'>, 'pydevd_plugins.extensions.types.pydevd_plugins_django_form_str': <module 'pydevd_plugins.extensions.types.pydevd_plugins_django_form_str' from 'C:\\\\Users\\\\Green\\\\AppData\\\\Local\\\\Programs\\\\Python\\\\Python311\\\\Lib\\\\site-packages\\\\debugpy\\\\_vendored\\\\pydevd\\\\pydevd_plugins\\\\extensions\\\\types\\\\pydevd_plugins_django_form_str.py'>, 'pydevd': <module 'pydevd' from 'C:\\\\Users\\\\Green\\\\AppData\\\\Local\\\\Programs\\\\Python\\\\Python311\\\\Lib\\\\site-packages\\\\debugpy\\\\_vendored\\\\pydevd\\\\pydevd.py'>, 'debugpy._vendored.force_pydevd': <module 'debugpy._vendored.force_pydevd' from 'C:\\\\Users\\\\Green\\\\AppData\\\\Local\\\\Programs\\\\Python\\\\Python311\\\\Lib\\\\site-packages\\\\debugpy\\\\_vendored\\\\force_pydevd.py'>, 'debugpy.server': <module 'debugpy.server' from 'C:\\\\Users\\\\Green\\\\AppData\\\\Local\\\\Programs\\\\Python\\\\Python311\\\\Lib\\\\site-packages\\\\debugpy\\\\server\\\\__init__.py'>, 'debugpy.adapter': <module 'debugpy.adapter' from 'C:\\\\Users\\\\Green\\\\AppData\\\\Local\\\\Programs\\\\Python\\\\Python311\\\\Lib\\\\site-packages\\\\debugpy\\\\adapter\\\\__init__.py'>, 'debugpy.common': <module 'debugpy.common' from 'C:\\\\Users\\\\Green\\\\AppData\\\\Local\\\\Programs\\\\Python\\\\Python311\\\\Lib\\\\site-packages\\\\debugpy\\\\common\\\\__init__.py'>, 'debugpy.common.json': <module 'debugpy.common.json' from 'C:\\\\Users\\\\Green\\\\AppData\\\\Local\\\\Programs\\\\Python\\\\Python311\\\\Lib\\\\site-packages\\\\debugpy\\\\common\\\\json.py'>, 'debugpy.common.timestamp': <module 'debugpy.common.timestamp' from 'C:\\\\Users\\\\Green\\\\AppData\\\\Local\\\\Programs\\\\Python\\\\Python311\\\\Lib\\\\site-packages\\\\debugpy\\\\common\\\\timestamp.py'>, 'debugpy.common.util': <module 'debugpy.common.util' from 'C:\\\\Users\\\\Green\\\\AppData\\\\Local\\\\Programs\\\\Python\\\\Python311\\\\Lib\\\\site-packages\\\\debugpy\\\\common\\\\util.py'>, 'debugpy.common.log': <module 'debugpy.common.log' from 'C:\\\\Users\\\\Green\\\\AppData\\\\Local\\\\Programs\\\\Python\\\\Python311\\\\Lib\\\\site-packages\\\\debugpy\\\\common\\\\log.py'>, 'debugpy.common.sockets': <module 'debugpy.common.sockets' from 'C:\\\\Users\\\\Green\\\\AppData\\\\Local\\\\Programs\\\\Python\\\\Python311\\\\Lib\\\\site-packages\\\\debugpy\\\\common\\\\sockets.py'>, 'debugpy.server.api': <module 'debugpy.server.api' from 'C:\\\\Users\\\\Green\\\\AppData\\\\Local\\\\Programs\\\\Python\\\\Python311\\\\Lib\\\\site-packages\\\\debugpy\\\\server\\\\api.py'>, 'ipykernel.debugger': <module 'ipykernel.debugger' from 'C:\\\\Users\\\\Green\\\\AppData\\\\Local\\\\Programs\\\\Python\\\\Python311\\\\Lib\\\\site-packages\\\\ipykernel\\\\debugger.py'>, 'IPython.core.completerlib': <module 'IPython.core.completerlib' from 'C:\\\\Users\\\\Green\\\\AppData\\\\Local\\\\Programs\\\\Python\\\\Python311\\\\Lib\\\\site-packages\\\\IPython\\\\core\\\\completerlib.py'>, 'pygments.styles.default': <module 'pygments.styles.default' from 'C:\\\\Users\\\\Green\\\\AppData\\\\Local\\\\Programs\\\\Python\\\\Python311\\\\Lib\\\\site-packages\\\\pygments\\\\styles\\\\default.py'>}\n"
     ]
    }
   ],
   "source": [
    "# print python modules\n",
    "\n",
    "print(sys.modules)"
   ]
  },
  {
   "cell_type": "code",
   "execution_count": null,
   "id": "5f7dee54",
   "metadata": {},
   "outputs": [],
   "source": [
    "# print current default string encoding\n",
    "\n",
    "print(sys.getdefaultencoding())"
   ]
  },
  {
   "cell_type": "code",
   "execution_count": null,
   "id": "d74bec47",
   "metadata": {},
   "outputs": [],
   "source": [
    "import os\n",
    "\n",
    "print(os.getcwd()) # get working directory\n",
    "\n",
    "print()\n",
    "\n",
    "print(os.cpu_count())"
   ]
  },
  {
   "cell_type": "markdown",
   "id": "084a257f",
   "metadata": {},
   "source": [
    "## <font color=red> Note </font>\n",
    "#### <font color=blue>utf-8: Unicode Transformation Format - 8-bit </font>\n",
    "- character encoding capable of encoding all possible characters in Unicode\n",
    "- The encoding is variable-length and uses 1 to 4 bytes for each character.\n",
    "- compatible with ASCII"
   ]
  },
  {
   "cell_type": "markdown",
   "id": "a4f4484c",
   "metadata": {},
   "source": [
    "## Object reference"
   ]
  },
  {
   "cell_type": "code",
   "execution_count": 63,
   "id": "6981c895",
   "metadata": {},
   "outputs": [
    {
     "name": "stdout",
     "output_type": "stream",
     "text": [
      "60 60\n",
      "140732677814920 140732677814920\n"
     ]
    }
   ],
   "source": [
    "a = 60\n",
    "b = a\n",
    "\n",
    "print(a,b)\n",
    "print(id(a), id(b))\n",
    "\n",
    "# b = 100\n",
    "# print(a,b)\n",
    "# print(id(a), id(b))\n"
   ]
  },
  {
   "cell_type": "code",
   "execution_count": 64,
   "id": "1b842b21",
   "metadata": {},
   "outputs": [
    {
     "name": "stdout",
     "output_type": "stream",
     "text": [
      "70\n",
      "60\n"
     ]
    }
   ],
   "source": [
    "a = a+10\n",
    "\n",
    "print(a)\n",
    "print(b)"
   ]
  },
  {
   "cell_type": "markdown",
   "id": "e492f73f",
   "metadata": {},
   "source": [
    "## <font color=red> Note </font>\n",
    "> The expression a + 10 creates a new integer object with the value 60.\n",
    "<br>The variable a is updated to reference this new integer object 60.\n",
    "<br>b still references the old integer object 50, which has not changed."
   ]
  },
  {
   "cell_type": "markdown",
   "id": "84706c8c",
   "metadata": {},
   "source": [
    "### Multiple assignment"
   ]
  },
  {
   "cell_type": "code",
   "execution_count": 62,
   "id": "7c5b3284",
   "metadata": {},
   "outputs": [
    {
     "name": "stdout",
     "output_type": "stream",
     "text": [
      "50\n",
      "50\n",
      "50\n",
      "5\n",
      "10\n",
      "15\n",
      "140732677813160 140732677813320 140732677813480\n",
      "140732677814600 140732677814600 140732677814600\n"
     ]
    }
   ],
   "source": [
    "x=y=z=50\n",
    "a,b,c=5,10,15 \n",
    "print(x)    \n",
    "print(y)    \n",
    "print(z)    \n",
    "print(a)    \n",
    "print(b)    \n",
    "print(c)\n",
    "\n",
    "print(id(a), id(b), id(c))\n",
    "print(id(x), id(y), id(z))"
   ]
  },
  {
   "cell_type": "markdown",
   "id": "62d2cf7a",
   "metadata": {},
   "source": [
    "### Data Types"
   ]
  },
  {
   "cell_type": "code",
   "execution_count": 65,
   "id": "3992d72c",
   "metadata": {},
   "outputs": [
    {
     "name": "stdout",
     "output_type": "stream",
     "text": [
      "<class 'int'>\n",
      "\n",
      "<class 'int'>\n",
      "\n",
      "<class 'float'>\n",
      "\n",
      "<class 'complex'>\n",
      "\n",
      "35000.0\n",
      "<class 'float'>\n"
     ]
    }
   ],
   "source": [
    "print(type(5))\n",
    "\n",
    "print()\n",
    "\n",
    "print(type(-5))\n",
    "\n",
    "print()\n",
    "\n",
    "\n",
    "print(type(4.5))\n",
    "\n",
    "print()\n",
    "\n",
    "print(type(5+2j))\n",
    "\n",
    "print()\n",
    "\n",
    "print(35e3)\n",
    "print(type(35e3))\n"
   ]
  },
  {
   "cell_type": "code",
   "execution_count": null,
   "id": "28814bfc-0528-45b4-86a4-5586bc59aafe",
   "metadata": {},
   "outputs": [],
   "source": []
  },
  {
   "cell_type": "code",
   "execution_count": null,
   "id": "fe0f0d18",
   "metadata": {},
   "outputs": [],
   "source": [
    "print(type('h')) # single quote\n",
    "\n",
    "print()\n",
    "\n",
    "print(type(\"h\")) # double quote\n",
    "\n",
    "print()\n",
    "\n",
    "print(type([5, 'h']))\n",
    "\n",
    "print()\n",
    "\n",
    "print(type((5, 6, 7)))\n",
    "\n",
    "print()\n",
    "\n",
    "print(type({1:5, 2:'h'}))\n",
    "\n",
    "print()\n",
    "\n",
    "print(type(True))\n",
    "\n",
    "print()\n",
    "\n",
    "print(type({'h', 5}))\n",
    "\n",
    "print()\n",
    "\n",
    "print(type(None))"
   ]
  },
  {
   "cell_type": "code",
   "execution_count": 67,
   "id": "fdd49c7b",
   "metadata": {},
   "outputs": [
    {
     "name": "stdout",
     "output_type": "stream",
     "text": [
      "5.0\n",
      "<class 'float'>\n",
      "\n",
      "2\n",
      "<class 'int'>\n",
      "\n",
      "(3+0j)\n",
      "<class 'complex'>\n"
     ]
    }
   ],
   "source": [
    "a = 5\n",
    "print(float(a))\n",
    "print(type(float(a)))\n",
    "\n",
    "print()\n",
    "\n",
    "a = 2.8\n",
    "print(int(a))\n",
    "print(type(int(a)))\n",
    "\n",
    "print()\n",
    "\n",
    "a = 3\n",
    "print(complex(a))\n",
    "print(type(complex(a)))"
   ]
  },
  {
   "cell_type": "markdown",
   "id": "b3483542",
   "metadata": {},
   "source": [
    "### check for types similarity"
   ]
  },
  {
   "cell_type": "code",
   "execution_count": 68,
   "id": "f3d3b7e6",
   "metadata": {},
   "outputs": [
    {
     "name": "stdout",
     "output_type": "stream",
     "text": [
      "True\n",
      "False\n"
     ]
    }
   ],
   "source": [
    "print(isinstance(5, int))\n",
    "print(isinstance(5.0, int))"
   ]
  },
  {
   "cell_type": "code",
   "execution_count": 69,
   "id": "2d2eea6b",
   "metadata": {
    "scrolled": true
   },
   "outputs": [
    {
     "name": "stdout",
     "output_type": "stream",
     "text": [
      "False\n",
      "True\n"
     ]
    }
   ],
   "source": [
    "print(isinstance(5, float))\n",
    "print(isinstance(5.0, float))"
   ]
  },
  {
   "cell_type": "code",
   "execution_count": 70,
   "id": "3fc6fb72",
   "metadata": {},
   "outputs": [
    {
     "name": "stdout",
     "output_type": "stream",
     "text": [
      "True\n",
      "True\n",
      "False\n"
     ]
    }
   ],
   "source": [
    "print(isinstance('5', str))\n",
    "print(isinstance(\"5.0\", str))\n",
    "print(isinstance(5, str))"
   ]
  },
  {
   "cell_type": "code",
   "execution_count": 71,
   "id": "ce49dc7d-b0f0-4dab-9503-46ee1b32aaff",
   "metadata": {},
   "outputs": [
    {
     "data": {
      "text/plain": [
       "'aa'"
      ]
     },
     "execution_count": 71,
     "metadata": {},
     "output_type": "execute_result"
    }
   ],
   "source": [
    "\"a\"*2"
   ]
  },
  {
   "cell_type": "code",
   "execution_count": 72,
   "id": "7e095fec-ff91-4688-beee-cec3699b0ef1",
   "metadata": {},
   "outputs": [
    {
     "data": {
      "text/plain": [
       "'aa'"
      ]
     },
     "execution_count": 72,
     "metadata": {},
     "output_type": "execute_result"
    }
   ],
   "source": [
    "x = \"a\"\n",
    "\n",
    "x*2"
   ]
  },
  {
   "cell_type": "code",
   "execution_count": 74,
   "id": "0cd406c2-80e3-45cb-92af-3c41f762eedf",
   "metadata": {},
   "outputs": [
    {
     "name": "stdout",
     "output_type": "stream",
     "text": [
      "False\n"
     ]
    }
   ],
   "source": [
    "print(\"aa\" == \"a\" * 2)"
   ]
  },
  {
   "cell_type": "code",
   "execution_count": 75,
   "id": "ee5f3c1c-a723-4133-b487-c12126398360",
   "metadata": {},
   "outputs": [
    {
     "name": "stdout",
     "output_type": "stream",
     "text": [
      "<class 'bool'>\n"
     ]
    }
   ],
   "source": [
    "z = \"aa\" == \"a\" * 2\n",
    "print(type(z))"
   ]
  },
  {
   "cell_type": "code",
   "execution_count": 78,
   "id": "d829cbd4-eba0-450d-b22e-fddac6d7b545",
   "metadata": {},
   "outputs": [
    {
     "name": "stdout",
     "output_type": "stream",
     "text": [
      "x = aa\n",
      "\n",
      "True\n",
      "True\n",
      "True\n"
     ]
    }
   ],
   "source": [
    "\n",
    "x = \"a\"*2 # 'aa'\n",
    "print(f'x = {x}')\n",
    "print()\n",
    "print(\"aa\" == x)\n",
    "\n",
    "x = \"a\"\n",
    "print('aa' == x*2) # aa = aa\n",
    "print(\"aa\" == x*2)"
   ]
  },
  {
   "cell_type": "code",
   "execution_count": null,
   "id": "81f41922-6fd7-416b-be55-0702e844c666",
   "metadata": {},
   "outputs": [],
   "source": []
  },
  {
   "cell_type": "markdown",
   "id": "eaa755bf",
   "metadata": {},
   "source": [
    "***"
   ]
  },
  {
   "cell_type": "markdown",
   "id": "33fc2d4c",
   "metadata": {},
   "source": [
    "# <font color=orange> Random Module </font>"
   ]
  },
  {
   "cell_type": "code",
   "execution_count": 79,
   "id": "002effc7",
   "metadata": {},
   "outputs": [],
   "source": [
    "import random"
   ]
  },
  {
   "cell_type": "code",
   "execution_count": 108,
   "id": "e15be472",
   "metadata": {},
   "outputs": [
    {
     "name": "stdout",
     "output_type": "stream",
     "text": [
      "0.7579544029403025\n"
     ]
    }
   ],
   "source": [
    "# Generate random float number\n",
    "\n",
    "print(random.random())\n",
    "# print(random.randint())"
   ]
  },
  {
   "cell_type": "code",
   "execution_count": 106,
   "id": "d9bb5e00",
   "metadata": {},
   "outputs": [
    {
     "name": "stdout",
     "output_type": "stream",
     "text": [
      "3\n"
     ]
    }
   ],
   "source": [
    "# Generate random number within a range\n",
    "\n",
    "print(random.randrange(3, 9))"
   ]
  },
  {
   "cell_type": "code",
   "execution_count": 133,
   "id": "552beb5d",
   "metadata": {
    "scrolled": true
   },
   "outputs": [
    {
     "name": "stdout",
     "output_type": "stream",
     "text": [
      "0.8444218515250481\n"
     ]
    }
   ],
   "source": [
    "# get the exact random number each time\n",
    "\n",
    "import random\n",
    "\n",
    "    random.seed(0)\n",
    "print(random.random())"
   ]
  },
  {
   "cell_type": "markdown",
   "id": "a54352b5",
   "metadata": {},
   "source": [
    "***"
   ]
  },
  {
   "cell_type": "markdown",
   "id": "87021dbd-1a4a-46c7-aa30-263b1dc6028f",
   "metadata": {},
   "source": [
    "# <font color=orange>  Take inputse </font>"
   ]
  },
  {
   "cell_type": "code",
   "execution_count": 134,
   "id": "ce777e77-c002-4533-8564-02c1ddc2b570",
   "metadata": {},
   "outputs": [
    {
     "name": "stdin",
     "output_type": "stream",
     "text": [
      "Enter Your name Yasmin\n"
     ]
    }
   ],
   "source": [
    "user = input(\"Enter Your name\")"
   ]
  },
  {
   "cell_type": "code",
   "execution_count": 135,
   "id": "f9e948a8-1656-4dcd-a0e0-8513d222d15a",
   "metadata": {},
   "outputs": [
    {
     "name": "stdout",
     "output_type": "stream",
     "text": [
      "Yasmin\n"
     ]
    }
   ],
   "source": [
    "print(user)"
   ]
  },
  {
   "cell_type": "code",
   "execution_count": 136,
   "id": "dc0ede1c-6e24-49f7-b8bd-225ce0992436",
   "metadata": {},
   "outputs": [
    {
     "name": "stdin",
     "output_type": "stream",
     "text": [
      " 7\n",
      " 8\n"
     ]
    },
    {
     "name": "stdout",
     "output_type": "stream",
     "text": [
      "<class 'int'>\n",
      "<class 'int'>\n",
      "7\n",
      "8\n",
      "15\n"
     ]
    }
   ],
   "source": [
    "a = int(input())\n",
    "b = int(input())\n",
    "print(type(a))\n",
    "print(type(b))\n",
    "\n",
    "print(a)\n",
    "print(b)\n",
    "print(a+b)"
   ]
  },
  {
   "cell_type": "code",
   "execution_count": null,
   "id": "ab40f9a6",
   "metadata": {},
   "outputs": [],
   "source": [
    "a = int(input())\n",
    "b = int(input())\n",
    "\n",
    "print(type(a))\n",
    "print(type(b))\n",
    "\n",
    "print(f'a is {a}')\n",
    "print(f'b is {b}')\n",
    "print(f'a+b is {a+b}')"
   ]
  },
  {
   "cell_type": "code",
   "execution_count": 138,
   "id": "88b88983-1992-413e-9671-2f3144379e6b",
   "metadata": {},
   "outputs": [
    {
     "name": "stdout",
     "output_type": "stream",
     "text": [
      "hello2\n"
     ]
    }
   ],
   "source": [
    "g1 = 1\n",
    "g2 = \"2\"\n",
    "\n",
    "a = \"hello\" + g2\n",
    "x = f'hello{g2}'\n",
    "\n",
    "print(x)"
   ]
  },
  {
   "cell_type": "code",
   "execution_count": null,
   "id": "306e90a3-8a65-4c0b-9850-778fee64a242",
   "metadata": {},
   "outputs": [],
   "source": []
  },
  {
   "cell_type": "code",
   "execution_count": null,
   "id": "e97ef2f4-3eff-4d9e-8c50-6011a76f65c4",
   "metadata": {},
   "outputs": [],
   "source": []
  },
  {
   "cell_type": "code",
   "execution_count": null,
   "id": "5d7a0ba7-47b3-4d3d-8894-67b648eb6cce",
   "metadata": {},
   "outputs": [],
   "source": []
  },
  {
   "cell_type": "code",
   "execution_count": null,
   "id": "acb6b30c-6896-4be3-9bb3-f300823aa479",
   "metadata": {},
   "outputs": [],
   "source": []
  },
  {
   "cell_type": "code",
   "execution_count": null,
   "id": "6ad93fd6-4013-4c8b-a70d-7bd6f5be712d",
   "metadata": {},
   "outputs": [],
   "source": []
  },
  {
   "cell_type": "markdown",
   "id": "80285a78",
   "metadata": {},
   "source": [
    "***"
   ]
  },
  {
   "cell_type": "markdown",
   "id": "6a1e6258",
   "metadata": {},
   "source": [
    "### Escape characters"
   ]
  },
  {
   "cell_type": "code",
   "execution_count": 142,
   "id": "8254e895",
   "metadata": {},
   "outputs": [
    {
     "name": "stdout",
     "output_type": "stream",
     "text": [
      "hello\n",
      " world\n",
      "hello worl\n",
      "hello\\world\n",
      "hello'world\n",
      "hello\tworld\n"
     ]
    }
   ],
   "source": [
    "a = 'hello\\n world'\n",
    "print(a)\n",
    "\n",
    "a = 'hello world\\b'\n",
    "print(a)\n",
    "\n",
    "a = 'hello\\\\world'\n",
    "print(a)\n",
    "\n",
    "a = 'hello\\'world'\n",
    "print(a)\n",
    "\n",
    "a = 'hello\\tworld'\n",
    "print(a)"
   ]
  },
  {
   "cell_type": "markdown",
   "id": "1aac40ce-fa2d-4ae4-bb28-d1b1123502e1",
   "metadata": {},
   "source": [
    "# <font color=orange>  Mathematical Operations  </font>"
   ]
  },
  {
   "cell_type": "code",
   "execution_count": 144,
   "id": "ccc8a8e1-43ef-4c9b-b19a-fb62df66a789",
   "metadata": {},
   "outputs": [
    {
     "name": "stdout",
     "output_type": "stream",
     "text": [
      "Addition: 15\n",
      "Subtraction: 5\n",
      "Multiplication: 50\n",
      "Division: 2.0\n",
      "Exponentiation: 8\n"
     ]
    }
   ],
   "source": [
    " # Addition\n",
    "print(\"Addition:\", 10 + 5)\n",
    "\n",
    "# Subtraction\n",
    "print(\"Subtraction:\", 10 - 5)\n",
    "\n",
    "# Multiplication\n",
    "print(\"Multiplication:\", 10 * 5)\n",
    "\n",
    "# Division\n",
    "print(\"Division:\", 10 / 5)  # Returns a float\n",
    "\n",
    "# Exponentiation (Power)\n",
    "print(\"Exponentiation:\", 2 ** 3)"
   ]
  },
  {
   "cell_type": "markdown",
   "id": "820bfdb8-405a-4c4c-bda8-310a3573143e",
   "metadata": {},
   "source": [
    "### What is the difference between / and // in Python? Try using // instead of /"
   ]
  },
  {
   "cell_type": "code",
   "execution_count": 148,
   "id": "266f7f3d-b66e-4d37-b11e-12425b8f3813",
   "metadata": {},
   "outputs": [
    {
     "name": "stdout",
     "output_type": "stream",
     "text": [
      "10 / 3: 3.3333333333333335\n",
      "10 // 3: 0\n"
     ]
    }
   ],
   "source": [
    "# Regular Division\n",
    "print(\"10 / 3:\", 10 / 3)\n",
    "\n",
    "# Floor Division (removes decimal part)\n",
    "print(\"10 // 3:\", 12 % 3)"
   ]
  },
  {
   "cell_type": "code",
   "execution_count": 150,
   "id": "83148861-a4ba-4980-9d1c-dfe30e8af6a2",
   "metadata": {},
   "outputs": [
    {
     "name": "stdin",
     "output_type": "stream",
     "text": [
      "Inert total working hrs  15\n",
      "Insert daily working hrs  2\n"
     ]
    },
    {
     "name": "stdout",
     "output_type": "stream",
     "text": [
      "Total Working Days = 7  & Remaining Working Hrs = 1\n"
     ]
    }
   ],
   "source": [
    "x = 10\n",
    "y = 20\n",
    "\n",
    "x / y    # ( + , - , * , / )\n",
    "\n",
    "########## Absolute Division ##########\n",
    "# User Input\n",
    "working_hrs = int(input('Inert total working hrs '))\n",
    "daily_working_hrs = int(input('Insert daily working hrs '))\n",
    "\n",
    "# Processing\n",
    "days = working_hrs // daily_working_hrs   # Absolute Division\n",
    "hrs = working_hrs % daily_working_hrs     # Remainder\n",
    "\n",
    "# Output\n",
    "print('Total Working Days =', days, ' & Remaining Working Hrs =', hrs)"
   ]
  },
  {
   "cell_type": "markdown",
   "id": "66893c6d-01fb-486d-938d-6e131b3de934",
   "metadata": {},
   "source": []
  },
  {
   "cell_type": "code",
   "execution_count": null,
   "id": "fc4e25b9-2424-4ce8-bfd9-4c8c2a762806",
   "metadata": {},
   "outputs": [],
   "source": []
  },
  {
   "cell_type": "code",
   "execution_count": null,
   "id": "ad4ee1e5-0e37-4bdb-b900-c5ead8a66f26",
   "metadata": {},
   "outputs": [],
   "source": []
  },
  {
   "cell_type": "markdown",
   "id": "71e22ddf-bd4f-4104-be6f-e61947783fc2",
   "metadata": {},
   "source": [
    "***"
   ]
  }
 ],
 "metadata": {
  "kernelspec": {
   "display_name": "Python 3 (ipykernel)",
   "language": "python",
   "name": "python3"
  },
  "language_info": {
   "codemirror_mode": {
    "name": "ipython",
    "version": 3
   },
   "file_extension": ".py",
   "mimetype": "text/x-python",
   "name": "python",
   "nbconvert_exporter": "python",
   "pygments_lexer": "ipython3",
   "version": "3.13.1"
  }
 },
 "nbformat": 4,
 "nbformat_minor": 5
}
