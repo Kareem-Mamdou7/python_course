{
 "cells": [
  {
   "cell_type": "markdown",
   "id": "b60c7890-a36d-454d-b9e9-60544983384c",
   "metadata": {},
   "source": [
    "#                                                   Data Structure"
   ]
  },
  {
   "cell_type": "markdown",
   "id": "96100c23-1976-4835-b82e-acc2daeb2596",
   "metadata": {},
   "source": [
    "### Lists"
   ]
  },
  {
   "cell_type": "code",
   "execution_count": 44,
   "id": "78a94e2f-1fc7-42f1-a7f7-bc229c3fcd60",
   "metadata": {},
   "outputs": [],
   "source": [
    "list_of_random_things = [1, 3.4, 'a string', True]"
   ]
  },
  {
   "cell_type": "code",
   "execution_count": 2,
   "id": "59d46f4a-e969-43d4-b1bf-fced065a73f2",
   "metadata": {},
   "outputs": [
    {
     "data": {
      "text/plain": [
       "[1, 3.4, 'a string', True]"
      ]
     },
     "execution_count": 2,
     "metadata": {},
     "output_type": "execute_result"
    }
   ],
   "source": [
    "list_of_random_things"
   ]
  },
  {
   "cell_type": "code",
   "execution_count": 47,
   "id": "babed781-2cfa-4d34-926d-44b8de5169be",
   "metadata": {},
   "outputs": [],
   "source": [
    "months = ['January', 'February', 'March', 'April', 'May', 'June', 'July', 'August', 'September', 'October', 'November', 'December']\n",
    "#              0          1          2        3       4       5       6       7          8            9          10          11\n",
    "#                                                                                                                              -1"
   ]
  },
  {
   "cell_type": "code",
   "execution_count": 48,
   "id": "b0ec5430-e361-47ec-a15c-ba111d6ffc52",
   "metadata": {},
   "outputs": [
    {
     "data": {
      "text/plain": [
       "['January',\n",
       " 'February',\n",
       " 'March',\n",
       " 'April',\n",
       " 'May',\n",
       " 'June',\n",
       " 'July',\n",
       " 'August',\n",
       " 'September',\n",
       " 'October',\n",
       " 'November',\n",
       " 'December']"
      ]
     },
     "execution_count": 48,
     "metadata": {},
     "output_type": "execute_result"
    }
   ],
   "source": [
    "months"
   ]
  },
  {
   "cell_type": "markdown",
   "id": "5741925d-3253-419f-a3f3-6e526a4eb540",
   "metadata": {},
   "source": [
    "#### Slice and Dice with Lists"
   ]
  },
  {
   "cell_type": "code",
   "execution_count": 4,
   "id": "6938e37a-83ff-44ad-bfa6-1cf049b59747",
   "metadata": {},
   "outputs": [
    {
     "name": "stdout",
     "output_type": "stream",
     "text": [
      "['July', 'August', 'September']\n"
     ]
    }
   ],
   "source": [
    "q3 = months[6:9]\n",
    "print(q3)"
   ]
  },
  {
   "cell_type": "code",
   "execution_count": 8,
   "id": "b4d52c6d-31aa-482e-8d32-ec74f4e60d72",
   "metadata": {},
   "outputs": [
    {
     "name": "stdout",
     "output_type": "stream",
     "text": [
      "['January']\n"
     ]
    }
   ],
   "source": [
    "first_half = months[:6]\n",
    "print(first_half) "
   ]
  },
  {
   "cell_type": "code",
   "execution_count": 5,
   "id": "3a90f600-e829-4e20-9882-c5463969cd2c",
   "metadata": {},
   "outputs": [
    {
     "name": "stdout",
     "output_type": "stream",
     "text": [
      "['July', 'August', 'September', 'October', 'November', 'December']\n"
     ]
    }
   ],
   "source": [
    "second_half = months[6:]\n",
    "print(second_half)"
   ]
  },
  {
   "cell_type": "code",
   "execution_count": 6,
   "id": "4b01df78-00e5-4e94-8bd2-021eb99cf555",
   "metadata": {},
   "outputs": [
    {
     "data": {
      "text/plain": [
       "[3.4]"
      ]
     },
     "execution_count": 6,
     "metadata": {},
     "output_type": "execute_result"
    }
   ],
   "source": [
    "#PRACTISING\n",
    "list_of_random_things = [1, 3.4, 'a string', True]\n",
    "list_of_random_things[1:2]"
   ]
  },
  {
   "cell_type": "code",
   "execution_count": 8,
   "id": "a5c3faad-9fc1-4725-971b-287b22843d95",
   "metadata": {},
   "outputs": [],
   "source": [
    "# for i in range(1,91):\n",
    "#    print(i)"
   ]
  },
  {
   "cell_type": "markdown",
   "id": "122a7d17-d8e4-4f60-a6b0-ac0f4de0323e",
   "metadata": {},
   "source": [
    "#### This type of indexing works exactly the same on strings, where the returned value will be a string."
   ]
  },
  {
   "cell_type": "code",
   "execution_count": 16,
   "id": "1ddc0760-bd9c-4ecc-84b8-be82c6a2307b",
   "metadata": {},
   "outputs": [
    {
     "name": "stdout",
     "output_type": "stream",
     "text": [
      "12\n"
     ]
    }
   ],
   "source": [
    "print(len(months)) "
   ]
  },
  {
   "cell_type": "code",
   "execution_count": 17,
   "id": "af3a43d6-9886-4323-bae8-fb4f3220fd54",
   "metadata": {
    "scrolled": true
   },
   "outputs": [
    {
     "name": "stdout",
     "output_type": "stream",
     "text": [
      "False\n",
      "True\n",
      "True\n",
      "False\n"
     ]
    }
   ],
   "source": [
    "# in & not in\n",
    "print(\"Sunday\" in months)\n",
    "print('this' in 'this is a string')\n",
    "\n",
    "print(\"Sunday\" not in months)\n",
    "print('this' not in 'this is a string')"
   ]
  },
  {
   "cell_type": "code",
   "execution_count": 11,
   "id": "0ba7db28-66ac-47bb-85b3-18ab91a53401",
   "metadata": {},
   "outputs": [
    {
     "ename": "NameError",
     "evalue": "name 'months' is not defined",
     "output_type": "error",
     "traceback": [
      "\u001b[0;31m---------------------------------------------------------------------------\u001b[0m",
      "\u001b[0;31mNameError\u001b[0m                                 Traceback (most recent call last)",
      "Cell \u001b[0;32mIn[11], line 2\u001b[0m\n\u001b[1;32m      1\u001b[0m \u001b[38;5;66;03m# Same Indexing \u001b[39;00m\n\u001b[0;32m----> 2\u001b[0m \u001b[38;5;28mprint\u001b[39m(\u001b[43mmonths\u001b[49m[\u001b[38;5;241m0\u001b[39m]) \n\u001b[1;32m      3\u001b[0m \u001b[38;5;28mprint\u001b[39m(months[\u001b[38;5;241m1\u001b[39m]) \n\u001b[1;32m      4\u001b[0m \u001b[38;5;28mprint\u001b[39m(months[\u001b[38;5;241m7\u001b[39m]) \n",
      "\u001b[0;31mNameError\u001b[0m: name 'months' is not defined"
     ]
    }
   ],
   "source": [
    "# Same Indexing\n",
    "months = ['January', 'February', 'March', 'April', 'May', 'June', 'July', 'August', 'September', 'October', 'November', 'December']\n",
    "print(months[0]) \n",
    "print(months[1]) \n",
    "print(months[7]) \n",
    "print(months[-1]) \n",
    "# print(months[25]) "
   ]
  },
  {
   "cell_type": "markdown",
   "id": "0a7e3b27-799a-4b0d-b6f3-3558e2ef9c70",
   "metadata": {},
   "source": [
    "### Mutability and Order\n",
    "Mutability is about whether or not we can change an object once it has been created. If an object (like a list or string) can be changed (like a list can), then it is called mutable. However, if an object cannot be changed with creating a completely new object (like strings), then the object is considered immutable."
   ]
  },
  {
   "cell_type": "code",
   "execution_count": 22,
   "id": "b892a710-097d-432b-ba51-5bcab83469be",
   "metadata": {},
   "outputs": [
    {
     "name": "stdout",
     "output_type": "stream",
     "text": [
      "['Ali', 2, 3, 4, 5]\n"
     ]
    }
   ],
   "source": [
    "#List\n",
    "my_lst = [\"YAsmin\", 2, 3, 4, 5]\n",
    "my_lst[0] = 'Ali'\n",
    "print(my_lst)"
   ]
  },
  {
   "cell_type": "code",
   "execution_count": 24,
   "id": "5a53b0ad-9289-4c46-80f1-f9561644b488",
   "metadata": {},
   "outputs": [
    {
     "ename": "TypeError",
     "evalue": "'str' object does not support item assignment",
     "output_type": "error",
     "traceback": [
      "\u001b[1;31m---------------------------------------------------------------------------\u001b[0m",
      "\u001b[1;31mTypeError\u001b[0m                                 Traceback (most recent call last)",
      "Cell \u001b[1;32mIn[24], line 3\u001b[0m\n\u001b[0;32m      1\u001b[0m \u001b[38;5;66;03m#String\u001b[39;00m\n\u001b[0;32m      2\u001b[0m greeting \u001b[38;5;241m=\u001b[39m \u001b[38;5;124m\"\u001b[39m\u001b[38;5;124mHello there\u001b[39m\u001b[38;5;124m\"\u001b[39m\n\u001b[1;32m----> 3\u001b[0m \u001b[43mgreeting\u001b[49m\u001b[43m[\u001b[49m\u001b[38;5;241;43m0\u001b[39;49m\u001b[43m]\u001b[49m \u001b[38;5;241m=\u001b[39m \u001b[38;5;124m\"\u001b[39m\u001b[38;5;124mm\u001b[39m\u001b[38;5;124m\"\u001b[39m\n",
      "\u001b[1;31mTypeError\u001b[0m: 'str' object does not support item assignment"
     ]
    }
   ],
   "source": [
    "#String\n",
    "greeting = \"Hello there\"\n",
    "greeting[0] = \"m\""
   ]
  },
  {
   "cell_type": "code",
   "execution_count": 32,
   "id": "21260519-58bb-4658-9ee2-6b5724097fef",
   "metadata": {},
   "outputs": [
    {
     "name": "stdout",
     "output_type": "stream",
     "text": [
      "Omer\n",
      "Ahmed\n"
     ]
    }
   ],
   "source": [
    "# NOTE : immutable object\n",
    "\n",
    "# String\n",
    "name = \"Ahmed\"\n",
    "student = name\n",
    "name = \"Omer\"\n",
    "\n",
    "print(name)\n",
    "print(student)"
   ]
  },
  {
   "cell_type": "code",
   "execution_count": 36,
   "id": "1ee35fe5-3aca-4890-9fec-47e3ba571519",
   "metadata": {},
   "outputs": [
    {
     "name": "stdout",
     "output_type": "stream",
     "text": [
      "Scores:  ['B', 'C', 'A', 'D', 'B', 'A']\n",
      "Grades:  ['B', 'C', 'A', 'D', 'B', 'A']\n",
      "\n",
      "Scores:  ['B', 'C', 'A', 'B', 'B', 'A']\n",
      "Grades:  ['B', 'C', 'A', 'B', 'B', 'A']\n"
     ]
    }
   ],
   "source": [
    "#list is mutible\n",
    "\n",
    "scores = [\"B\", \"C\" , \"A\" ,\"D\", \"B\" ,\"A\"]\n",
    "grades = scores\n",
    "\n",
    "print(\"Scores: \"  ,str(scores))\n",
    "print(\"Grades: \" , grades)\n",
    "\n",
    "print()\n",
    "\n",
    "scores[3]= \"B\"\n",
    "print(\"Scores: \" , scores)\n",
    "print(\"Grades: \" , grades)"
   ]
  },
  {
   "attachments": {},
   "cell_type": "markdown",
   "id": "84618dc9-3ffc-464a-806d-a7e5bc553fce",
   "metadata": {},
   "source": [
    "### Useful Functions for Lists"
   ]
  },
  {
   "cell_type": "code",
   "execution_count": 37,
   "id": "ecae8e21-b0ed-4b08-a5ae-d997cfa2f97e",
   "metadata": {},
   "outputs": [
    {
     "data": {
      "text/plain": [
       "12"
      ]
     },
     "execution_count": 37,
     "metadata": {},
     "output_type": "execute_result"
    }
   ],
   "source": [
    "len(months)"
   ]
  },
  {
   "cell_type": "code",
   "execution_count": 38,
   "id": "3e652c0a-8754-4393-9424-0ab1d8d74cd3",
   "metadata": {},
   "outputs": [
    {
     "data": {
      "text/plain": [
       "40"
      ]
     },
     "execution_count": 38,
     "metadata": {},
     "output_type": "execute_result"
    }
   ],
   "source": [
    "num = [15, 30, 12, 2 ,10 ,40 ,35]\n",
    "max(num)"
   ]
  },
  {
   "cell_type": "code",
   "execution_count": 39,
   "id": "266c8b1b-b89c-4525-8000-6a43f92b2a9c",
   "metadata": {},
   "outputs": [
    {
     "data": {
      "text/plain": [
       "'September'"
      ]
     },
     "execution_count": 39,
     "metadata": {},
     "output_type": "execute_result"
    }
   ],
   "source": [
    "max(months)"
   ]
  },
  {
   "cell_type": "code",
   "execution_count": 45,
   "id": "4965d61e-da74-4802-a186-8fce2d435e01",
   "metadata": {},
   "outputs": [
    {
     "data": {
      "text/plain": [
       "4"
      ]
     },
     "execution_count": 45,
     "metadata": {},
     "output_type": "execute_result"
    }
   ],
   "source": [
    "max(list_of_random_things)"
   ]
  },
  {
   "cell_type": "code",
   "execution_count": null,
   "id": "748711ca-8b6b-411e-a06d-73a1946031e6",
   "metadata": {},
   "outputs": [],
   "source": [
    "min(num)"
   ]
  },
  {
   "cell_type": "code",
   "execution_count": 40,
   "id": "dce4ab69-8a73-40c0-83ad-4b9ed670fb07",
   "metadata": {},
   "outputs": [
    {
     "data": {
      "text/plain": [
       "'April'"
      ]
     },
     "execution_count": 40,
     "metadata": {},
     "output_type": "execute_result"
    }
   ],
   "source": [
    "min(months)"
   ]
  },
  {
   "cell_type": "code",
   "execution_count": null,
   "id": "bc757db5-734c-4bd0-ab02-2a4312c1c34a",
   "metadata": {},
   "outputs": [],
   "source": [
    "min(list_of_random_things)"
   ]
  },
  {
   "cell_type": "code",
   "execution_count": 46,
   "id": "c935a083-ac1c-40f4-b222-f0eaea1a6eee",
   "metadata": {},
   "outputs": [
    {
     "name": "stdout",
     "output_type": "stream",
     "text": [
      "[2, 10, 12, 15, 30, 35, 40]\n",
      "[40, 35, 30, 15, 12, 10, 2]\n"
     ]
    }
   ],
   "source": [
    "print(sorted(num))    #ascending\n",
    "print(sorted(num, reverse=True))   #descending"
   ]
  },
  {
   "cell_type": "code",
   "execution_count": 51,
   "id": "438f764e-a08f-4ad9-b1e4-45b660474c7f",
   "metadata": {},
   "outputs": [
    {
     "name": "stdout",
     "output_type": "stream",
     "text": [
      "January/February/March/April/May/June/July/August/September/October/November/December\n"
     ]
    }
   ],
   "source": [
    "s_months = \"/\".join(['January', 'February', 'March', 'April', 'May', 'June', 'July', 'August', 'September', 'October', 'November', 'December'])\n",
    "print(s_months)"
   ]
  },
  {
   "cell_type": "markdown",
   "id": "83101f90-f6d2-4a47-9c16-afd59c453a4d",
   "metadata": {},
   "source": [
    "#### In this example we use the string \"\\n\" as the separator so that there is a newline between each element. We can also use other strings as separators with .join. Here we use a hyphen.\n",
    "\n",
    "It is important to remember to separate each of the items in the list you are joining with a comma (,). Forgetting to do so will not trigger an error, but will also give you unexpected results."
   ]
  },
  {
   "cell_type": "code",
   "execution_count": 64,
   "id": "acbcae2c-9f72-4ef2-9468-addc1a46a0f6",
   "metadata": {},
   "outputs": [
    {
     "name": "stdout",
     "output_type": "stream",
     "text": [
      "['a', 'b', 'c', 'd', 'z']\n"
     ]
    }
   ],
   "source": [
    "#add element to list\n",
    "letters = ['a', 'b', 'c', 'd']\n",
    "letters.append('z')\n",
    "print(letters)\n",
    "\n"
   ]
  },
  {
   "cell_type": "markdown",
   "id": "1bc33f18-62ca-471c-b4b4-08f74a25b084",
   "metadata": {},
   "source": [
    "***"
   ]
  },
  {
   "cell_type": "markdown",
   "id": "1f1598b0-4926-4450-a23f-cc542b6638b3",
   "metadata": {},
   "source": [
    "## Tuples"
   ]
  },
  {
   "cell_type": "code",
   "execution_count": 55,
   "id": "4c6a4e59-94e8-4f44-8b11-88ec71cfa210",
   "metadata": {},
   "outputs": [
    {
     "name": "stdout",
     "output_type": "stream",
     "text": [
      "Latitude: 13.4125\n",
      "Longitude: 103.866667\n"
     ]
    }
   ],
   "source": [
    "location = (13.4125, 103.866667)\n",
    "print(\"Latitude:\", location[0])\n",
    "print(\"Longitude:\", location[1])\n"
   ]
  },
  {
   "cell_type": "code",
   "execution_count": 58,
   "id": "78c9101b-46cc-443a-9b72-cf8aef393752",
   "metadata": {},
   "outputs": [
    {
     "name": "stdout",
     "output_type": "stream",
     "text": [
      "The dimensions are 52 x 40 x 100\n"
     ]
    }
   ],
   "source": [
    "#Tuples can also be used to assign multiple variables in a compact way.\n",
    "dimensions = 52, 40, 100\n",
    "length, width, height = dimensions\n",
    "print(\"The dimensions are {} x {} x {}\".format(length, width, height))\n"
   ]
  },
  {
   "cell_type": "markdown",
   "id": "b461262e-75db-4f2f-8e57-38ab568d8759",
   "metadata": {},
   "source": [
    "#### The parentheses are optional when defining tuples, and programmers frequently omit them if parentheses don't clarify the code.\n",
    "\n",
    "In the second line, three variables are assigned from the content of the tuple dimensions. This is called tuple unpacking. You can use tuple unpacking to assign the information from a tuple into multiple variables without having to access them one by one and make multiple assignment statements."
   ]
  },
  {
   "cell_type": "markdown",
   "id": "288a90a2-cdf8-4eaa-b64a-90150d384a2f",
   "metadata": {},
   "source": [
    "***"
   ]
  },
  {
   "cell_type": "markdown",
   "id": "9ac8dad9-46ec-4a3a-8420-3a5886d77e03",
   "metadata": {},
   "source": [
    "## Sets"
   ]
  },
  {
   "cell_type": "code",
   "execution_count": 67,
   "id": "5a56dcd2-6ca5-4395-bc63-4cbc9c7e62fb",
   "metadata": {},
   "outputs": [
    {
     "name": "stdout",
     "output_type": "stream",
     "text": [
      "[1, 2, 6, 3, 1, 1, 6]\n",
      "{1, 2, 3, 6}\n"
     ]
    }
   ],
   "source": [
    "numbers = [1, 2, 6, 3, 1, 1, 6]\n",
    "print(numbers)\n",
    "unique_nums = set(numbers)\n",
    "print(unique_nums)"
   ]
  },
  {
   "cell_type": "code",
   "execution_count": 78,
   "id": "9f487d74-f81d-4473-8fc4-7b23324a03ca",
   "metadata": {},
   "outputs": [],
   "source": [
    "fruit = {\"apple\", \"banana\", \"orange\", \"grapefruit\"}  # define a set\n"
   ]
  },
  {
   "cell_type": "code",
   "execution_count": 75,
   "id": "d091e7a2-e4c5-4e95-bf26-b0662a8f49fb",
   "metadata": {},
   "outputs": [
    {
     "name": "stdout",
     "output_type": "stream",
     "text": [
      "False\n"
     ]
    }
   ],
   "source": [
    "print(\"watermelon\" in fruit)  # check for element"
   ]
  },
  {
   "cell_type": "code",
   "execution_count": 76,
   "id": "a9f245da-85cf-4d90-8382-a07c15a3caa0",
   "metadata": {},
   "outputs": [
    {
     "name": "stdout",
     "output_type": "stream",
     "text": [
      "{'watermelon', 'grapefruit', 'banana', 'orange', 'apple'}\n"
     ]
    }
   ],
   "source": [
    "fruit.add(\"watermelon\")  # add an element\n",
    "print(fruit)"
   ]
  },
  {
   "cell_type": "code",
   "execution_count": 79,
   "id": "6d43e123-2d74-4cce-8308-3ad38a19cb53",
   "metadata": {},
   "outputs": [
    {
     "name": "stdout",
     "output_type": "stream",
     "text": [
      "orange\n",
      "{'banana', 'apple', 'grapefruit'}\n"
     ]
    }
   ],
   "source": [
    "print(fruit.pop())  # remove a random element\n",
    "print(fruit)"
   ]
  },
  {
   "cell_type": "markdown",
   "id": "0ac96acf-ab12-40e2-8ebd-0635e0f7eba4",
   "metadata": {},
   "source": [
    "***"
   ]
  },
  {
   "cell_type": "markdown",
   "id": "afd582a8-c3d5-41a2-93db-2ba935fa4385",
   "metadata": {},
   "source": [
    "### Dictionary"
   ]
  },
  {
   "cell_type": "code",
   "execution_count": 80,
   "id": "cfadfe3f-1e6b-431c-9ddf-01da84d14362",
   "metadata": {},
   "outputs": [],
   "source": [
    "elements = {\"hydrogen\": 1, \"helium\": 2, \"carbon\": 6}"
   ]
  },
  {
   "cell_type": "code",
   "execution_count": 81,
   "id": "49a3324d-2cd4-41e7-b134-419fb4030e7f",
   "metadata": {},
   "outputs": [],
   "source": [
    "# Creating a dictionary to store student details\n",
    "student = {\n",
    "    \"name\": \"Alice\",\n",
    "    \"age\": 22,\n",
    "    \"grade\": \"A\",\n",
    "    \"courses\": [\"Math\", \"Science\", \"English\"]\n",
    "}"
   ]
  },
  {
   "cell_type": "code",
   "execution_count": 82,
   "id": "d1b14d03-cf0f-4d0c-9453-f93022e11822",
   "metadata": {},
   "outputs": [
    {
     "name": "stdout",
     "output_type": "stream",
     "text": [
      "Student Name: Alice\n",
      "Student Age: 22\n",
      "Enrolled Courses: ['Math', 'Science', 'English']\n"
     ]
    }
   ],
   "source": [
    "# Accessing values\n",
    "print(\"Student Name:\", student[\"name\"]) \n",
    "print(\"Student Age:\", student[\"age\"])    \n",
    "print(\"Enrolled Courses:\", student[\"courses\"])  \n"
   ]
  },
  {
   "cell_type": "code",
   "execution_count": 83,
   "id": "4cdb1d29-c933-43f0-aff3-528cfed54521",
   "metadata": {},
   "outputs": [
    {
     "name": "stdout",
     "output_type": "stream",
     "text": [
      "Updated Student Info: {'name': 'Alice', 'age': 22, 'grade': 'A', 'courses': ['Math', 'Science', 'English'], 'city': 'New York'}\n"
     ]
    }
   ],
   "source": [
    "# Adding a new key-value pair\n",
    "student[\"city\"] = \"New York\"\n",
    "print(\"Updated Student Info:\", student)"
   ]
  },
  {
   "cell_type": "code",
   "execution_count": 84,
   "id": "410a5fc2-d031-4a97-a5ff-430b1117a2b0",
   "metadata": {},
   "outputs": [
    {
     "name": "stdout",
     "output_type": "stream",
     "text": [
      "Updated Grade: A+\n"
     ]
    }
   ],
   "source": [
    "# Modifying an existing value\n",
    "student[\"grade\"] = \"A+\"\n",
    "print(\"Updated Grade:\", student[\"grade\"])"
   ]
  },
  {
   "cell_type": "code",
   "execution_count": 85,
   "id": "e9e41119-17ff-46ea-bd8e-15e0d1fd94ea",
   "metadata": {},
   "outputs": [
    {
     "name": "stdout",
     "output_type": "stream",
     "text": [
      "After Removing Age: {'name': 'Alice', 'grade': 'A+', 'courses': ['Math', 'Science', 'English'], 'city': 'New York'}\n"
     ]
    }
   ],
   "source": [
    "# Removing a key-value pair\n",
    "del student[\"age\"]\n",
    "print(\"After Removing Age:\", student)"
   ]
  },
  {
   "cell_type": "code",
   "execution_count": 91,
   "id": "07694071-e283-4515-91bb-4e0917e4407d",
   "metadata": {},
   "outputs": [
    {
     "name": "stdout",
     "output_type": "stream",
     "text": [
      "True\n",
      "None\n"
     ]
    }
   ],
   "source": [
    "#Using in\n",
    "print(\"carbon\" in elements)\n",
    "print(elements.get(\"dilithium\"))"
   ]
  },
  {
   "cell_type": "code",
   "execution_count": 87,
   "id": "d7d91132-9e23-450e-9ab7-9de567625813",
   "metadata": {},
   "outputs": [
    {
     "name": "stdout",
     "output_type": "stream",
     "text": [
      "True\n",
      "False\n"
     ]
    }
   ],
   "source": [
    "n = elements.get(\"dilithium\")\n",
    "print(n is None)\n",
    "print(n is not None)"
   ]
  },
  {
   "cell_type": "code",
   "execution_count": 92,
   "id": "50f83d9c-bf15-4d79-ba8f-056a4ba5aaf3",
   "metadata": {},
   "outputs": [],
   "source": [
    "#get with a Default Value\n",
    "elements.get('dilithium')"
   ]
  },
  {
   "cell_type": "code",
   "execution_count": 93,
   "id": "afb4bb9b-8440-481b-83dd-323d317e4d3b",
   "metadata": {},
   "outputs": [
    {
     "ename": "KeyError",
     "evalue": "'dilithium'",
     "output_type": "error",
     "traceback": [
      "\u001b[1;31m---------------------------------------------------------------------------\u001b[0m",
      "\u001b[1;31mKeyError\u001b[0m                                  Traceback (most recent call last)",
      "Cell \u001b[1;32mIn[93], line 1\u001b[0m\n\u001b[1;32m----> 1\u001b[0m \u001b[43melements\u001b[49m\u001b[43m[\u001b[49m\u001b[38;5;124;43m'\u001b[39;49m\u001b[38;5;124;43mdilithium\u001b[39;49m\u001b[38;5;124;43m'\u001b[39;49m\u001b[43m]\u001b[49m\n",
      "\u001b[1;31mKeyError\u001b[0m: 'dilithium'"
     ]
    }
   ],
   "source": [
    "elements['dilithium']"
   ]
  },
  {
   "cell_type": "code",
   "execution_count": 94,
   "id": "d49fa05d-1e89-4fb9-8f5c-19270df4dd46",
   "metadata": {},
   "outputs": [
    {
     "data": {
      "text/plain": [
       "\"There's no such element!\""
      ]
     },
     "execution_count": 94,
     "metadata": {},
     "output_type": "execute_result"
    }
   ],
   "source": [
    " elements.get('kryptonite', 'There\\'s no such element!')"
   ]
  },
  {
   "cell_type": "markdown",
   "id": "6bb96cd1-b297-4a99-b8e2-a7077b0b1351",
   "metadata": {},
   "source": [
    "##### In the last example we specified a default value (the string 'There's no such element!') to be returned instead of None when the key is not found."
   ]
  },
  {
   "cell_type": "markdown",
   "id": "2558f0ee-01c0-484c-a4cd-82db73dcab47",
   "metadata": {},
   "source": [
    "***"
   ]
  },
  {
   "cell_type": "markdown",
   "id": "496ae729-fb3f-4d1e-8692-a0ce5b9abb19",
   "metadata": {},
   "source": [
    "### Compound Data Structures"
   ]
  },
  {
   "cell_type": "code",
   "execution_count": 95,
   "id": "3b2467fd-d718-431c-a254-e152b7e24257",
   "metadata": {},
   "outputs": [],
   "source": [
    "elements = {\n",
    "    \"hydrogen\": {\"number\": 1,\n",
    "                         \"weight\": 1.00794,\n",
    "                         \"symbol\": \"H\"\n",
    "                        },\n",
    "              \"helium\": {\"number\": 2,\n",
    "                         \"weight\": 4.002602,\n",
    "                         \"symbol\": \"He\"}\n",
    "           }"
   ]
  },
  {
   "cell_type": "code",
   "execution_count": 97,
   "id": "a473d4ab-33dd-48ac-a579-0fa7305327d5",
   "metadata": {},
   "outputs": [
    {
     "name": "stdout",
     "output_type": "stream",
     "text": [
      "{'number': 2, 'weight': 4.002602, 'symbol': 'He'}\n",
      "1.00794\n"
     ]
    }
   ],
   "source": [
    "#We can access elements in this nested dictionary like this.\n",
    "helium = elements[\"helium\"]  # get the helium dictionary\n",
    "hydrogen_weight = elements[\"hydrogen\"][\"weight\"]  # get hydrogen's weight\n",
    "\n",
    "print(helium)\n",
    "print(hydrogen_weight)"
   ]
  },
  {
   "cell_type": "code",
   "execution_count": 98,
   "id": "d1adcb1e-da10-4174-98f1-d28e6ec73a67",
   "metadata": {},
   "outputs": [
    {
     "name": "stdout",
     "output_type": "stream",
     "text": [
      "elements =  {'hydrogen': {'number': 1, 'weight': 1.00794, 'symbol': 'H'}, 'helium': {'number': 2, 'weight': 4.002602, 'symbol': 'He'}, 'oxygen': {'number': 8, 'weight': 15.999, 'symbol': 'O'}}\n"
     ]
    }
   ],
   "source": [
    "# You can also add a new key to the element dictionary.\n",
    "oxygen = {\"number\":8,\"weight\":15.999,\"symbol\":\"O\"}  # create a new oxygen dictionary \n",
    "elements[\"oxygen\"] = oxygen  # assign 'oxygen' as a key to the elements dictionary\n",
    "print('elements = ', elements)"
   ]
  },
  {
   "cell_type": "code",
   "execution_count": null,
   "id": "627a0695-4801-4580-b07f-9edd476e799b",
   "metadata": {},
   "outputs": [],
   "source": []
  },
  {
   "cell_type": "code",
   "execution_count": null,
   "id": "cb0f2b84-cec1-41f7-98df-fb11b51d2f34",
   "metadata": {},
   "outputs": [],
   "source": []
  }
 ],
 "metadata": {
  "kernelspec": {
   "display_name": "Python 3 (ipykernel)",
   "language": "python",
   "name": "python3"
  },
  "language_info": {
   "codemirror_mode": {
    "name": "ipython",
    "version": 3
   },
   "file_extension": ".py",
   "mimetype": "text/x-python",
   "name": "python",
   "nbconvert_exporter": "python",
   "pygments_lexer": "ipython3",
   "version": "3.13.2"
  }
 },
 "nbformat": 4,
 "nbformat_minor": 5
}
