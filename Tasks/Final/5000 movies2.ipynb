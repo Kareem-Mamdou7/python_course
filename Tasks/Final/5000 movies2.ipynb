{
 "cells": [
  {
   "cell_type": "markdown",
   "id": "93888fd4",
   "metadata": {},
   "source": [
    "## Final Project\n",
    "### In order to solve this set of questions you will use the dataset in the relative directory ./tmdb_5000_movies.csv\n"
   ]
  },
  {
   "cell_type": "code",
   "execution_count": 1,
   "id": "8127e1af",
   "metadata": {},
   "outputs": [],
   "source": [
    "import numpy as np\n",
    "import pandas as pd\n",
    "import matplotlib.pyplot as plt\n",
    "import seaborn as sns"
   ]
  },
  {
   "cell_type": "markdown",
   "id": "10389df5",
   "metadata": {},
   "source": [
    "### Open Your CSV file and print the first 10 rows in a good format ###"
   ]
  },
  {
   "cell_type": "code",
   "execution_count": 2,
   "id": "d5b09cac",
   "metadata": {},
   "outputs": [
    {
     "name": "stdout",
     "output_type": "stream",
     "text": [
      "      budget                                             genres  \\\n",
      "0  237000000  [{\"id\": 28, \"name\": \"Action\"}, {\"id\": 12, \"nam...   \n",
      "1  300000000  [{\"id\": 12, \"name\": \"Adventure\"}, {\"id\": 14, \"...   \n",
      "2  245000000  [{\"id\": 28, \"name\": \"Action\"}, {\"id\": 12, \"nam...   \n",
      "3  250000000  [{\"id\": 28, \"name\": \"Action\"}, {\"id\": 80, \"nam...   \n",
      "4  260000000  [{\"id\": 28, \"name\": \"Action\"}, {\"id\": 12, \"nam...   \n",
      "5  258000000  [{\"id\": 14, \"name\": \"Fantasy\"}, {\"id\": 28, \"na...   \n",
      "6  260000000  [{\"id\": 16, \"name\": \"Animation\"}, {\"id\": 10751...   \n",
      "7  280000000  [{\"id\": 28, \"name\": \"Action\"}, {\"id\": 12, \"nam...   \n",
      "8  250000000  [{\"id\": 12, \"name\": \"Adventure\"}, {\"id\": 14, \"...   \n",
      "9  250000000  [{\"id\": 28, \"name\": \"Action\"}, {\"id\": 12, \"nam...   \n",
      "\n",
      "                                            homepage      id  \\\n",
      "0                        http://www.avatarmovie.com/   19995   \n",
      "1       http://disney.go.com/disneypictures/pirates/     285   \n",
      "2        http://www.sonypictures.com/movies/spectre/  206647   \n",
      "3                 http://www.thedarkknightrises.com/   49026   \n",
      "4               http://movies.disney.com/john-carter   49529   \n",
      "5    http://www.sonypictures.com/movies/spider-man3/     559   \n",
      "6       http://disney.go.com/disneypictures/tangled/   38757   \n",
      "7  http://marvel.com/movies/movie/193/avengers_ag...   99861   \n",
      "8  http://harrypotter.warnerbros.com/harrypottera...     767   \n",
      "9       http://www.batmanvsupermandawnofjustice.com/  209112   \n",
      "\n",
      "                                            keywords original_language  \\\n",
      "0  [{\"id\": 1463, \"name\": \"culture clash\"}, {\"id\":...                en   \n",
      "1  [{\"id\": 270, \"name\": \"ocean\"}, {\"id\": 726, \"na...                en   \n",
      "2  [{\"id\": 470, \"name\": \"spy\"}, {\"id\": 818, \"name...                en   \n",
      "3  [{\"id\": 849, \"name\": \"dc comics\"}, {\"id\": 853,...                en   \n",
      "4  [{\"id\": 818, \"name\": \"based on novel\"}, {\"id\":...                en   \n",
      "5  [{\"id\": 851, \"name\": \"dual identity\"}, {\"id\": ...                en   \n",
      "6  [{\"id\": 1562, \"name\": \"hostage\"}, {\"id\": 2343,...                en   \n",
      "7  [{\"id\": 8828, \"name\": \"marvel comic\"}, {\"id\": ...                en   \n",
      "8  [{\"id\": 616, \"name\": \"witch\"}, {\"id\": 2343, \"n...                en   \n",
      "9  [{\"id\": 849, \"name\": \"dc comics\"}, {\"id\": 7002...                en   \n",
      "\n",
      "                             original_title  \\\n",
      "0                                    Avatar   \n",
      "1  Pirates of the Caribbean: At World's End   \n",
      "2                                   Spectre   \n",
      "3                     The Dark Knight Rises   \n",
      "4                               John Carter   \n",
      "5                              Spider-Man 3   \n",
      "6                                   Tangled   \n",
      "7                   Avengers: Age of Ultron   \n",
      "8    Harry Potter and the Half-Blood Prince   \n",
      "9        Batman v Superman: Dawn of Justice   \n",
      "\n",
      "                                            overview  popularity  \\\n",
      "0  In the 22nd century, a paraplegic Marine is di...  150.437577   \n",
      "1  Captain Barbossa, long believed to be dead, ha...  139.082615   \n",
      "2  A cryptic message from Bond’s past sends him o...  107.376788   \n",
      "3  Following the death of District Attorney Harve...  112.312950   \n",
      "4  John Carter is a war-weary, former military ca...   43.926995   \n",
      "5  The seemingly invincible Spider-Man goes up ag...  115.699814   \n",
      "6  When the kingdom's most wanted-and most charmi...   48.681969   \n",
      "7  When Tony Stark tries to jumpstart a dormant p...  134.279229   \n",
      "8  As Harry begins his sixth year at Hogwarts, he...   98.885637   \n",
      "9  Fearing the actions of a god-like Super Hero l...  155.790452   \n",
      "\n",
      "                                production_companies  \\\n",
      "0  [{\"name\": \"Ingenious Film Partners\", \"id\": 289...   \n",
      "1  [{\"name\": \"Walt Disney Pictures\", \"id\": 2}, {\"...   \n",
      "2  [{\"name\": \"Columbia Pictures\", \"id\": 5}, {\"nam...   \n",
      "3  [{\"name\": \"Legendary Pictures\", \"id\": 923}, {\"...   \n",
      "4        [{\"name\": \"Walt Disney Pictures\", \"id\": 2}]   \n",
      "5  [{\"name\": \"Columbia Pictures\", \"id\": 5}, {\"nam...   \n",
      "6  [{\"name\": \"Walt Disney Pictures\", \"id\": 2}, {\"...   \n",
      "7  [{\"name\": \"Marvel Studios\", \"id\": 420}, {\"name...   \n",
      "8  [{\"name\": \"Warner Bros.\", \"id\": 6194}, {\"name\"...   \n",
      "9  [{\"name\": \"DC Comics\", \"id\": 429}, {\"name\": \"A...   \n",
      "\n",
      "                                production_countries release_date     revenue  \\\n",
      "0  [{\"iso_3166_1\": \"US\", \"name\": \"United States o...   2009-12-10  2787965087   \n",
      "1  [{\"iso_3166_1\": \"US\", \"name\": \"United States o...   2007-05-19   961000000   \n",
      "2  [{\"iso_3166_1\": \"GB\", \"name\": \"United Kingdom\"...   2015-10-26   880674609   \n",
      "3  [{\"iso_3166_1\": \"US\", \"name\": \"United States o...   2012-07-16  1084939099   \n",
      "4  [{\"iso_3166_1\": \"US\", \"name\": \"United States o...   2012-03-07   284139100   \n",
      "5  [{\"iso_3166_1\": \"US\", \"name\": \"United States o...   2007-05-01   890871626   \n",
      "6  [{\"iso_3166_1\": \"US\", \"name\": \"United States o...   2010-11-24   591794936   \n",
      "7  [{\"iso_3166_1\": \"US\", \"name\": \"United States o...   2015-04-22  1405403694   \n",
      "8  [{\"iso_3166_1\": \"GB\", \"name\": \"United Kingdom\"...   2009-07-07   933959197   \n",
      "9  [{\"iso_3166_1\": \"US\", \"name\": \"United States o...   2016-03-23   873260194   \n",
      "\n",
      "   runtime                                   spoken_languages    status  \\\n",
      "0    162.0  [{\"iso_639_1\": \"en\", \"name\": \"English\"}, {\"iso...  Released   \n",
      "1    169.0           [{\"iso_639_1\": \"en\", \"name\": \"English\"}]  Released   \n",
      "2    148.0  [{\"iso_639_1\": \"fr\", \"name\": \"Fran\\u00e7ais\"},...  Released   \n",
      "3    165.0           [{\"iso_639_1\": \"en\", \"name\": \"English\"}]  Released   \n",
      "4    132.0           [{\"iso_639_1\": \"en\", \"name\": \"English\"}]  Released   \n",
      "5    139.0  [{\"iso_639_1\": \"en\", \"name\": \"English\"}, {\"iso...  Released   \n",
      "6    100.0           [{\"iso_639_1\": \"en\", \"name\": \"English\"}]  Released   \n",
      "7    141.0           [{\"iso_639_1\": \"en\", \"name\": \"English\"}]  Released   \n",
      "8    153.0           [{\"iso_639_1\": \"en\", \"name\": \"English\"}]  Released   \n",
      "9    151.0           [{\"iso_639_1\": \"en\", \"name\": \"English\"}]  Released   \n",
      "\n",
      "                                          tagline  \\\n",
      "0                     Enter the World of Pandora.   \n",
      "1  At the end of the world, the adventure begins.   \n",
      "2                           A Plan No One Escapes   \n",
      "3                                 The Legend Ends   \n",
      "4            Lost in our world, found in another.   \n",
      "5                              The battle within.   \n",
      "6        They're taking adventure to new lengths.   \n",
      "7                             A New Age Has Come.   \n",
      "8                           Dark Secrets Revealed   \n",
      "9                              Justice or revenge   \n",
      "\n",
      "                                      title  vote_average  vote_count  \n",
      "0                                    Avatar           7.2       11800  \n",
      "1  Pirates of the Caribbean: At World's End           6.9        4500  \n",
      "2                                   Spectre           6.3        4466  \n",
      "3                     The Dark Knight Rises           7.6        9106  \n",
      "4                               John Carter           6.1        2124  \n",
      "5                              Spider-Man 3           5.9        3576  \n",
      "6                                   Tangled           7.4        3330  \n",
      "7                   Avengers: Age of Ultron           7.3        6767  \n",
      "8    Harry Potter and the Half-Blood Prince           7.4        5293  \n",
      "9        Batman v Superman: Dawn of Justice           5.7        7004  \n"
     ]
    }
   ],
   "source": [
    "data = pd.read_csv(\"tmdb_5000_movies.csv\")\n",
    "print(data.head(10))"
   ]
  },
  {
   "cell_type": "markdown",
   "id": "1f10c844",
   "metadata": {
    "jp-MarkdownHeadingCollapsed": true
   },
   "source": [
    "##### Exploring data"
   ]
  },
  {
   "cell_type": "code",
   "execution_count": null,
   "id": "996e6200",
   "metadata": {},
   "outputs": [],
   "source": []
  },
  {
   "cell_type": "markdown",
   "id": "71816abe",
   "metadata": {},
   "source": [
    "### Check if any NANs in your dataset and fill them with a good filer ###"
   ]
  },
  {
   "cell_type": "code",
   "execution_count": 3,
   "id": "fee35922",
   "metadata": {
    "scrolled": true
   },
   "outputs": [
    {
     "data": {
      "text/plain": [
       "budget                  0\n",
       "genres                  0\n",
       "homepage                0\n",
       "id                      0\n",
       "keywords                0\n",
       "original_language       0\n",
       "original_title          0\n",
       "overview                0\n",
       "popularity              0\n",
       "production_companies    0\n",
       "production_countries    0\n",
       "release_date            0\n",
       "revenue                 0\n",
       "runtime                 0\n",
       "spoken_languages        0\n",
       "status                  0\n",
       "tagline                 0\n",
       "title                   0\n",
       "vote_average            0\n",
       "vote_count              0\n",
       "dtype: int64"
      ]
     },
     "execution_count": 3,
     "metadata": {},
     "output_type": "execute_result"
    }
   ],
   "source": [
    "data = data.replace(np.nan, \"-\") # replaced all of the null with \"-\"\n",
    "data.isna().sum() # check if there's a null value left"
   ]
  },
  {
   "cell_type": "code",
   "execution_count": 3,
   "id": "80c65e45",
   "metadata": {},
   "outputs": [
    {
     "data": {
      "text/plain": [
       "\"dataset.interpolate(method ='linear', limit_direction ='forward')\""
      ]
     },
     "execution_count": 3,
     "metadata": {},
     "output_type": "execute_result"
    }
   ],
   "source": [
    "\"\"\"\n",
    "We can fill the datasets by many ways. depending on the way we see the data. the filling method always depend on the \n",
    "understanding of the columns variables\n",
    "\"\"\"\n",
    "# mean is not always the best solution, if there is any outliers, it will be misleading. \n",
    "#more suitable with symmetric data distribution\n",
    "\"\"\"dataset.fillna(dataset.mean(), inplace = True) \"\"\"\n",
    "\n",
    "# median is a good solution with skewed data. but since we have categoricals variables I cannot use it\n",
    "\"\"\"dataset.fillna(dataset.median(), inplace = True)\"\"\"\n",
    "\n",
    "# also we can use linear interpolation to fill the nan data,\n",
    "# in this code snippet it will change the nan with the most suitable number, to follow the direction of increasing.\n",
    "\"\"\"dataset.interpolate(method ='linear', limit_direction ='forward')\"\"\""
   ]
  },
  {
   "cell_type": "code",
   "execution_count": null,
   "id": "d6fa9b10",
   "metadata": {},
   "outputs": [],
   "source": [
    "releasedate and runtime"
   ]
  },
  {
   "cell_type": "markdown",
   "id": "12f55f1b",
   "metadata": {},
   "source": [
    "### Discover the types of each columns and modify them if needed ###"
   ]
  },
  {
   "cell_type": "code",
   "execution_count": 4,
   "id": "b92120fe",
   "metadata": {
    "scrolled": true
   },
   "outputs": [
    {
     "name": "stdout",
     "output_type": "stream",
     "text": [
      "0    2009-12-10\n",
      "1    2007-05-19\n",
      "2    2015-10-26\n",
      "3    2012-07-16\n",
      "4    2012-03-07\n",
      "5    2007-05-01\n",
      "6    2010-11-24\n",
      "7    2015-04-22\n",
      "8    2009-07-07\n",
      "9    2016-03-23\n",
      "Name: release_date, dtype: object\n",
      "budget                    int64\n",
      "genres                   object\n",
      "homepage                 object\n",
      "id                        int64\n",
      "keywords                 object\n",
      "original_language        object\n",
      "original_title           object\n",
      "overview                 object\n",
      "popularity              float64\n",
      "production_companies     object\n",
      "production_countries     object\n",
      "release_date             object\n",
      "revenue                   int64\n",
      "runtime                  object\n",
      "spoken_languages         object\n",
      "status                   object\n",
      "tagline                  object\n",
      "title                    object\n",
      "vote_average            float64\n",
      "vote_count                int64\n",
      "dtype: object\n",
      "      budget                                             genres  \\\n",
      "0  237000000  [{\"id\": 28, \"name\": \"Action\"}, {\"id\": 12, \"nam...   \n",
      "1  300000000  [{\"id\": 12, \"name\": \"Adventure\"}, {\"id\": 14, \"...   \n",
      "\n",
      "                                       homepage     id  \\\n",
      "0                   http://www.avatarmovie.com/  19995   \n",
      "1  http://disney.go.com/disneypictures/pirates/    285   \n",
      "\n",
      "                                            keywords original_language  \\\n",
      "0  [{\"id\": 1463, \"name\": \"culture clash\"}, {\"id\":...                en   \n",
      "1  [{\"id\": 270, \"name\": \"ocean\"}, {\"id\": 726, \"na...                en   \n",
      "\n",
      "                             original_title  \\\n",
      "0                                    Avatar   \n",
      "1  Pirates of the Caribbean: At World's End   \n",
      "\n",
      "                                            overview  popularity  \\\n",
      "0  In the 22nd century, a paraplegic Marine is di...  150.437577   \n",
      "1  Captain Barbossa, long believed to be dead, ha...  139.082615   \n",
      "\n",
      "                                production_companies  \\\n",
      "0  [{\"name\": \"Ingenious Film Partners\", \"id\": 289...   \n",
      "1  [{\"name\": \"Walt Disney Pictures\", \"id\": 2}, {\"...   \n",
      "\n",
      "                                production_countries release_date     revenue  \\\n",
      "0  [{\"iso_3166_1\": \"US\", \"name\": \"United States o...   2009-12-10  2787965087   \n",
      "1  [{\"iso_3166_1\": \"US\", \"name\": \"United States o...   2007-05-19   961000000   \n",
      "\n",
      "  runtime                                   spoken_languages    status  \\\n",
      "0   162.0  [{\"iso_639_1\": \"en\", \"name\": \"English\"}, {\"iso...  Released   \n",
      "1   169.0           [{\"iso_639_1\": \"en\", \"name\": \"English\"}]  Released   \n",
      "\n",
      "                                          tagline  \\\n",
      "0                     Enter the World of Pandora.   \n",
      "1  At the end of the world, the adventure begins.   \n",
      "\n",
      "                                      title  vote_average  vote_count  \n",
      "0                                    Avatar           7.2       11800  \n",
      "1  Pirates of the Caribbean: At World's End           6.9        4500  \n",
      "budget                           int64\n",
      "genres                          object\n",
      "homepage                        object\n",
      "id                               int64\n",
      "keywords                        object\n",
      "original_language               object\n",
      "original_title                  object\n",
      "overview                        object\n",
      "popularity                     float64\n",
      "production_companies            object\n",
      "production_countries            object\n",
      "release_date            datetime64[ns]\n",
      "revenue                          int64\n",
      "runtime                         object\n",
      "spoken_languages                object\n",
      "status                          object\n",
      "tagline                         object\n",
      "title                           object\n",
      "vote_average                   float64\n",
      "vote_count                       int64\n",
      "dtype: object\n"
     ]
    }
   ],
   "source": [
    "print(data[\"release_date\"].head(10))\n",
    "print(data.dtypes) # check the type of each column\n",
    "\n",
    "data[\"release_date\"] = pd.to_datetime(data[\"release_date\"], format=\"%Y-%m-%d\", errors='coerce')\n",
    "print(data.head(2))\n",
    "print(data.dtypes)"
   ]
  },
  {
   "cell_type": "markdown",
   "id": "0d9cbbc6",
   "metadata": {},
   "source": [
    "### Give a very simple statistical analsys for the numerical columns ###"
   ]
  },
  {
   "cell_type": "code",
   "execution_count": 5,
   "id": "616b50c7-ef7f-4093-8e56-2c88a3297cf7",
   "metadata": {},
   "outputs": [
    {
     "name": "stdout",
     "output_type": "stream",
     "text": [
      "Index(['budget', 'id', 'popularity', 'revenue', 'vote_average', 'vote_count'], dtype='object')\n"
     ]
    }
   ],
   "source": [
    "numerical_cols = data.select_dtypes(include=[\"int64\", \"float64\"]).columns\n",
    "print(numerical_cols)"
   ]
  },
  {
   "cell_type": "markdown",
   "id": "5f8e9b11",
   "metadata": {},
   "source": [
    "### Calculate the mean rate for [1999, 1980, 2004, 2017] the movies grouped by years ###"
   ]
  },
  {
   "cell_type": "code",
   "execution_count": 10,
   "id": "0d212174-0da9-40bd-958b-6304611673a0",
   "metadata": {},
   "outputs": [
    {
     "name": "stdout",
     "output_type": "stream",
     "text": [
      "year\n",
      "1980.0    6.609091\n",
      "1999.0    6.110526\n",
      "2004.0    6.104412\n",
      "2017.0    7.400000\n",
      "Name: vote_average, dtype: float64\n"
     ]
    }
   ],
   "source": [
    "target_years = [1999, 1980, 2004, 2017]\n",
    "data[\"year\"] = data[\"release_date\"].dt.year\n",
    "filtered_data = data[data[\"year\"].isin(target_years)]\n",
    "mean_ratings = filtered_data.groupby(\"year\")[\"vote_average\"].mean()\n",
    "print(mean_ratings)"
   ]
  },
  {
   "cell_type": "markdown",
   "id": "edf582bd",
   "metadata": {},
   "source": [
    "### Rearange the dataframe based on revenue - budget values ###"
   ]
  },
  {
   "cell_type": "code",
   "execution_count": 13,
   "id": "117093cb",
   "metadata": {
    "scrolled": true
   },
   "outputs": [
    {
     "name": "stdout",
     "output_type": "stream",
     "text": [
      "                                             title     budget     revenue  \\\n",
      "0                                           Avatar  237000000  2787965087   \n",
      "25                                         Titanic  200000000  1845034188   \n",
      "28                                  Jurassic World  150000000  1513528810   \n",
      "44                                       Furious 7  190000000  1506249360   \n",
      "16                                    The Avengers  220000000  1519557910   \n",
      "7                          Avengers: Age of Ultron  280000000  1405403694   \n",
      "124                                         Frozen  150000000  1274219009   \n",
      "546                                        Minions   74000000  1156730962   \n",
      "329  The Lord of the Rings: The Return of the King   94000000  1118888979   \n",
      "31                                      Iron Man 3  200000000  1215439994   \n",
      "\n",
      "         profit  \n",
      "0    2550965087  \n",
      "25   1645034188  \n",
      "28   1363528810  \n",
      "44   1316249360  \n",
      "16   1299557910  \n",
      "7    1125403694  \n",
      "124  1124219009  \n",
      "546  1082730962  \n",
      "329  1024888979  \n",
      "31   1015439994  \n"
     ]
    }
   ],
   "source": [
    "data[\"profit\"] = data[\"revenue\"] - data[\"budget\"]\n",
    "data_sorted = data.sort_values(by=\"profit\", ascending=False)\n",
    "print(data_sorted[[\"title\", \"budget\", \"revenue\", \"profit\"]].head(10))"
   ]
  },
  {
   "cell_type": "markdown",
   "id": "57d706a4",
   "metadata": {},
   "source": [
    "### Allocate the year with the largest movies released in ['Action', 'Romance'] ###"
   ]
  },
  {
   "cell_type": "code",
   "execution_count": 14,
   "id": "dbf522b9",
   "metadata": {},
   "outputs": [
    {
     "name": "stdout",
     "output_type": "stream",
     "text": [
      "The year with the most 'Action' or 'Romance' movies is 2009.0 with 108 movies.\n"
     ]
    }
   ],
   "source": [
    "filtered = data[data[\"genres\"].str.contains(\"Action|Romance\", case=False, na=False)]\n",
    "movies_per_year = filtered[\"year\"].value_counts().sort_values(ascending=False)\n",
    "most_active_year = movies_per_year.idxmax()\n",
    "count = movies_per_year.max()\n",
    "\n",
    "print(f\"The year with the most 'Action' or 'Romance' movies is {most_active_year} with {count} movies.\")"
   ]
  },
  {
   "cell_type": "code",
   "execution_count": null,
   "id": "c84b3ef9",
   "metadata": {},
   "outputs": [],
   "source": []
  },
  {
   "cell_type": "markdown",
   "id": "21446eed",
   "metadata": {},
   "source": [
    "### Find the movies with top 5 revenue - budget value ###"
   ]
  },
  {
   "cell_type": "code",
   "execution_count": 15,
   "id": "b4dd7309",
   "metadata": {
    "scrolled": true
   },
   "outputs": [
    {
     "name": "stdout",
     "output_type": "stream",
     "text": [
      "             title     budget     revenue      profit\n",
      "0           Avatar  237000000  2787965087  2550965087\n",
      "25         Titanic  200000000  1845034188  1645034188\n",
      "28  Jurassic World  150000000  1513528810  1363528810\n",
      "44       Furious 7  190000000  1506249360  1316249360\n",
      "16    The Avengers  220000000  1519557910  1299557910\n"
     ]
    }
   ],
   "source": [
    "print(data_sorted[[\"title\", \"budget\", \"revenue\", \"profit\"]].head(5))"
   ]
  },
  {
   "cell_type": "code",
   "execution_count": null,
   "id": "74517a71",
   "metadata": {},
   "outputs": [],
   "source": []
  },
  {
   "cell_type": "code",
   "execution_count": null,
   "id": "9362b406",
   "metadata": {
    "scrolled": true
   },
   "outputs": [],
   "source": []
  },
  {
   "cell_type": "markdown",
   "id": "e90d6e26",
   "metadata": {},
   "source": [
    "### Find the year with the highest number of movies release ###"
   ]
  },
  {
   "cell_type": "code",
   "execution_count": null,
   "id": "fd638931",
   "metadata": {},
   "outputs": [],
   "source": []
  },
  {
   "cell_type": "code",
   "execution_count": null,
   "id": "8ae0da0e",
   "metadata": {
    "scrolled": true
   },
   "outputs": [],
   "source": []
  },
  {
   "cell_type": "markdown",
   "id": "09dc39c8",
   "metadata": {},
   "source": [
    "### Find the top 2 countries with the highest production movies number ###"
   ]
  },
  {
   "cell_type": "code",
   "execution_count": null,
   "id": "f5d4edda",
   "metadata": {
    "scrolled": true
   },
   "outputs": [],
   "source": []
  },
  {
   "cell_type": "markdown",
   "id": "4bcee5ee",
   "metadata": {},
   "source": [
    "### Find the top 1 company with the highest production movies number ###\n",
    "\n"
   ]
  },
  {
   "cell_type": "code",
   "execution_count": null,
   "id": "6a1c8af2",
   "metadata": {},
   "outputs": [],
   "source": []
  },
  {
   "cell_type": "markdown",
   "id": "02264f2c",
   "metadata": {},
   "source": [
    "### Is there any relation between the runtime and average vote value ### **\n"
   ]
  },
  {
   "cell_type": "code",
   "execution_count": null,
   "id": "6c158f84",
   "metadata": {},
   "outputs": [],
   "source": []
  },
  {
   "cell_type": "code",
   "execution_count": null,
   "id": "d6567765",
   "metadata": {},
   "outputs": [],
   "source": []
  },
  {
   "cell_type": "code",
   "execution_count": null,
   "id": "1f74d6f6",
   "metadata": {},
   "outputs": [],
   "source": []
  },
  {
   "cell_type": "markdown",
   "id": "9ab1e88e",
   "metadata": {},
   "source": [
    "### Find the top 5 movies with the highest rate, and find if there anything common between them. ###\n",
    "\n"
   ]
  },
  {
   "cell_type": "code",
   "execution_count": null,
   "id": "ac71514b",
   "metadata": {},
   "outputs": [],
   "source": [
    "\n",
    "\n"
   ]
  },
  {
   "cell_type": "code",
   "execution_count": null,
   "id": "3cdf969b",
   "metadata": {
    "scrolled": true
   },
   "outputs": [],
   "source": []
  },
  {
   "cell_type": "code",
   "execution_count": null,
   "id": "090806fc",
   "metadata": {},
   "outputs": [],
   "source": []
  },
  {
   "cell_type": "code",
   "execution_count": null,
   "id": "5894d041",
   "metadata": {},
   "outputs": [],
   "source": []
  },
  {
   "cell_type": "code",
   "execution_count": null,
   "id": "b26a4980",
   "metadata": {},
   "outputs": [],
   "source": []
  },
  {
   "cell_type": "code",
   "execution_count": null,
   "id": "20b4ab59",
   "metadata": {},
   "outputs": [],
   "source": []
  },
  {
   "cell_type": "code",
   "execution_count": null,
   "id": "b88715d9",
   "metadata": {},
   "outputs": [],
   "source": []
  },
  {
   "cell_type": "markdown",
   "id": "9958d3ea",
   "metadata": {},
   "source": [
    "### Find the most unsuccessful movie along time in terms of revenue - budget ###\n",
    "\n"
   ]
  },
  {
   "cell_type": "code",
   "execution_count": null,
   "id": "39eb9c98",
   "metadata": {
    "scrolled": true
   },
   "outputs": [],
   "source": []
  },
  {
   "cell_type": "markdown",
   "id": "017409d7",
   "metadata": {},
   "source": [
    "### Rearange the dataframe based on vote_average column values ###\n",
    "\n"
   ]
  },
  {
   "cell_type": "code",
   "execution_count": null,
   "id": "d5534675",
   "metadata": {
    "scrolled": true
   },
   "outputs": [],
   "source": []
  },
  {
   "cell_type": "markdown",
   "id": "7d304506",
   "metadata": {},
   "source": [
    "### Rearange the dataframe based on runtime column values ###\n",
    "\n"
   ]
  },
  {
   "cell_type": "code",
   "execution_count": null,
   "id": "4f12608e",
   "metadata": {
    "scrolled": true
   },
   "outputs": [],
   "source": []
  },
  {
   "cell_type": "markdown",
   "id": "1f665fac",
   "metadata": {},
   "source": [
    "### Find the top 5 successful years for the USA cinema based on the total income devided by number of movies  ###\n",
    "\n"
   ]
  },
  {
   "cell_type": "code",
   "execution_count": null,
   "id": "d1ff9315",
   "metadata": {
    "scrolled": true
   },
   "outputs": [],
   "source": []
  },
  {
   "cell_type": "markdown",
   "id": "aef73665",
   "metadata": {},
   "source": [
    "### Find the most succesfull movie in [USA, UK] ###\n",
    "\n"
   ]
  },
  {
   "cell_type": "code",
   "execution_count": null,
   "id": "03bfeff7",
   "metadata": {},
   "outputs": [],
   "source": []
  },
  {
   "cell_type": "code",
   "execution_count": null,
   "id": "1b66db5a",
   "metadata": {},
   "outputs": [],
   "source": []
  },
  {
   "cell_type": "markdown",
   "id": "44973df0",
   "metadata": {},
   "source": [
    "### In your opinion what is the highest variable that affects the revenue value (high coloration) ### PONUS\n",
    "\n"
   ]
  },
  {
   "cell_type": "code",
   "execution_count": null,
   "id": "662f16fd",
   "metadata": {},
   "outputs": [],
   "source": []
  },
  {
   "cell_type": "code",
   "execution_count": null,
   "id": "194ae58f",
   "metadata": {},
   "outputs": [],
   "source": []
  },
  {
   "cell_type": "markdown",
   "id": "51ed13e3",
   "metadata": {},
   "source": [
    "## Good Luck"
   ]
  }
 ],
 "metadata": {
  "kernelspec": {
   "display_name": "Python 3 (ipykernel)",
   "language": "python",
   "name": "python3"
  },
  "language_info": {
   "codemirror_mode": {
    "name": "ipython",
    "version": 3
   },
   "file_extension": ".py",
   "mimetype": "text/x-python",
   "name": "python",
   "nbconvert_exporter": "python",
   "pygments_lexer": "ipython3",
   "version": "3.13.2"
  }
 },
 "nbformat": 4,
 "nbformat_minor": 5
}
